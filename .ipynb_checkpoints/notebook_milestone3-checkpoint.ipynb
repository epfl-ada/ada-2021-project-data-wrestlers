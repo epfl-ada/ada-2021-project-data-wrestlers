{
 "cells": [
  {
   "cell_type": "markdown",
   "id": "571e5de5",
   "metadata": {
    "cell_id": "00000-d4b0627b-1e70-465a-a166-8f28b408c5b1",
    "deepnote_cell_type": "markdown",
    "tags": []
   },
   "source": [
    "# **ADA project**"
   ]
  },
  {
   "cell_type": "markdown",
   "id": "e2cec288",
   "metadata": {
    "cell_id": "00001-00fc98b7-9ccb-4742-b4be-20ac96bded50",
    "deepnote_cell_type": "markdown"
   },
   "source": [
    "* [Part I. Data Pre-Treatment](#PartI)    \n",
    "    * [1) Pre-processing Data](#I.1)\n",
    "        * [1.1) Import Data](#I.1.1)\n",
    "        * [1.2) Are quotations unique?](#I.1.2)\n",
    "        * [1.3) Punctuation Removal](#I.1.3)\n",
    "        * [1.4) Tokenization](#I.1.4)\n",
    "        * [1.5) Stop word removal](#I.1.5)\n",
    "        * [1.6) Lemmatization](#I.1.6)\n",
    "        * [1.7) Do we have only phase E quotations?](#I.1.7)\n",
    "    * [2) Pre-analyzing Data](#2)\n",
    "        * [2.1) Comparison before and after pre-processing](#I.2.1)\n",
    "            * [2.1.1) Analysis about characters](#I.2.1.1)\n",
    "            * [2.1.2) Analysis about words](#I.2.1.2)\n",
    "        * [2.2) Selection of quotations AND comparison before and after selection](#I.2.2)\n",
    "            * [2.2.1) Dropping quotations where the main speaker is \"None\"](#I.2.2.1)\n",
    "            * [2.2.2) Dropping quotations with too weak speaker probability](#I.2.2.2)\n",
    "            * [2.2.3) Dropping quotations which do not have a sufficient number of words](#I.2.3.3)\n",
    "        * [2.3) Filter english text](#I.2.3)\n",
    "        * [2.4) Final adjustments](#I.2.4)\n",
    "* [Part II. Tools for our project about Trump](#PartII) \n",
    "    * [1) Data](#II.1)\n",
    "    * [2) LDA function](#II.2)\n",
    "    * [3) Sentiment analysis](#II.3)\n",
    "    * [4) Additional data](#II.4)\n"
   ]
  },
  {
   "cell_type": "code",
   "execution_count": 1,
   "id": "11628b5c",
   "metadata": {
    "cell_id": "00002-28681f68-d871-4504-9763-bd33c59b2419",
    "deepnote_cell_type": "code",
    "deepnote_to_be_reexecuted": false,
    "execution_millis": 3837,
    "execution_start": 1638293999079,
    "source_hash": "dfedbebc"
   },
   "outputs": [
    {
     "name": "stderr",
     "output_type": "stream",
     "text": [
      "C:\\Users\\felic\\anaconda3\\envs\\ada\\lib\\site-packages\\gensim\\similarities\\__init__.py:15: UserWarning: The gensim.similarities.levenshtein submodule is disabled, because the optional Levenshtein package <https://pypi.org/project/python-Levenshtein/> is unavailable. Install Levenhstein (e.g. `pip install python-Levenshtein`) to suppress this warning.\n",
      "  warnings.warn(msg)\n"
     ]
    }
   ],
   "source": [
    "import bz2\n",
    "import json\n",
    "import pandas as pd\n",
    "import string\n",
    "import re\n",
    "import nltk\n",
    "from nltk.stem import WordNetLemmatizer\n",
    "import matplotlib.pyplot as plt\n",
    "import pickle\n",
    "import langdetect\n",
    "import flair"
   ]
  },
  {
   "cell_type": "markdown",
   "id": "a829d212",
   "metadata": {
    "cell_id": "00003-762dfed4-6321-4925-80ac-c7b6ef497dea",
    "deepnote_cell_type": "markdown"
   },
   "source": [
    "# Part I. Data Pre-Treatment <a class=\"anchor\" id=\"PartI\"></a>"
   ]
  },
  {
   "cell_type": "markdown",
   "id": "3a54cf00",
   "metadata": {
    "cell_id": "00004-751820f0-87e8-4a32-9c76-35fb628d94df",
    "deepnote_cell_type": "markdown"
   },
   "source": [
    "## 1) Pre-processing Data  <a class=\"anchor\" id=\"I.1\"></a>"
   ]
  },
  {
   "cell_type": "markdown",
   "id": "38bda415",
   "metadata": {
    "cell_id": "00005-c8133865-e4ea-4612-bba5-2dd4f08cc8b5",
    "deepnote_cell_type": "markdown"
   },
   "source": [
    "### 1.1) Import Data  <a class=\"anchor\" id=\"I.1.1\"></a>"
   ]
  },
  {
   "cell_type": "markdown",
   "id": "b2598d96",
   "metadata": {
    "cell_id": "00006-341e47d8-6388-4b76-a31a-a29177389ff6",
    "deepnote_cell_type": "markdown",
    "tags": []
   },
   "source": [
    "To avoid having to download and import all the data in this Jupyter Notebook, we opened all the data on Google Colab from Google Drive (cf. Mounting Google Drive) and we retrieved only the data that interested us for our project. We end up with two bz2 files: a file where Trump is the speaker and a file where the word \"trump\" appears in the quotation. The code used on Google Colab is the following:\n",
    "\n",
    "```\n",
    "import bz2\n",
    "import json\n",
    "\n",
    "input_files = [f'/content/drive/MyDrive/Quotebank/quotes-20{i}.json.bz2' for i in range(15, 21)]\n",
    "file_about_trump = '/content/quotes-about-trump.json.bz2'\n",
    "file_from_trump = '/content/quotes-from-trump.json.bz2'\n",
    "\n",
    "for input_file in input_files:\n",
    "    with bz2.open(input_file, 'rb') as s_file:\n",
    "        about_file = bz2.open(file_about_trump, 'ab')\n",
    "        from_file = bz2.open(file_from_trump, 'wb')\n",
    "        for instance in s_file:\n",
    "            instance = json.loads(instance) # loading a sample\n",
    "            trump_speaking = instance['speaker'].lower().__contains__('trump')\n",
    "            about_trump = instance['quotation'].lower().__contains__('trump')\n",
    "            if trump_speaking:\n",
    "                from_file.write((json.dumps(instance)+'\\n').encode('utf-8'))\n",
    "            elif about_trump:\n",
    "                about_file.write((json.dumps(instance)+'\\n').encode('utf-8'))\n",
    "        about_file.close()\n",
    "        from_file.close()\n",
    "\n",
    "```"
   ]
  },
  {
   "cell_type": "markdown",
   "id": "145403ae",
   "metadata": {
    "cell_id": "00008-5b5fd935-32a6-401c-ae0f-ec6cd61eb2ac",
    "deepnote_cell_type": "markdown"
   },
   "source": [
    "We open the first file where Trump is the speaker:"
   ]
  },
  {
   "cell_type": "code",
   "execution_count": 6,
   "id": "0a85ac3e",
   "metadata": {
    "cell_id": "00007-fb576125-104c-4d10-9607-d78c8b27c0f3",
    "deepnote_cell_type": "code"
   },
   "outputs": [
    {
     "data": {
      "text/html": [
       "<div>\n",
       "<style scoped>\n",
       "    .dataframe tbody tr th:only-of-type {\n",
       "        vertical-align: middle;\n",
       "    }\n",
       "\n",
       "    .dataframe tbody tr th {\n",
       "        vertical-align: top;\n",
       "    }\n",
       "\n",
       "    .dataframe thead th {\n",
       "        text-align: right;\n",
       "    }\n",
       "</style>\n",
       "<table border=\"1\" class=\"dataframe\">\n",
       "  <thead>\n",
       "    <tr style=\"text-align: right;\">\n",
       "      <th></th>\n",
       "      <th>quoteID</th>\n",
       "      <th>quotation</th>\n",
       "      <th>speaker</th>\n",
       "      <th>qids</th>\n",
       "      <th>date</th>\n",
       "      <th>numOccurrences</th>\n",
       "      <th>probas</th>\n",
       "      <th>urls</th>\n",
       "      <th>phase</th>\n",
       "    </tr>\n",
       "  </thead>\n",
       "  <tbody>\n",
       "    <tr>\n",
       "      <th>0</th>\n",
       "      <td>2015-07-17-029255</td>\n",
       "      <td>I am incredibly pleased that my message is res...</td>\n",
       "      <td>Donald Trump</td>\n",
       "      <td>[Q22686, Q27947481]</td>\n",
       "      <td>2015-07-17 10:28:58</td>\n",
       "      <td>2</td>\n",
       "      <td>[[Donald Trump, 0.8415], [None, 0.1356], [Rand...</td>\n",
       "      <td>[http://washingtontimes.com/news/2015/jul/17/d...</td>\n",
       "      <td>E</td>\n",
       "    </tr>\n",
       "    <tr>\n",
       "      <th>1</th>\n",
       "      <td>2015-12-10-038891</td>\n",
       "      <td>I don't want this person representing either t...</td>\n",
       "      <td>Donald Trump</td>\n",
       "      <td>[Q22686, Q27947481]</td>\n",
       "      <td>2015-12-10 16:20:00</td>\n",
       "      <td>1</td>\n",
       "      <td>[[Donald Trump, 0.509], [None, 0.491]]</td>\n",
       "      <td>[http://www.westernmorningnews.co.uk/Petition-...</td>\n",
       "      <td>E</td>\n",
       "    </tr>\n",
       "    <tr>\n",
       "      <th>2</th>\n",
       "      <td>2015-11-14-003251</td>\n",
       "      <td>And I will tell you what -- you can say what y...</td>\n",
       "      <td>Donald Trump</td>\n",
       "      <td>[Q22686, Q27947481]</td>\n",
       "      <td>2015-11-14 22:45:14</td>\n",
       "      <td>6</td>\n",
       "      <td>[[Donald Trump, 0.798], [None, 0.202]]</td>\n",
       "      <td>[http://news.yahoo.com/paris-wouldve-different...</td>\n",
       "      <td>E</td>\n",
       "    </tr>\n",
       "    <tr>\n",
       "      <th>3</th>\n",
       "      <td>2015-10-07-007656</td>\n",
       "      <td>angry at our leaders for not knowing what's ha...</td>\n",
       "      <td>Donald Trump</td>\n",
       "      <td>[Q22686, Q27947481]</td>\n",
       "      <td>2015-10-07 19:18:48</td>\n",
       "      <td>1</td>\n",
       "      <td>[[Donald Trump, 0.9064], [None, 0.0936]]</td>\n",
       "      <td>[http://www.radioiowa.com/2015/10/07/trump-rap...</td>\n",
       "      <td>E</td>\n",
       "    </tr>\n",
       "    <tr>\n",
       "      <th>4</th>\n",
       "      <td>2015-09-20-019882</td>\n",
       "      <td>I never called Jeb Bush and I never asked him ...</td>\n",
       "      <td>Donald Trump</td>\n",
       "      <td>[Q22686, Q27947481]</td>\n",
       "      <td>2015-09-20 14:01:28</td>\n",
       "      <td>2</td>\n",
       "      <td>[[Donald Trump, 0.5131], [None, 0.459], [Jeb B...</td>\n",
       "      <td>[http://tpmdc.talkingpointsmemo.com/livewire/d...</td>\n",
       "      <td>E</td>\n",
       "    </tr>\n",
       "  </tbody>\n",
       "</table>\n",
       "</div>"
      ],
      "text/plain": [
       "             quoteID                                          quotation  \\\n",
       "0  2015-07-17-029255  I am incredibly pleased that my message is res...   \n",
       "1  2015-12-10-038891  I don't want this person representing either t...   \n",
       "2  2015-11-14-003251  And I will tell you what -- you can say what y...   \n",
       "3  2015-10-07-007656  angry at our leaders for not knowing what's ha...   \n",
       "4  2015-09-20-019882  I never called Jeb Bush and I never asked him ...   \n",
       "\n",
       "        speaker                 qids                 date  numOccurrences  \\\n",
       "0  Donald Trump  [Q22686, Q27947481]  2015-07-17 10:28:58               2   \n",
       "1  Donald Trump  [Q22686, Q27947481]  2015-12-10 16:20:00               1   \n",
       "2  Donald Trump  [Q22686, Q27947481]  2015-11-14 22:45:14               6   \n",
       "3  Donald Trump  [Q22686, Q27947481]  2015-10-07 19:18:48               1   \n",
       "4  Donald Trump  [Q22686, Q27947481]  2015-09-20 14:01:28               2   \n",
       "\n",
       "                                              probas  \\\n",
       "0  [[Donald Trump, 0.8415], [None, 0.1356], [Rand...   \n",
       "1             [[Donald Trump, 0.509], [None, 0.491]]   \n",
       "2             [[Donald Trump, 0.798], [None, 0.202]]   \n",
       "3           [[Donald Trump, 0.9064], [None, 0.0936]]   \n",
       "4  [[Donald Trump, 0.5131], [None, 0.459], [Jeb B...   \n",
       "\n",
       "                                                urls phase  \n",
       "0  [http://washingtontimes.com/news/2015/jul/17/d...     E  \n",
       "1  [http://www.westernmorningnews.co.uk/Petition-...     E  \n",
       "2  [http://news.yahoo.com/paris-wouldve-different...     E  \n",
       "3  [http://www.radioiowa.com/2015/10/07/trump-rap...     E  \n",
       "4  [http://tpmdc.talkingpointsmemo.com/livewire/d...     E  "
      ]
     },
     "execution_count": 6,
     "metadata": {},
     "output_type": "execute_result"
    }
   ],
   "source": [
    "data = []\n",
    "with bz2.open('data/quotes-from-trump.json.bz2', \"rt\") as data_file :\n",
    "    for line in data_file :\n",
    "        try :\n",
    "            lignedata = json.loads(line)\n",
    "            data.append(lignedata)\n",
    "        except:\n",
    "            continue\n",
    "\n",
    "df_from = pd.DataFrame()\n",
    "\n",
    "df_from[\"quoteID\"] = list(map(lambda d : d[\"quoteID\"], data))\n",
    "df_from[\"quotation\"] = list(map(lambda d : d[\"quotation\"], data))\n",
    "df_from[\"speaker\"] = list(map(lambda d : d[\"speaker\"], data))\n",
    "df_from[\"qids\"] = list(map(lambda d : d[\"qids\"], data))\n",
    "df_from[\"date\"] = list(map(lambda d : d[\"date\"], data))\n",
    "df_from[\"numOccurrences\"] = list(map(lambda d : d[\"numOccurrences\"], data))\n",
    "df_from[\"probas\"] = list(map(lambda d : d[\"probas\"], data))\n",
    "df_from[\"urls\"] = list(map(lambda d : d[\"urls\"], data))\n",
    "df_from[\"phase\"] = list(map(lambda d : d[\"phase\"], data))\n",
    "\n",
    "df_from.head()"
   ]
  },
  {
   "cell_type": "code",
   "execution_count": 7,
   "id": "d3b5ad8c",
   "metadata": {
    "cell_id": "00010-09a47d87-92d4-4fe3-9ccb-4e6c24fa3cff",
    "deepnote_cell_type": "code"
   },
   "outputs": [
    {
     "name": "stdout",
     "output_type": "stream",
     "text": [
      "['Donald Trump' 'DONALD Trump' 'DONALD TRUMP' 'President Donald Trump'\n",
      " 'Donald J. Trump' 'Ivanka Trump' 'Andreas Trumpp' 'President Trump'\n",
      " 'donald trump' 'Ivana Trump' 'Donald Trump Jr. .' 'Donnie Trumpet'\n",
      " 'Melania Trump' 'Joan Trumpauer Mulholland' 'Judd Trump' 'Eric Trump'\n",
      " 'Donald John Trump' 'Melania Knauss-Trump' 'president Trump'\n",
      " 'Melania trump' 'PRESIDENT TRUMP' 'Donald trump' 'JUDD TRUMP'\n",
      " 'Barron Trump' 'Tiffany Trump' 'Donald Trump , Jr. .'\n",
      " 'president Donald Trump' 'Maryanne Trump Barry' 'Lara Trump'\n",
      " 'President Donald J. Trump' 'Lara trump' 'Bob Trumpy' 'William Trump'\n",
      " 'Trumpet Black' 'Donald Trump Jr' 'Baroness Trumpington'\n",
      " 'Elizabeth Trump' 'MELANIA TRUMP' 'Donald J Trump' 'Blaine Trump'\n",
      " 'Simon Trumper' 'Donald L. Trump' 'DOnald Trump' 'Vanessa Trump'\n",
      " 'Timmy Trumpet' 'Jean Barker , Baroness Trumpington' 'DONALD J. TRUMP'\n",
      " 'Tiffany Ariana Trump' 'ivanka trump' 'President Donald John Trump'\n",
      " 'melania trump' 'IVANKA TRUMP' 'Donald J. Trump Jr. .'\n",
      " 'president Donald J. Trump' 'president Donald trump' 'Ivana Marie Trump'\n",
      " 'JUDD Trump' 'Barron William Trump' 'DONALD TRUMP JR. .' 'tiffany trump'\n",
      " 'donald trump jr' 'ERIC TRUMP' 'DONNIE TRUMPET' 'Robert Trump'\n",
      " 'Katie Trumpener' 'president TRUMP' 'PRESIDENT Donald Trump'\n",
      " 'president trump' 'Eric trump' 'PRESIDENT Trump' 'donald trump jr. .'\n",
      " 'President trump' 'Lara Lea Trump' 'PRESIDENT DONALD TRUMP'\n",
      " 'President TRUMP' 'DONALD J TRUMP' 'IVANKA Trump' 'eric trump'\n",
      " 'president donald trump' 'PRESIDENT DONALD Trump' 'Charles S. Trump'\n",
      " 'PRESIDENT Donald J. Trump' 'Dalius Trumpa' 'PRESIDENT DONALD J. Trump'\n",
      " 'Ivanka trump' 'president Donald John Trump' 'PRESIDENT trump'\n",
      " 'President Donald trump' 'Donald Trump jr. .' 'ivanka Trump'\n",
      " 'President DONALD TRUMP' 'Elizabeth Trump Grau' 'Donald J. Trump , Jr. .'\n",
      " 'President donald Trump' 'PRESIDENT donald TRUMP' 'President tRump'\n",
      " 'Donald TRUMP' 'Donald tRump' 'donald Trump' 'Donald trump Jr. .'\n",
      " 'BARRON TRUMP' 'Bianca Trump' 'Donald John Trump Jr. .' 'IVANA Trump'\n",
      " 'DONALD Trump Jr' 'MELANIA Trump' 'PRESIDENT DONALD J. TRUMP'\n",
      " 'DONALD TRUMP JR' 'LARA TRUMP' 'Donald TRump' 'Gillian Trumper'\n",
      " 'pResident Trump' 'Donald J. tRump' 'Elizabeth Joan Trump' 'Walter Trump'\n",
      " 'President donald trump' 'Teanna Trump' 'lara trump' 'ERIC Trump'\n",
      " 'Sebastian Trump' 'President Donald TRump' 'President DOnald Trump'\n",
      " 'Spencer Trump']\n"
     ]
    }
   ],
   "source": [
    "# Checking that the speaker is correct\n",
    "print(df_from.speaker.unique())"
   ]
  },
  {
   "cell_type": "code",
   "execution_count": 8,
   "id": "13e6d9cb",
   "metadata": {
    "cell_id": "00011-c3d8ca67-701d-4b1b-aa68-8e986ddc6071",
    "deepnote_cell_type": "code"
   },
   "outputs": [
    {
     "name": "stdout",
     "output_type": "stream",
     "text": [
      "Removed 7.1% of quotes\n"
     ]
    }
   ],
   "source": [
    "# Fixing the speaker so that we only have quotes spoken by Donald Trump\n",
    "num_quotes_before = len(df_from)\n",
    "df_from = df_from[df_from.speaker.str.lower().isin([\"donald trump\", \"president donald trump\", \"president trump\", \"donald j. trump\", \"president donald j. trump\", \"donald j trump\", \"donald john trump\", \"president donald john trump\"])]\n",
    "num_quotes_after = len(df_from)\n",
    "\n",
    "print(f\"Removed {round((num_quotes_before-num_quotes_after)/num_quotes_before*100, 1)}% of quotes\")"
   ]
  },
  {
   "cell_type": "markdown",
   "id": "c1f05960",
   "metadata": {
    "cell_id": "00012-50b44cff-6767-4a3d-8523-54a9f7e44c3e",
    "deepnote_cell_type": "markdown"
   },
   "source": [
    "Secondly, we open the second file where the quotation is about Trump:\n",
    "\n",
    "We made the choice to select the quotes about Trump in a quite general way (contains 'trump') so as not to lose too many quotes. We are aware that some of those quotes will not actually be about Donald Trump but we expect that those will not influence the results much."
   ]
  },
  {
   "cell_type": "code",
   "execution_count": 9,
   "id": "e5d4d558",
   "metadata": {
    "cell_id": "00013-ab3cfb5c-ba72-4bbd-b12c-6b4675a276e4",
    "deepnote_cell_type": "code",
    "deepnote_output_heights": [
     177
    ]
   },
   "outputs": [
    {
     "data": {
      "text/html": [
       "<div>\n",
       "<style scoped>\n",
       "    .dataframe tbody tr th:only-of-type {\n",
       "        vertical-align: middle;\n",
       "    }\n",
       "\n",
       "    .dataframe tbody tr th {\n",
       "        vertical-align: top;\n",
       "    }\n",
       "\n",
       "    .dataframe thead th {\n",
       "        text-align: right;\n",
       "    }\n",
       "</style>\n",
       "<table border=\"1\" class=\"dataframe\">\n",
       "  <thead>\n",
       "    <tr style=\"text-align: right;\">\n",
       "      <th></th>\n",
       "      <th>quoteID</th>\n",
       "      <th>quotation</th>\n",
       "      <th>speaker</th>\n",
       "      <th>qids</th>\n",
       "      <th>date</th>\n",
       "      <th>numOccurrences</th>\n",
       "      <th>probas</th>\n",
       "      <th>urls</th>\n",
       "      <th>phase</th>\n",
       "    </tr>\n",
       "  </thead>\n",
       "  <tbody>\n",
       "    <tr>\n",
       "      <th>0</th>\n",
       "      <td>2015-06-18-018819</td>\n",
       "      <td>How long do you think it'll take for Donald Tr...</td>\n",
       "      <td>Chris Matthews</td>\n",
       "      <td>[Q15735939, Q25189328, Q5107375, Q5110828, Q51...</td>\n",
       "      <td>2015-06-18 10:00:00</td>\n",
       "      <td>1</td>\n",
       "      <td>[[Chris Matthews, 0.3869], [None, 0.3198], [Do...</td>\n",
       "      <td>[http://talkingpointsmemo.com/dc/donald-trump-...</td>\n",
       "      <td>E</td>\n",
       "    </tr>\n",
       "    <tr>\n",
       "      <th>1</th>\n",
       "      <td>2015-09-16-006359</td>\n",
       "      <td>And I'm just pointing out the absurd on both s...</td>\n",
       "      <td>Kathleen Madigan</td>\n",
       "      <td>[Q6376814]</td>\n",
       "      <td>2015-09-16 05:44:37</td>\n",
       "      <td>1</td>\n",
       "      <td>[[Kathleen Madigan, 0.8025], [None, 0.1975]]</td>\n",
       "      <td>[http://northjersey.com/arts-and-entertainment...</td>\n",
       "      <td>E</td>\n",
       "    </tr>\n",
       "    <tr>\n",
       "      <th>2</th>\n",
       "      <td>2015-05-11-003168</td>\n",
       "      <td>And you had Michael Jackson roller skating, an...</td>\n",
       "      <td>Jim McMahon</td>\n",
       "      <td>[Q1689159, Q17306267, Q6196886]</td>\n",
       "      <td>2015-05-11 02:03:27</td>\n",
       "      <td>1</td>\n",
       "      <td>[[Jim McMahon, 0.8731], [None, 0.1232], [Linda...</td>\n",
       "      <td>[http://www.seattletimes.com/seattle-news/bell...</td>\n",
       "      <td>E</td>\n",
       "    </tr>\n",
       "    <tr>\n",
       "      <th>3</th>\n",
       "      <td>2015-10-20-044420</td>\n",
       "      <td>I like that he's not spinning things. He seems...</td>\n",
       "      <td>None</td>\n",
       "      <td>[]</td>\n",
       "      <td>2015-10-20 23:46:58</td>\n",
       "      <td>1</td>\n",
       "      <td>[[None, 0.7832], [Ben Carson, 0.0755], [Bobby ...</td>\n",
       "      <td>[http://detroitnews.com/story/news/politics/20...</td>\n",
       "      <td>E</td>\n",
       "    </tr>\n",
       "    <tr>\n",
       "      <th>4</th>\n",
       "      <td>2015-12-22-031341</td>\n",
       "      <td>I promise, I won't talk about Trump again,</td>\n",
       "      <td>Jeb Bush</td>\n",
       "      <td>[Q221997]</td>\n",
       "      <td>2015-12-22 20:43:59</td>\n",
       "      <td>10</td>\n",
       "      <td>[[Jeb Bush, 0.7816], [None, 0.1677], [Donald T...</td>\n",
       "      <td>[http://www.politico.com/story/2015/12/jeb-bus...</td>\n",
       "      <td>E</td>\n",
       "    </tr>\n",
       "  </tbody>\n",
       "</table>\n",
       "</div>"
      ],
      "text/plain": [
       "             quoteID                                          quotation  \\\n",
       "0  2015-06-18-018819  How long do you think it'll take for Donald Tr...   \n",
       "1  2015-09-16-006359  And I'm just pointing out the absurd on both s...   \n",
       "2  2015-05-11-003168  And you had Michael Jackson roller skating, an...   \n",
       "3  2015-10-20-044420  I like that he's not spinning things. He seems...   \n",
       "4  2015-12-22-031341         I promise, I won't talk about Trump again,   \n",
       "\n",
       "            speaker                                               qids  \\\n",
       "0    Chris Matthews  [Q15735939, Q25189328, Q5107375, Q5110828, Q51...   \n",
       "1  Kathleen Madigan                                         [Q6376814]   \n",
       "2       Jim McMahon                    [Q1689159, Q17306267, Q6196886]   \n",
       "3              None                                                 []   \n",
       "4          Jeb Bush                                          [Q221997]   \n",
       "\n",
       "                  date  numOccurrences  \\\n",
       "0  2015-06-18 10:00:00               1   \n",
       "1  2015-09-16 05:44:37               1   \n",
       "2  2015-05-11 02:03:27               1   \n",
       "3  2015-10-20 23:46:58               1   \n",
       "4  2015-12-22 20:43:59              10   \n",
       "\n",
       "                                              probas  \\\n",
       "0  [[Chris Matthews, 0.3869], [None, 0.3198], [Do...   \n",
       "1       [[Kathleen Madigan, 0.8025], [None, 0.1975]]   \n",
       "2  [[Jim McMahon, 0.8731], [None, 0.1232], [Linda...   \n",
       "3  [[None, 0.7832], [Ben Carson, 0.0755], [Bobby ...   \n",
       "4  [[Jeb Bush, 0.7816], [None, 0.1677], [Donald T...   \n",
       "\n",
       "                                                urls phase  \n",
       "0  [http://talkingpointsmemo.com/dc/donald-trump-...     E  \n",
       "1  [http://northjersey.com/arts-and-entertainment...     E  \n",
       "2  [http://www.seattletimes.com/seattle-news/bell...     E  \n",
       "3  [http://detroitnews.com/story/news/politics/20...     E  \n",
       "4  [http://www.politico.com/story/2015/12/jeb-bus...     E  "
      ]
     },
     "execution_count": 9,
     "metadata": {},
     "output_type": "execute_result"
    }
   ],
   "source": [
    "data = []\n",
    "with bz2.open('data/quotes-about-trump.json.bz2', \"rt\") as data_file :\n",
    "    for line in data_file :\n",
    "        try :\n",
    "            lignedata = json.loads(line)\n",
    "            data.append(lignedata)\n",
    "        except:\n",
    "            continue\n",
    "\n",
    "df_about = pd.DataFrame()\n",
    "\n",
    "df_about[\"quoteID\"] = list(map(lambda d : d[\"quoteID\"], data))\n",
    "df_about[\"quotation\"] = list(map(lambda d : d[\"quotation\"], data))\n",
    "df_about[\"speaker\"] = list(map(lambda d : d[\"speaker\"], data))\n",
    "df_about[\"qids\"] = list(map(lambda d : d[\"qids\"], data))\n",
    "df_about[\"date\"] = list(map(lambda d : d[\"date\"], data))\n",
    "df_about[\"numOccurrences\"] = list(map(lambda d : d[\"numOccurrences\"], data))\n",
    "df_about[\"probas\"] = list(map(lambda d : d[\"probas\"], data))\n",
    "df_about[\"urls\"] = list(map(lambda d : d[\"urls\"], data))\n",
    "df_about[\"phase\"] = list(map(lambda d : d[\"phase\"], data))\n",
    "\n",
    "df_about.head()"
   ]
  },
  {
   "cell_type": "markdown",
   "id": "e5304632",
   "metadata": {
    "cell_id": "00014-c942b97d-4402-4ee1-897d-a9fb24601640",
    "deepnote_cell_type": "markdown"
   },
   "source": [
    "Finally we combine the two dataframes in a single one:"
   ]
  },
  {
   "cell_type": "code",
   "execution_count": 10,
   "id": "0f87d8d3",
   "metadata": {
    "cell_id": "00015-6c7a6620-0ab6-4e9d-bde9-cec54205ce09",
    "deepnote_cell_type": "code",
    "deepnote_output_heights": [
     177
    ]
   },
   "outputs": [
    {
     "data": {
      "text/html": [
       "<div>\n",
       "<style scoped>\n",
       "    .dataframe tbody tr th:only-of-type {\n",
       "        vertical-align: middle;\n",
       "    }\n",
       "\n",
       "    .dataframe tbody tr th {\n",
       "        vertical-align: top;\n",
       "    }\n",
       "\n",
       "    .dataframe thead th {\n",
       "        text-align: right;\n",
       "    }\n",
       "</style>\n",
       "<table border=\"1\" class=\"dataframe\">\n",
       "  <thead>\n",
       "    <tr style=\"text-align: right;\">\n",
       "      <th></th>\n",
       "      <th>quoteID</th>\n",
       "      <th>quotation</th>\n",
       "      <th>speaker</th>\n",
       "      <th>qids</th>\n",
       "      <th>date</th>\n",
       "      <th>numOccurrences</th>\n",
       "      <th>probas</th>\n",
       "      <th>urls</th>\n",
       "      <th>phase</th>\n",
       "    </tr>\n",
       "  </thead>\n",
       "  <tbody>\n",
       "    <tr>\n",
       "      <th>0</th>\n",
       "      <td>2015-06-18-018819</td>\n",
       "      <td>How long do you think it'll take for Donald Tr...</td>\n",
       "      <td>Chris Matthews</td>\n",
       "      <td>[Q15735939, Q25189328, Q5107375, Q5110828, Q51...</td>\n",
       "      <td>2015-06-18 10:00:00</td>\n",
       "      <td>1</td>\n",
       "      <td>[[Chris Matthews, 0.3869], [None, 0.3198], [Do...</td>\n",
       "      <td>[http://talkingpointsmemo.com/dc/donald-trump-...</td>\n",
       "      <td>E</td>\n",
       "    </tr>\n",
       "    <tr>\n",
       "      <th>1</th>\n",
       "      <td>2015-09-16-006359</td>\n",
       "      <td>And I'm just pointing out the absurd on both s...</td>\n",
       "      <td>Kathleen Madigan</td>\n",
       "      <td>[Q6376814]</td>\n",
       "      <td>2015-09-16 05:44:37</td>\n",
       "      <td>1</td>\n",
       "      <td>[[Kathleen Madigan, 0.8025], [None, 0.1975]]</td>\n",
       "      <td>[http://northjersey.com/arts-and-entertainment...</td>\n",
       "      <td>E</td>\n",
       "    </tr>\n",
       "    <tr>\n",
       "      <th>2</th>\n",
       "      <td>2015-05-11-003168</td>\n",
       "      <td>And you had Michael Jackson roller skating, an...</td>\n",
       "      <td>Jim McMahon</td>\n",
       "      <td>[Q1689159, Q17306267, Q6196886]</td>\n",
       "      <td>2015-05-11 02:03:27</td>\n",
       "      <td>1</td>\n",
       "      <td>[[Jim McMahon, 0.8731], [None, 0.1232], [Linda...</td>\n",
       "      <td>[http://www.seattletimes.com/seattle-news/bell...</td>\n",
       "      <td>E</td>\n",
       "    </tr>\n",
       "    <tr>\n",
       "      <th>3</th>\n",
       "      <td>2015-10-20-044420</td>\n",
       "      <td>I like that he's not spinning things. He seems...</td>\n",
       "      <td>None</td>\n",
       "      <td>[]</td>\n",
       "      <td>2015-10-20 23:46:58</td>\n",
       "      <td>1</td>\n",
       "      <td>[[None, 0.7832], [Ben Carson, 0.0755], [Bobby ...</td>\n",
       "      <td>[http://detroitnews.com/story/news/politics/20...</td>\n",
       "      <td>E</td>\n",
       "    </tr>\n",
       "    <tr>\n",
       "      <th>4</th>\n",
       "      <td>2015-12-22-031341</td>\n",
       "      <td>I promise, I won't talk about Trump again,</td>\n",
       "      <td>Jeb Bush</td>\n",
       "      <td>[Q221997]</td>\n",
       "      <td>2015-12-22 20:43:59</td>\n",
       "      <td>10</td>\n",
       "      <td>[[Jeb Bush, 0.7816], [None, 0.1677], [Donald T...</td>\n",
       "      <td>[http://www.politico.com/story/2015/12/jeb-bus...</td>\n",
       "      <td>E</td>\n",
       "    </tr>\n",
       "  </tbody>\n",
       "</table>\n",
       "</div>"
      ],
      "text/plain": [
       "             quoteID                                          quotation  \\\n",
       "0  2015-06-18-018819  How long do you think it'll take for Donald Tr...   \n",
       "1  2015-09-16-006359  And I'm just pointing out the absurd on both s...   \n",
       "2  2015-05-11-003168  And you had Michael Jackson roller skating, an...   \n",
       "3  2015-10-20-044420  I like that he's not spinning things. He seems...   \n",
       "4  2015-12-22-031341         I promise, I won't talk about Trump again,   \n",
       "\n",
       "            speaker                                               qids  \\\n",
       "0    Chris Matthews  [Q15735939, Q25189328, Q5107375, Q5110828, Q51...   \n",
       "1  Kathleen Madigan                                         [Q6376814]   \n",
       "2       Jim McMahon                    [Q1689159, Q17306267, Q6196886]   \n",
       "3              None                                                 []   \n",
       "4          Jeb Bush                                          [Q221997]   \n",
       "\n",
       "                  date  numOccurrences  \\\n",
       "0  2015-06-18 10:00:00               1   \n",
       "1  2015-09-16 05:44:37               1   \n",
       "2  2015-05-11 02:03:27               1   \n",
       "3  2015-10-20 23:46:58               1   \n",
       "4  2015-12-22 20:43:59              10   \n",
       "\n",
       "                                              probas  \\\n",
       "0  [[Chris Matthews, 0.3869], [None, 0.3198], [Do...   \n",
       "1       [[Kathleen Madigan, 0.8025], [None, 0.1975]]   \n",
       "2  [[Jim McMahon, 0.8731], [None, 0.1232], [Linda...   \n",
       "3  [[None, 0.7832], [Ben Carson, 0.0755], [Bobby ...   \n",
       "4  [[Jeb Bush, 0.7816], [None, 0.1677], [Donald T...   \n",
       "\n",
       "                                                urls phase  \n",
       "0  [http://talkingpointsmemo.com/dc/donald-trump-...     E  \n",
       "1  [http://northjersey.com/arts-and-entertainment...     E  \n",
       "2  [http://www.seattletimes.com/seattle-news/bell...     E  \n",
       "3  [http://detroitnews.com/story/news/politics/20...     E  \n",
       "4  [http://www.politico.com/story/2015/12/jeb-bus...     E  "
      ]
     },
     "execution_count": 10,
     "metadata": {},
     "output_type": "execute_result"
    }
   ],
   "source": [
    "# Concatenate the two DataFrame in a single one for pre-processing\n",
    "df = pd.concat([df_about, df_from], axis=0)\n",
    "\n",
    "df.head()"
   ]
  },
  {
   "cell_type": "markdown",
   "id": "e4f04d14",
   "metadata": {
    "cell_id": "00016-3c4414a5-19d3-443a-9b96-0320d427b494",
    "deepnote_cell_type": "markdown"
   },
   "source": [
    "### 1.2) Are quotations unique?  <a class=\"anchor\" id=\"I.1.2\"></a>"
   ]
  },
  {
   "cell_type": "code",
   "execution_count": 11,
   "id": "0f3efacc",
   "metadata": {
    "cell_id": "00017-1c49b14d-b718-4bbc-8be0-56ef6209c4aa",
    "deepnote_cell_type": "code"
   },
   "outputs": [
    {
     "name": "stdout",
     "output_type": "stream",
     "text": [
      "Are quotations unique? True\n"
     ]
    }
   ],
   "source": [
    "print(f\"Are quotations unique? {df.quotation.is_unique}\")"
   ]
  },
  {
   "cell_type": "markdown",
   "id": "37bd3f2c",
   "metadata": {
    "cell_id": "00018-e2c0261b-3982-49ac-9586-33f661ffaa40",
    "deepnote_cell_type": "markdown"
   },
   "source": [
    "### 1.3) Punctuation Removal  <a class=\"anchor\" id=\"I.1.3\"></a>"
   ]
  },
  {
   "cell_type": "markdown",
   "id": "ba01608f",
   "metadata": {
    "cell_id": "00019-594bb3f5-097f-46c3-906f-dc97a7bc706d",
    "deepnote_cell_type": "markdown"
   },
   "source": [
    "Removing punctuation because it doesn't add semantic meaning"
   ]
  },
  {
   "cell_type": "code",
   "execution_count": 12,
   "id": "6a0d9446",
   "metadata": {
    "cell_id": "00020-ca394c52-3861-4606-8b66-dda70091f53e",
    "deepnote_cell_type": "code",
    "deepnote_output_heights": [
     177
    ]
   },
   "outputs": [
    {
     "data": {
      "text/html": [
       "<div>\n",
       "<style scoped>\n",
       "    .dataframe tbody tr th:only-of-type {\n",
       "        vertical-align: middle;\n",
       "    }\n",
       "\n",
       "    .dataframe tbody tr th {\n",
       "        vertical-align: top;\n",
       "    }\n",
       "\n",
       "    .dataframe thead th {\n",
       "        text-align: right;\n",
       "    }\n",
       "</style>\n",
       "<table border=\"1\" class=\"dataframe\">\n",
       "  <thead>\n",
       "    <tr style=\"text-align: right;\">\n",
       "      <th></th>\n",
       "      <th>quoteID</th>\n",
       "      <th>quotation</th>\n",
       "      <th>speaker</th>\n",
       "      <th>qids</th>\n",
       "      <th>date</th>\n",
       "      <th>numOccurrences</th>\n",
       "      <th>probas</th>\n",
       "      <th>urls</th>\n",
       "      <th>phase</th>\n",
       "      <th>quote_punctfree</th>\n",
       "    </tr>\n",
       "  </thead>\n",
       "  <tbody>\n",
       "    <tr>\n",
       "      <th>0</th>\n",
       "      <td>2015-06-18-018819</td>\n",
       "      <td>How long do you think it'll take for Donald Tr...</td>\n",
       "      <td>Chris Matthews</td>\n",
       "      <td>[Q15735939, Q25189328, Q5107375, Q5110828, Q51...</td>\n",
       "      <td>2015-06-18 10:00:00</td>\n",
       "      <td>1</td>\n",
       "      <td>[[Chris Matthews, 0.3869], [None, 0.3198], [Do...</td>\n",
       "      <td>[http://talkingpointsmemo.com/dc/donald-trump-...</td>\n",
       "      <td>E</td>\n",
       "      <td>How long do you think itll take for Donald Tru...</td>\n",
       "    </tr>\n",
       "    <tr>\n",
       "      <th>1</th>\n",
       "      <td>2015-09-16-006359</td>\n",
       "      <td>And I'm just pointing out the absurd on both s...</td>\n",
       "      <td>Kathleen Madigan</td>\n",
       "      <td>[Q6376814]</td>\n",
       "      <td>2015-09-16 05:44:37</td>\n",
       "      <td>1</td>\n",
       "      <td>[[Kathleen Madigan, 0.8025], [None, 0.1975]]</td>\n",
       "      <td>[http://northjersey.com/arts-and-entertainment...</td>\n",
       "      <td>E</td>\n",
       "      <td>And Im just pointing out the absurd on both si...</td>\n",
       "    </tr>\n",
       "    <tr>\n",
       "      <th>2</th>\n",
       "      <td>2015-05-11-003168</td>\n",
       "      <td>And you had Michael Jackson roller skating, an...</td>\n",
       "      <td>Jim McMahon</td>\n",
       "      <td>[Q1689159, Q17306267, Q6196886]</td>\n",
       "      <td>2015-05-11 02:03:27</td>\n",
       "      <td>1</td>\n",
       "      <td>[[Jim McMahon, 0.8731], [None, 0.1232], [Linda...</td>\n",
       "      <td>[http://www.seattletimes.com/seattle-news/bell...</td>\n",
       "      <td>E</td>\n",
       "      <td>And you had Michael Jackson roller skating and...</td>\n",
       "    </tr>\n",
       "    <tr>\n",
       "      <th>3</th>\n",
       "      <td>2015-10-20-044420</td>\n",
       "      <td>I like that he's not spinning things. He seems...</td>\n",
       "      <td>None</td>\n",
       "      <td>[]</td>\n",
       "      <td>2015-10-20 23:46:58</td>\n",
       "      <td>1</td>\n",
       "      <td>[[None, 0.7832], [Ben Carson, 0.0755], [Bobby ...</td>\n",
       "      <td>[http://detroitnews.com/story/news/politics/20...</td>\n",
       "      <td>E</td>\n",
       "      <td>I like that hes not spinning things He seems g...</td>\n",
       "    </tr>\n",
       "    <tr>\n",
       "      <th>4</th>\n",
       "      <td>2015-12-22-031341</td>\n",
       "      <td>I promise, I won't talk about Trump again,</td>\n",
       "      <td>Jeb Bush</td>\n",
       "      <td>[Q221997]</td>\n",
       "      <td>2015-12-22 20:43:59</td>\n",
       "      <td>10</td>\n",
       "      <td>[[Jeb Bush, 0.7816], [None, 0.1677], [Donald T...</td>\n",
       "      <td>[http://www.politico.com/story/2015/12/jeb-bus...</td>\n",
       "      <td>E</td>\n",
       "      <td>I promise I wont talk about Trump again</td>\n",
       "    </tr>\n",
       "  </tbody>\n",
       "</table>\n",
       "</div>"
      ],
      "text/plain": [
       "             quoteID                                          quotation  \\\n",
       "0  2015-06-18-018819  How long do you think it'll take for Donald Tr...   \n",
       "1  2015-09-16-006359  And I'm just pointing out the absurd on both s...   \n",
       "2  2015-05-11-003168  And you had Michael Jackson roller skating, an...   \n",
       "3  2015-10-20-044420  I like that he's not spinning things. He seems...   \n",
       "4  2015-12-22-031341         I promise, I won't talk about Trump again,   \n",
       "\n",
       "            speaker                                               qids  \\\n",
       "0    Chris Matthews  [Q15735939, Q25189328, Q5107375, Q5110828, Q51...   \n",
       "1  Kathleen Madigan                                         [Q6376814]   \n",
       "2       Jim McMahon                    [Q1689159, Q17306267, Q6196886]   \n",
       "3              None                                                 []   \n",
       "4          Jeb Bush                                          [Q221997]   \n",
       "\n",
       "                  date  numOccurrences  \\\n",
       "0  2015-06-18 10:00:00               1   \n",
       "1  2015-09-16 05:44:37               1   \n",
       "2  2015-05-11 02:03:27               1   \n",
       "3  2015-10-20 23:46:58               1   \n",
       "4  2015-12-22 20:43:59              10   \n",
       "\n",
       "                                              probas  \\\n",
       "0  [[Chris Matthews, 0.3869], [None, 0.3198], [Do...   \n",
       "1       [[Kathleen Madigan, 0.8025], [None, 0.1975]]   \n",
       "2  [[Jim McMahon, 0.8731], [None, 0.1232], [Linda...   \n",
       "3  [[None, 0.7832], [Ben Carson, 0.0755], [Bobby ...   \n",
       "4  [[Jeb Bush, 0.7816], [None, 0.1677], [Donald T...   \n",
       "\n",
       "                                                urls phase  \\\n",
       "0  [http://talkingpointsmemo.com/dc/donald-trump-...     E   \n",
       "1  [http://northjersey.com/arts-and-entertainment...     E   \n",
       "2  [http://www.seattletimes.com/seattle-news/bell...     E   \n",
       "3  [http://detroitnews.com/story/news/politics/20...     E   \n",
       "4  [http://www.politico.com/story/2015/12/jeb-bus...     E   \n",
       "\n",
       "                                     quote_punctfree  \n",
       "0  How long do you think itll take for Donald Tru...  \n",
       "1  And Im just pointing out the absurd on both si...  \n",
       "2  And you had Michael Jackson roller skating and...  \n",
       "3  I like that hes not spinning things He seems g...  \n",
       "4            I promise I wont talk about Trump again  "
      ]
     },
     "execution_count": 12,
     "metadata": {},
     "output_type": "execute_result"
    }
   ],
   "source": [
    "def remove_punctuation(text):\n",
    "    punctuationfree = \"\".join([i for i in text if i not in string.punctuation])\n",
    "    return punctuationfree\n",
    "\n",
    "df['quote_punctfree']= df['quotation'].apply(lambda x: remove_punctuation(x))\n",
    "\n",
    "df.head()"
   ]
  },
  {
   "cell_type": "markdown",
   "id": "2bb1875c",
   "metadata": {
    "cell_id": "00023-1d4b37b9-a476-4f9d-b3e7-b2c66a779585",
    "deepnote_cell_type": "markdown"
   },
   "source": [
    "### 1.4) Tokenization  <a class=\"anchor\" id=\"I.1.4\"></a>"
   ]
  },
  {
   "cell_type": "code",
   "execution_count": 13,
   "id": "cbc67bdf",
   "metadata": {
    "cell_id": "00024-dd41ae58-97d5-46a0-a34d-f1d8ecec6376",
    "deepnote_cell_type": "code",
    "deepnote_output_heights": [
     177
    ]
   },
   "outputs": [
    {
     "data": {
      "text/html": [
       "<div>\n",
       "<style scoped>\n",
       "    .dataframe tbody tr th:only-of-type {\n",
       "        vertical-align: middle;\n",
       "    }\n",
       "\n",
       "    .dataframe tbody tr th {\n",
       "        vertical-align: top;\n",
       "    }\n",
       "\n",
       "    .dataframe thead th {\n",
       "        text-align: right;\n",
       "    }\n",
       "</style>\n",
       "<table border=\"1\" class=\"dataframe\">\n",
       "  <thead>\n",
       "    <tr style=\"text-align: right;\">\n",
       "      <th></th>\n",
       "      <th>quoteID</th>\n",
       "      <th>quotation</th>\n",
       "      <th>speaker</th>\n",
       "      <th>qids</th>\n",
       "      <th>date</th>\n",
       "      <th>numOccurrences</th>\n",
       "      <th>probas</th>\n",
       "      <th>urls</th>\n",
       "      <th>phase</th>\n",
       "      <th>quote_punctfree</th>\n",
       "      <th>quote_punctfree_token</th>\n",
       "    </tr>\n",
       "  </thead>\n",
       "  <tbody>\n",
       "    <tr>\n",
       "      <th>0</th>\n",
       "      <td>2015-06-18-018819</td>\n",
       "      <td>How long do you think it'll take for Donald Tr...</td>\n",
       "      <td>Chris Matthews</td>\n",
       "      <td>[Q15735939, Q25189328, Q5107375, Q5110828, Q51...</td>\n",
       "      <td>2015-06-18 10:00:00</td>\n",
       "      <td>1</td>\n",
       "      <td>[[Chris Matthews, 0.3869], [None, 0.3198], [Do...</td>\n",
       "      <td>[http://talkingpointsmemo.com/dc/donald-trump-...</td>\n",
       "      <td>E</td>\n",
       "      <td>How long do you think itll take for Donald Tru...</td>\n",
       "      <td>[How, long, do, you, think, itll, take, for, D...</td>\n",
       "    </tr>\n",
       "    <tr>\n",
       "      <th>1</th>\n",
       "      <td>2015-09-16-006359</td>\n",
       "      <td>And I'm just pointing out the absurd on both s...</td>\n",
       "      <td>Kathleen Madigan</td>\n",
       "      <td>[Q6376814]</td>\n",
       "      <td>2015-09-16 05:44:37</td>\n",
       "      <td>1</td>\n",
       "      <td>[[Kathleen Madigan, 0.8025], [None, 0.1975]]</td>\n",
       "      <td>[http://northjersey.com/arts-and-entertainment...</td>\n",
       "      <td>E</td>\n",
       "      <td>And Im just pointing out the absurd on both si...</td>\n",
       "      <td>[And, Im, just, pointing, out, the, absurd, on...</td>\n",
       "    </tr>\n",
       "    <tr>\n",
       "      <th>2</th>\n",
       "      <td>2015-05-11-003168</td>\n",
       "      <td>And you had Michael Jackson roller skating, an...</td>\n",
       "      <td>Jim McMahon</td>\n",
       "      <td>[Q1689159, Q17306267, Q6196886]</td>\n",
       "      <td>2015-05-11 02:03:27</td>\n",
       "      <td>1</td>\n",
       "      <td>[[Jim McMahon, 0.8731], [None, 0.1232], [Linda...</td>\n",
       "      <td>[http://www.seattletimes.com/seattle-news/bell...</td>\n",
       "      <td>E</td>\n",
       "      <td>And you had Michael Jackson roller skating and...</td>\n",
       "      <td>[And, you, had, Michael, Jackson, roller, skat...</td>\n",
       "    </tr>\n",
       "    <tr>\n",
       "      <th>3</th>\n",
       "      <td>2015-10-20-044420</td>\n",
       "      <td>I like that he's not spinning things. He seems...</td>\n",
       "      <td>None</td>\n",
       "      <td>[]</td>\n",
       "      <td>2015-10-20 23:46:58</td>\n",
       "      <td>1</td>\n",
       "      <td>[[None, 0.7832], [Ben Carson, 0.0755], [Bobby ...</td>\n",
       "      <td>[http://detroitnews.com/story/news/politics/20...</td>\n",
       "      <td>E</td>\n",
       "      <td>I like that hes not spinning things He seems g...</td>\n",
       "      <td>[I, like, that, hes, not, spinning, things, He...</td>\n",
       "    </tr>\n",
       "    <tr>\n",
       "      <th>4</th>\n",
       "      <td>2015-12-22-031341</td>\n",
       "      <td>I promise, I won't talk about Trump again,</td>\n",
       "      <td>Jeb Bush</td>\n",
       "      <td>[Q221997]</td>\n",
       "      <td>2015-12-22 20:43:59</td>\n",
       "      <td>10</td>\n",
       "      <td>[[Jeb Bush, 0.7816], [None, 0.1677], [Donald T...</td>\n",
       "      <td>[http://www.politico.com/story/2015/12/jeb-bus...</td>\n",
       "      <td>E</td>\n",
       "      <td>I promise I wont talk about Trump again</td>\n",
       "      <td>[I, promise, I, wont, talk, about, Trump, again]</td>\n",
       "    </tr>\n",
       "  </tbody>\n",
       "</table>\n",
       "</div>"
      ],
      "text/plain": [
       "             quoteID                                          quotation  \\\n",
       "0  2015-06-18-018819  How long do you think it'll take for Donald Tr...   \n",
       "1  2015-09-16-006359  And I'm just pointing out the absurd on both s...   \n",
       "2  2015-05-11-003168  And you had Michael Jackson roller skating, an...   \n",
       "3  2015-10-20-044420  I like that he's not spinning things. He seems...   \n",
       "4  2015-12-22-031341         I promise, I won't talk about Trump again,   \n",
       "\n",
       "            speaker                                               qids  \\\n",
       "0    Chris Matthews  [Q15735939, Q25189328, Q5107375, Q5110828, Q51...   \n",
       "1  Kathleen Madigan                                         [Q6376814]   \n",
       "2       Jim McMahon                    [Q1689159, Q17306267, Q6196886]   \n",
       "3              None                                                 []   \n",
       "4          Jeb Bush                                          [Q221997]   \n",
       "\n",
       "                  date  numOccurrences  \\\n",
       "0  2015-06-18 10:00:00               1   \n",
       "1  2015-09-16 05:44:37               1   \n",
       "2  2015-05-11 02:03:27               1   \n",
       "3  2015-10-20 23:46:58               1   \n",
       "4  2015-12-22 20:43:59              10   \n",
       "\n",
       "                                              probas  \\\n",
       "0  [[Chris Matthews, 0.3869], [None, 0.3198], [Do...   \n",
       "1       [[Kathleen Madigan, 0.8025], [None, 0.1975]]   \n",
       "2  [[Jim McMahon, 0.8731], [None, 0.1232], [Linda...   \n",
       "3  [[None, 0.7832], [Ben Carson, 0.0755], [Bobby ...   \n",
       "4  [[Jeb Bush, 0.7816], [None, 0.1677], [Donald T...   \n",
       "\n",
       "                                                urls phase  \\\n",
       "0  [http://talkingpointsmemo.com/dc/donald-trump-...     E   \n",
       "1  [http://northjersey.com/arts-and-entertainment...     E   \n",
       "2  [http://www.seattletimes.com/seattle-news/bell...     E   \n",
       "3  [http://detroitnews.com/story/news/politics/20...     E   \n",
       "4  [http://www.politico.com/story/2015/12/jeb-bus...     E   \n",
       "\n",
       "                                     quote_punctfree  \\\n",
       "0  How long do you think itll take for Donald Tru...   \n",
       "1  And Im just pointing out the absurd on both si...   \n",
       "2  And you had Michael Jackson roller skating and...   \n",
       "3  I like that hes not spinning things He seems g...   \n",
       "4            I promise I wont talk about Trump again   \n",
       "\n",
       "                               quote_punctfree_token  \n",
       "0  [How, long, do, you, think, itll, take, for, D...  \n",
       "1  [And, Im, just, pointing, out, the, absurd, on...  \n",
       "2  [And, you, had, Michael, Jackson, roller, skat...  \n",
       "3  [I, like, that, hes, not, spinning, things, He...  \n",
       "4   [I, promise, I, wont, talk, about, Trump, again]  "
      ]
     },
     "execution_count": 13,
     "metadata": {},
     "output_type": "execute_result"
    }
   ],
   "source": [
    "def tokenization(text):\n",
    "    tokens = re.split('\\W+',text)\n",
    "    return tokens\n",
    "\n",
    "df['quote_punctfree_token']= df['quote_punctfree'].apply(lambda x: tokenization(x))\n",
    "\n",
    "df.head()"
   ]
  },
  {
   "cell_type": "markdown",
   "id": "f418d29f",
   "metadata": {
    "cell_id": "00025-4a1606a8-c02b-4281-bcfd-2a15569c826d",
    "deepnote_cell_type": "markdown"
   },
   "source": [
    "### 1.5) Stop word removal  <a class=\"anchor\" id=\"I.1.6\"></a>"
   ]
  },
  {
   "cell_type": "markdown",
   "id": "19dc8a36",
   "metadata": {
    "cell_id": "00026-2cbf5235-0d6b-48d3-b5d2-dcfec3c0186b",
    "deepnote_cell_type": "markdown"
   },
   "source": [
    "We chose to use as stopwords words in the english language which don't add much semantic meaning. "
   ]
  },
  {
   "cell_type": "code",
   "execution_count": 14,
   "id": "215bd770",
   "metadata": {
    "cell_id": "00027-c04c6096-c9e3-4667-8b54-5a5cfd8c9414",
    "deepnote_cell_type": "code"
   },
   "outputs": [
    {
     "name": "stdout",
     "output_type": "stream",
     "text": [
      "['i', 'me', 'my', 'myself', 'we', 'our', 'ours', 'ourselves', 'you', 'youre', 'youve', 'youll', 'youd', 'your', 'yours', 'yourself', 'yourselves', 'he', 'him', 'his', 'himself', 'she', 'shes', 'her', 'hers', 'herself', 'it', 'its', 'its', 'itself', 'they', 'them', 'their', 'theirs', 'themselves', 'what', 'which', 'who', 'whom', 'this', 'that', 'thatll', 'these', 'those', 'am', 'is', 'are', 'was', 'were', 'be', 'been', 'being', 'have', 'has', 'had', 'having', 'do', 'does', 'did', 'doing', 'a', 'an', 'the', 'and', 'but', 'if', 'or', 'because', 'as', 'until', 'while', 'of', 'at', 'by', 'for', 'with', 'about', 'against', 'between', 'into', 'through', 'during', 'before', 'after', 'above', 'below', 'to', 'from', 'up', 'down', 'in', 'out', 'on', 'off', 'over', 'under', 'again', 'further', 'then', 'once', 'here', 'there', 'when', 'where', 'why', 'how', 'all', 'any', 'both', 'each', 'few', 'more', 'most', 'other', 'some', 'such', 'no', 'nor', 'not', 'only', 'own', 'same', 'so', 'than', 'too', 'very', 's', 't', 'can', 'will', 'just', 'don', 'dont', 'should', 'shouldve', 'now', 'd', 'll', 'm', 'o', 're', 've', 'y', 'ain', 'aren', 'arent', 'couldn', 'couldnt', 'didn', 'didnt', 'doesn', 'doesnt', 'hadn', 'hadnt', 'hasn', 'hasnt', 'haven', 'havent', 'isn', 'isnt', 'ma', 'mightn', 'mightnt', 'mustn', 'mustnt', 'needn', 'neednt', 'shan', 'shant', 'shouldn', 'shouldnt', 'wasn', 'wasnt', 'weren', 'werent', 'won', 'wont', 'wouldn', 'wouldnt']\n"
     ]
    },
    {
     "name": "stderr",
     "output_type": "stream",
     "text": [
      "[nltk_data] Downloading package stopwords to\n",
      "[nltk_data]     C:\\Users\\felic\\AppData\\Roaming\\nltk_data...\n",
      "[nltk_data]   Package stopwords is already up-to-date!\n"
     ]
    }
   ],
   "source": [
    "# Stop words present in the library\n",
    "nltk.download('stopwords')\n",
    "stopwords = [s.replace(\"'\", \"\") for s in nltk.corpus.stopwords.words('english')] # removing apostrophes from stopwords\n",
    "print(stopwords) # checking that we don't remove useful words"
   ]
  },
  {
   "cell_type": "code",
   "execution_count": 15,
   "id": "f10a4b44",
   "metadata": {
    "cell_id": "00028-77fb0ff1-cd42-469d-9323-76f795bf4aeb",
    "deepnote_cell_type": "code",
    "deepnote_output_heights": [
     177
    ]
   },
   "outputs": [
    {
     "data": {
      "text/html": [
       "<div>\n",
       "<style scoped>\n",
       "    .dataframe tbody tr th:only-of-type {\n",
       "        vertical-align: middle;\n",
       "    }\n",
       "\n",
       "    .dataframe tbody tr th {\n",
       "        vertical-align: top;\n",
       "    }\n",
       "\n",
       "    .dataframe thead th {\n",
       "        text-align: right;\n",
       "    }\n",
       "</style>\n",
       "<table border=\"1\" class=\"dataframe\">\n",
       "  <thead>\n",
       "    <tr style=\"text-align: right;\">\n",
       "      <th></th>\n",
       "      <th>quoteID</th>\n",
       "      <th>quotation</th>\n",
       "      <th>speaker</th>\n",
       "      <th>qids</th>\n",
       "      <th>date</th>\n",
       "      <th>numOccurrences</th>\n",
       "      <th>probas</th>\n",
       "      <th>urls</th>\n",
       "      <th>phase</th>\n",
       "      <th>quote_punctfree</th>\n",
       "      <th>quote_punctfree_token</th>\n",
       "      <th>quote_punctfree_token_NoStopWord</th>\n",
       "    </tr>\n",
       "  </thead>\n",
       "  <tbody>\n",
       "    <tr>\n",
       "      <th>0</th>\n",
       "      <td>2015-06-18-018819</td>\n",
       "      <td>How long do you think it'll take for Donald Tr...</td>\n",
       "      <td>Chris Matthews</td>\n",
       "      <td>[Q15735939, Q25189328, Q5107375, Q5110828, Q51...</td>\n",
       "      <td>2015-06-18 10:00:00</td>\n",
       "      <td>1</td>\n",
       "      <td>[[Chris Matthews, 0.3869], [None, 0.3198], [Do...</td>\n",
       "      <td>[http://talkingpointsmemo.com/dc/donald-trump-...</td>\n",
       "      <td>E</td>\n",
       "      <td>How long do you think itll take for Donald Tru...</td>\n",
       "      <td>[How, long, do, you, think, itll, take, for, D...</td>\n",
       "      <td>[How, long, think, itll, take, Donald, Trump, ...</td>\n",
       "    </tr>\n",
       "    <tr>\n",
       "      <th>1</th>\n",
       "      <td>2015-09-16-006359</td>\n",
       "      <td>And I'm just pointing out the absurd on both s...</td>\n",
       "      <td>Kathleen Madigan</td>\n",
       "      <td>[Q6376814]</td>\n",
       "      <td>2015-09-16 05:44:37</td>\n",
       "      <td>1</td>\n",
       "      <td>[[Kathleen Madigan, 0.8025], [None, 0.1975]]</td>\n",
       "      <td>[http://northjersey.com/arts-and-entertainment...</td>\n",
       "      <td>E</td>\n",
       "      <td>And Im just pointing out the absurd on both si...</td>\n",
       "      <td>[And, Im, just, pointing, out, the, absurd, on...</td>\n",
       "      <td>[And, Im, pointing, absurd, sides, Im, sidetak...</td>\n",
       "    </tr>\n",
       "    <tr>\n",
       "      <th>2</th>\n",
       "      <td>2015-05-11-003168</td>\n",
       "      <td>And you had Michael Jackson roller skating, an...</td>\n",
       "      <td>Jim McMahon</td>\n",
       "      <td>[Q1689159, Q17306267, Q6196886]</td>\n",
       "      <td>2015-05-11 02:03:27</td>\n",
       "      <td>1</td>\n",
       "      <td>[[Jim McMahon, 0.8731], [None, 0.1232], [Linda...</td>\n",
       "      <td>[http://www.seattletimes.com/seattle-news/bell...</td>\n",
       "      <td>E</td>\n",
       "      <td>And you had Michael Jackson roller skating and...</td>\n",
       "      <td>[And, you, had, Michael, Jackson, roller, skat...</td>\n",
       "      <td>[And, Michael, Jackson, roller, skating, Donal...</td>\n",
       "    </tr>\n",
       "    <tr>\n",
       "      <th>3</th>\n",
       "      <td>2015-10-20-044420</td>\n",
       "      <td>I like that he's not spinning things. He seems...</td>\n",
       "      <td>None</td>\n",
       "      <td>[]</td>\n",
       "      <td>2015-10-20 23:46:58</td>\n",
       "      <td>1</td>\n",
       "      <td>[[None, 0.7832], [Ben Carson, 0.0755], [Bobby ...</td>\n",
       "      <td>[http://detroitnews.com/story/news/politics/20...</td>\n",
       "      <td>E</td>\n",
       "      <td>I like that hes not spinning things He seems g...</td>\n",
       "      <td>[I, like, that, hes, not, spinning, things, He...</td>\n",
       "      <td>[I, like, hes, spinning, things, He, seems, ge...</td>\n",
       "    </tr>\n",
       "    <tr>\n",
       "      <th>4</th>\n",
       "      <td>2015-12-22-031341</td>\n",
       "      <td>I promise, I won't talk about Trump again,</td>\n",
       "      <td>Jeb Bush</td>\n",
       "      <td>[Q221997]</td>\n",
       "      <td>2015-12-22 20:43:59</td>\n",
       "      <td>10</td>\n",
       "      <td>[[Jeb Bush, 0.7816], [None, 0.1677], [Donald T...</td>\n",
       "      <td>[http://www.politico.com/story/2015/12/jeb-bus...</td>\n",
       "      <td>E</td>\n",
       "      <td>I promise I wont talk about Trump again</td>\n",
       "      <td>[I, promise, I, wont, talk, about, Trump, again]</td>\n",
       "      <td>[I, promise, I, talk, Trump]</td>\n",
       "    </tr>\n",
       "  </tbody>\n",
       "</table>\n",
       "</div>"
      ],
      "text/plain": [
       "             quoteID                                          quotation  \\\n",
       "0  2015-06-18-018819  How long do you think it'll take for Donald Tr...   \n",
       "1  2015-09-16-006359  And I'm just pointing out the absurd on both s...   \n",
       "2  2015-05-11-003168  And you had Michael Jackson roller skating, an...   \n",
       "3  2015-10-20-044420  I like that he's not spinning things. He seems...   \n",
       "4  2015-12-22-031341         I promise, I won't talk about Trump again,   \n",
       "\n",
       "            speaker                                               qids  \\\n",
       "0    Chris Matthews  [Q15735939, Q25189328, Q5107375, Q5110828, Q51...   \n",
       "1  Kathleen Madigan                                         [Q6376814]   \n",
       "2       Jim McMahon                    [Q1689159, Q17306267, Q6196886]   \n",
       "3              None                                                 []   \n",
       "4          Jeb Bush                                          [Q221997]   \n",
       "\n",
       "                  date  numOccurrences  \\\n",
       "0  2015-06-18 10:00:00               1   \n",
       "1  2015-09-16 05:44:37               1   \n",
       "2  2015-05-11 02:03:27               1   \n",
       "3  2015-10-20 23:46:58               1   \n",
       "4  2015-12-22 20:43:59              10   \n",
       "\n",
       "                                              probas  \\\n",
       "0  [[Chris Matthews, 0.3869], [None, 0.3198], [Do...   \n",
       "1       [[Kathleen Madigan, 0.8025], [None, 0.1975]]   \n",
       "2  [[Jim McMahon, 0.8731], [None, 0.1232], [Linda...   \n",
       "3  [[None, 0.7832], [Ben Carson, 0.0755], [Bobby ...   \n",
       "4  [[Jeb Bush, 0.7816], [None, 0.1677], [Donald T...   \n",
       "\n",
       "                                                urls phase  \\\n",
       "0  [http://talkingpointsmemo.com/dc/donald-trump-...     E   \n",
       "1  [http://northjersey.com/arts-and-entertainment...     E   \n",
       "2  [http://www.seattletimes.com/seattle-news/bell...     E   \n",
       "3  [http://detroitnews.com/story/news/politics/20...     E   \n",
       "4  [http://www.politico.com/story/2015/12/jeb-bus...     E   \n",
       "\n",
       "                                     quote_punctfree  \\\n",
       "0  How long do you think itll take for Donald Tru...   \n",
       "1  And Im just pointing out the absurd on both si...   \n",
       "2  And you had Michael Jackson roller skating and...   \n",
       "3  I like that hes not spinning things He seems g...   \n",
       "4            I promise I wont talk about Trump again   \n",
       "\n",
       "                               quote_punctfree_token  \\\n",
       "0  [How, long, do, you, think, itll, take, for, D...   \n",
       "1  [And, Im, just, pointing, out, the, absurd, on...   \n",
       "2  [And, you, had, Michael, Jackson, roller, skat...   \n",
       "3  [I, like, that, hes, not, spinning, things, He...   \n",
       "4   [I, promise, I, wont, talk, about, Trump, again]   \n",
       "\n",
       "                    quote_punctfree_token_NoStopWord  \n",
       "0  [How, long, think, itll, take, Donald, Trump, ...  \n",
       "1  [And, Im, pointing, absurd, sides, Im, sidetak...  \n",
       "2  [And, Michael, Jackson, roller, skating, Donal...  \n",
       "3  [I, like, hes, spinning, things, He, seems, ge...  \n",
       "4                       [I, promise, I, talk, Trump]  "
      ]
     },
     "execution_count": 15,
     "metadata": {},
     "output_type": "execute_result"
    }
   ],
   "source": [
    "def remove_stopwords(text):\n",
    "    output = [i for i in text if i not in stopwords]\n",
    "    return output\n",
    "\n",
    "df['quote_punctfree_token_NoStopWord'] = df['quote_punctfree_token'].apply(lambda x: remove_stopwords(x))\n",
    "\n",
    "df.head()"
   ]
  },
  {
   "cell_type": "markdown",
   "id": "4a66d9cf",
   "metadata": {
    "cell_id": "00029-c33a54ca-87b4-40f9-a9b1-7ed1ff7ef887",
    "deepnote_cell_type": "markdown"
   },
   "source": [
    "We also made a function to find the words which occur in the most quotes. We do not use it yet, but if the topics are not being extracted well then we can use this to remove the most frequent words as well."
   ]
  },
  {
   "cell_type": "code",
   "execution_count": 16,
   "id": "52c83660",
   "metadata": {
    "cell_id": "00030-c64e354c-2372-4a50-bcff-b47598cfd0e9",
    "deepnote_cell_type": "code"
   },
   "outputs": [],
   "source": [
    "# Function for getting the frequency of quotes in which words appear\n",
    "def get_doc_frequency(data):\n",
    "    joined_data = \" \".join(data)\n",
    "    words = {w: set() for w in set(joined_data.split())}\n",
    "    for i, vote in enumerate(data):\n",
    "        for w in vote.split():\n",
    "            if w in words:\n",
    "                words[w].add(i)\n",
    "    \n",
    "    data_len = len([d for d in data if d != ''])\n",
    "    words = sorted({w: len(words[w])/data_len for w in words}.items(), key=lambda x: -x[1])\n",
    "    return words"
   ]
  },
  {
   "cell_type": "code",
   "execution_count": 17,
   "id": "67a490de",
   "metadata": {
    "cell_id": "00031-22c6124b-bbca-4e31-84d2-b1cc13c8ff8a",
    "deepnote_cell_type": "code",
    "deepnote_output_heights": [
     386
    ],
    "tags": []
   },
   "outputs": [
    {
     "data": {
      "text/plain": [
       "[('Trump', 0.47321455127734313),\n",
       " ('I', 0.21698171044461023),\n",
       " ('Donald', 0.131514110048117),\n",
       " ('President', 0.11906815592405928),\n",
       " ('The', 0.10000345990726235),\n",
       " ('people', 0.0901014481229396),\n",
       " ('Trumps', 0.08879457437981163),\n",
       " ('going', 0.06862270803906417),\n",
       " ('think', 0.06519132983660132),\n",
       " ('would', 0.06492667728109561),\n",
       " ('We', 0.06323799973656145),\n",
       " ('like', 0.05986974966660455),\n",
       " ('And', 0.05096443397434691),\n",
       " ('know', 0.04912097110491835),\n",
       " ('one', 0.04672453007478863),\n",
       " ('get', 0.04294776814736534),\n",
       " ('country', 0.04182967180048111),\n",
       " ('president', 0.04079655563197027),\n",
       " ('said', 0.04059442420769641),\n",
       " ('want', 0.04015252728015476)]"
      ]
     },
     "execution_count": 17,
     "metadata": {},
     "output_type": "execute_result"
    }
   ],
   "source": [
    "get_doc_frequency([\" \".join(q) for q in list(df['quote_punctfree_token_NoStopWord'])])[:20] # most frequent words"
   ]
  },
  {
   "cell_type": "markdown",
   "id": "a02cdece",
   "metadata": {
    "cell_id": "00032-9acd9cbf-5433-4a6a-8943-27351d73119c",
    "deepnote_cell_type": "markdown"
   },
   "source": [
    "### 1.6) Lemmatization  <a class=\"anchor\" id=\"I.1.7\"></a>"
   ]
  },
  {
   "cell_type": "markdown",
   "id": "a5fb589b",
   "metadata": {
    "cell_id": "00033-7c7b017e-4fed-4a0f-94d1-c0d42258a75d",
    "deepnote_cell_type": "markdown"
   },
   "source": [
    "We are not sure if this will improve our results so we will try with and without and see which works best."
   ]
  },
  {
   "cell_type": "code",
   "execution_count": 18,
   "id": "202ee7df",
   "metadata": {
    "cell_id": "00034-ba70e53d-766a-417c-bfb1-d2be8a256e76",
    "deepnote_cell_type": "code",
    "deepnote_output_heights": [
     null,
     177
    ]
   },
   "outputs": [
    {
     "name": "stderr",
     "output_type": "stream",
     "text": [
      "[nltk_data] Downloading package wordnet to\n",
      "[nltk_data]     C:\\Users\\felic\\AppData\\Roaming\\nltk_data...\n",
      "[nltk_data]   Package wordnet is already up-to-date!\n"
     ]
    },
    {
     "data": {
      "text/html": [
       "<div>\n",
       "<style scoped>\n",
       "    .dataframe tbody tr th:only-of-type {\n",
       "        vertical-align: middle;\n",
       "    }\n",
       "\n",
       "    .dataframe tbody tr th {\n",
       "        vertical-align: top;\n",
       "    }\n",
       "\n",
       "    .dataframe thead th {\n",
       "        text-align: right;\n",
       "    }\n",
       "</style>\n",
       "<table border=\"1\" class=\"dataframe\">\n",
       "  <thead>\n",
       "    <tr style=\"text-align: right;\">\n",
       "      <th></th>\n",
       "      <th>quoteID</th>\n",
       "      <th>quotation</th>\n",
       "      <th>speaker</th>\n",
       "      <th>qids</th>\n",
       "      <th>date</th>\n",
       "      <th>numOccurrences</th>\n",
       "      <th>probas</th>\n",
       "      <th>urls</th>\n",
       "      <th>phase</th>\n",
       "      <th>quote_punctfree</th>\n",
       "      <th>quote_punctfree_token</th>\n",
       "      <th>quote_punctfree_token_NoStopWord</th>\n",
       "      <th>quote_punctfree_token_NoStopWord_lemm</th>\n",
       "      <th>final_quote</th>\n",
       "    </tr>\n",
       "  </thead>\n",
       "  <tbody>\n",
       "    <tr>\n",
       "      <th>0</th>\n",
       "      <td>2015-06-18-018819</td>\n",
       "      <td>How long do you think it'll take for Donald Tr...</td>\n",
       "      <td>Chris Matthews</td>\n",
       "      <td>[Q15735939, Q25189328, Q5107375, Q5110828, Q51...</td>\n",
       "      <td>2015-06-18 10:00:00</td>\n",
       "      <td>1</td>\n",
       "      <td>[[Chris Matthews, 0.3869], [None, 0.3198], [Do...</td>\n",
       "      <td>[http://talkingpointsmemo.com/dc/donald-trump-...</td>\n",
       "      <td>E</td>\n",
       "      <td>How long do you think itll take for Donald Tru...</td>\n",
       "      <td>[How, long, do, you, think, itll, take, for, D...</td>\n",
       "      <td>[How, long, think, itll, take, Donald, Trump, ...</td>\n",
       "      <td>[How, long, think, itll, take, Donald, Trump, ...</td>\n",
       "      <td>[How, long, think, itll, take, Donald, Trump, ...</td>\n",
       "    </tr>\n",
       "    <tr>\n",
       "      <th>1</th>\n",
       "      <td>2015-09-16-006359</td>\n",
       "      <td>And I'm just pointing out the absurd on both s...</td>\n",
       "      <td>Kathleen Madigan</td>\n",
       "      <td>[Q6376814]</td>\n",
       "      <td>2015-09-16 05:44:37</td>\n",
       "      <td>1</td>\n",
       "      <td>[[Kathleen Madigan, 0.8025], [None, 0.1975]]</td>\n",
       "      <td>[http://northjersey.com/arts-and-entertainment...</td>\n",
       "      <td>E</td>\n",
       "      <td>And Im just pointing out the absurd on both si...</td>\n",
       "      <td>[And, Im, just, pointing, out, the, absurd, on...</td>\n",
       "      <td>[And, Im, pointing, absurd, sides, Im, sidetak...</td>\n",
       "      <td>[And, Im, pointing, absurd, side, Im, sidetaki...</td>\n",
       "      <td>[And, Im, pointing, absurd, side, Im, sidetaki...</td>\n",
       "    </tr>\n",
       "    <tr>\n",
       "      <th>2</th>\n",
       "      <td>2015-05-11-003168</td>\n",
       "      <td>And you had Michael Jackson roller skating, an...</td>\n",
       "      <td>Jim McMahon</td>\n",
       "      <td>[Q1689159, Q17306267, Q6196886]</td>\n",
       "      <td>2015-05-11 02:03:27</td>\n",
       "      <td>1</td>\n",
       "      <td>[[Jim McMahon, 0.8731], [None, 0.1232], [Linda...</td>\n",
       "      <td>[http://www.seattletimes.com/seattle-news/bell...</td>\n",
       "      <td>E</td>\n",
       "      <td>And you had Michael Jackson roller skating and...</td>\n",
       "      <td>[And, you, had, Michael, Jackson, roller, skat...</td>\n",
       "      <td>[And, Michael, Jackson, roller, skating, Donal...</td>\n",
       "      <td>[And, Michael, Jackson, roller, skating, Donal...</td>\n",
       "      <td>[And, Michael, Jackson, roller, skating, Donal...</td>\n",
       "    </tr>\n",
       "    <tr>\n",
       "      <th>3</th>\n",
       "      <td>2015-10-20-044420</td>\n",
       "      <td>I like that he's not spinning things. He seems...</td>\n",
       "      <td>None</td>\n",
       "      <td>[]</td>\n",
       "      <td>2015-10-20 23:46:58</td>\n",
       "      <td>1</td>\n",
       "      <td>[[None, 0.7832], [Ben Carson, 0.0755], [Bobby ...</td>\n",
       "      <td>[http://detroitnews.com/story/news/politics/20...</td>\n",
       "      <td>E</td>\n",
       "      <td>I like that hes not spinning things He seems g...</td>\n",
       "      <td>[I, like, that, hes, not, spinning, things, He...</td>\n",
       "      <td>[I, like, hes, spinning, things, He, seems, ge...</td>\n",
       "      <td>[I, like, he, spinning, thing, He, seems, genu...</td>\n",
       "      <td>[I, like, he, spinning, thing, He, seems, genu...</td>\n",
       "    </tr>\n",
       "    <tr>\n",
       "      <th>4</th>\n",
       "      <td>2015-12-22-031341</td>\n",
       "      <td>I promise, I won't talk about Trump again,</td>\n",
       "      <td>Jeb Bush</td>\n",
       "      <td>[Q221997]</td>\n",
       "      <td>2015-12-22 20:43:59</td>\n",
       "      <td>10</td>\n",
       "      <td>[[Jeb Bush, 0.7816], [None, 0.1677], [Donald T...</td>\n",
       "      <td>[http://www.politico.com/story/2015/12/jeb-bus...</td>\n",
       "      <td>E</td>\n",
       "      <td>I promise I wont talk about Trump again</td>\n",
       "      <td>[I, promise, I, wont, talk, about, Trump, again]</td>\n",
       "      <td>[I, promise, I, talk, Trump]</td>\n",
       "      <td>[I, promise, I, talk, Trump]</td>\n",
       "      <td>[I, promise, I, talk, Trump]</td>\n",
       "    </tr>\n",
       "  </tbody>\n",
       "</table>\n",
       "</div>"
      ],
      "text/plain": [
       "             quoteID                                          quotation  \\\n",
       "0  2015-06-18-018819  How long do you think it'll take for Donald Tr...   \n",
       "1  2015-09-16-006359  And I'm just pointing out the absurd on both s...   \n",
       "2  2015-05-11-003168  And you had Michael Jackson roller skating, an...   \n",
       "3  2015-10-20-044420  I like that he's not spinning things. He seems...   \n",
       "4  2015-12-22-031341         I promise, I won't talk about Trump again,   \n",
       "\n",
       "            speaker                                               qids  \\\n",
       "0    Chris Matthews  [Q15735939, Q25189328, Q5107375, Q5110828, Q51...   \n",
       "1  Kathleen Madigan                                         [Q6376814]   \n",
       "2       Jim McMahon                    [Q1689159, Q17306267, Q6196886]   \n",
       "3              None                                                 []   \n",
       "4          Jeb Bush                                          [Q221997]   \n",
       "\n",
       "                  date  numOccurrences  \\\n",
       "0  2015-06-18 10:00:00               1   \n",
       "1  2015-09-16 05:44:37               1   \n",
       "2  2015-05-11 02:03:27               1   \n",
       "3  2015-10-20 23:46:58               1   \n",
       "4  2015-12-22 20:43:59              10   \n",
       "\n",
       "                                              probas  \\\n",
       "0  [[Chris Matthews, 0.3869], [None, 0.3198], [Do...   \n",
       "1       [[Kathleen Madigan, 0.8025], [None, 0.1975]]   \n",
       "2  [[Jim McMahon, 0.8731], [None, 0.1232], [Linda...   \n",
       "3  [[None, 0.7832], [Ben Carson, 0.0755], [Bobby ...   \n",
       "4  [[Jeb Bush, 0.7816], [None, 0.1677], [Donald T...   \n",
       "\n",
       "                                                urls phase  \\\n",
       "0  [http://talkingpointsmemo.com/dc/donald-trump-...     E   \n",
       "1  [http://northjersey.com/arts-and-entertainment...     E   \n",
       "2  [http://www.seattletimes.com/seattle-news/bell...     E   \n",
       "3  [http://detroitnews.com/story/news/politics/20...     E   \n",
       "4  [http://www.politico.com/story/2015/12/jeb-bus...     E   \n",
       "\n",
       "                                     quote_punctfree  \\\n",
       "0  How long do you think itll take for Donald Tru...   \n",
       "1  And Im just pointing out the absurd on both si...   \n",
       "2  And you had Michael Jackson roller skating and...   \n",
       "3  I like that hes not spinning things He seems g...   \n",
       "4            I promise I wont talk about Trump again   \n",
       "\n",
       "                               quote_punctfree_token  \\\n",
       "0  [How, long, do, you, think, itll, take, for, D...   \n",
       "1  [And, Im, just, pointing, out, the, absurd, on...   \n",
       "2  [And, you, had, Michael, Jackson, roller, skat...   \n",
       "3  [I, like, that, hes, not, spinning, things, He...   \n",
       "4   [I, promise, I, wont, talk, about, Trump, again]   \n",
       "\n",
       "                    quote_punctfree_token_NoStopWord  \\\n",
       "0  [How, long, think, itll, take, Donald, Trump, ...   \n",
       "1  [And, Im, pointing, absurd, sides, Im, sidetak...   \n",
       "2  [And, Michael, Jackson, roller, skating, Donal...   \n",
       "3  [I, like, hes, spinning, things, He, seems, ge...   \n",
       "4                       [I, promise, I, talk, Trump]   \n",
       "\n",
       "               quote_punctfree_token_NoStopWord_lemm  \\\n",
       "0  [How, long, think, itll, take, Donald, Trump, ...   \n",
       "1  [And, Im, pointing, absurd, side, Im, sidetaki...   \n",
       "2  [And, Michael, Jackson, roller, skating, Donal...   \n",
       "3  [I, like, he, spinning, thing, He, seems, genu...   \n",
       "4                       [I, promise, I, talk, Trump]   \n",
       "\n",
       "                                         final_quote  \n",
       "0  [How, long, think, itll, take, Donald, Trump, ...  \n",
       "1  [And, Im, pointing, absurd, side, Im, sidetaki...  \n",
       "2  [And, Michael, Jackson, roller, skating, Donal...  \n",
       "3  [I, like, he, spinning, thing, He, seems, genu...  \n",
       "4                       [I, promise, I, talk, Trump]  "
      ]
     },
     "execution_count": 18,
     "metadata": {},
     "output_type": "execute_result"
    }
   ],
   "source": [
    "nltk.download('wordnet')\n",
    "wordnet_lemmatizer = WordNetLemmatizer()\n",
    "\n",
    "def lemmatizer(text):\n",
    "    lemm_text = [wordnet_lemmatizer.lemmatize(word) for word in text]\n",
    "    return lemm_text\n",
    "\n",
    "df['quote_punctfree_token_NoStopWord_lemm'] = df['quote_punctfree_token_NoStopWord'].apply(lambda x: lemmatizer(x))\n",
    "df['final_quote'] = df['quote_punctfree_token_NoStopWord_lemm']\n",
    "\n",
    "df.head()"
   ]
  },
  {
   "cell_type": "markdown",
   "id": "77bd992c",
   "metadata": {
    "cell_id": "00032-284ea921-350c-45e2-a60f-97cc91dc1f2b",
    "deepnote_cell_type": "markdown",
    "tags": []
   },
   "source": [
    "### 1.8) Do we have only phase E quotations?  <a class=\"anchor\" id=\"1.8\"></a>"
   ]
  },
  {
   "cell_type": "markdown",
   "id": "ddd1c694",
   "metadata": {
    "cell_id": "00032-c2bef47c-de34-4864-9280-408b2f7c623d",
    "deepnote_cell_type": "markdown",
    "tags": []
   },
   "source": [
    "Phase E is good because it is more precise than the other phases."
   ]
  },
  {
   "cell_type": "code",
   "execution_count": 19,
   "id": "131df7f0",
   "metadata": {
    "cell_id": "00034-9f9d55ab-128e-4043-981d-f207a0643383",
    "deepnote_cell_type": "code",
    "tags": []
   },
   "outputs": [
    {
     "data": {
      "text/html": [
       "<div>\n",
       "<style scoped>\n",
       "    .dataframe tbody tr th:only-of-type {\n",
       "        vertical-align: middle;\n",
       "    }\n",
       "\n",
       "    .dataframe tbody tr th {\n",
       "        vertical-align: top;\n",
       "    }\n",
       "\n",
       "    .dataframe thead th {\n",
       "        text-align: right;\n",
       "    }\n",
       "</style>\n",
       "<table border=\"1\" class=\"dataframe\">\n",
       "  <thead>\n",
       "    <tr style=\"text-align: right;\">\n",
       "      <th></th>\n",
       "      <th>quoteID</th>\n",
       "      <th>quotation</th>\n",
       "      <th>speaker</th>\n",
       "      <th>qids</th>\n",
       "      <th>date</th>\n",
       "      <th>numOccurrences</th>\n",
       "      <th>probas</th>\n",
       "      <th>urls</th>\n",
       "      <th>quote_punctfree</th>\n",
       "      <th>quote_punctfree_token</th>\n",
       "      <th>quote_punctfree_token_NoStopWord</th>\n",
       "      <th>quote_punctfree_token_NoStopWord_lemm</th>\n",
       "      <th>final_quote</th>\n",
       "    </tr>\n",
       "    <tr>\n",
       "      <th>phase</th>\n",
       "      <th></th>\n",
       "      <th></th>\n",
       "      <th></th>\n",
       "      <th></th>\n",
       "      <th></th>\n",
       "      <th></th>\n",
       "      <th></th>\n",
       "      <th></th>\n",
       "      <th></th>\n",
       "      <th></th>\n",
       "      <th></th>\n",
       "      <th></th>\n",
       "      <th></th>\n",
       "    </tr>\n",
       "  </thead>\n",
       "  <tbody>\n",
       "    <tr>\n",
       "      <th>E</th>\n",
       "      <td>1647515</td>\n",
       "      <td>1647515</td>\n",
       "      <td>1647515</td>\n",
       "      <td>1647515</td>\n",
       "      <td>1647515</td>\n",
       "      <td>1647515</td>\n",
       "      <td>1647515</td>\n",
       "      <td>1647515</td>\n",
       "      <td>1647515</td>\n",
       "      <td>1647515</td>\n",
       "      <td>1647515</td>\n",
       "      <td>1647515</td>\n",
       "      <td>1647515</td>\n",
       "    </tr>\n",
       "  </tbody>\n",
       "</table>\n",
       "</div>"
      ],
      "text/plain": [
       "       quoteID  quotation  speaker     qids     date  numOccurrences   probas  \\\n",
       "phase                                                                           \n",
       "E      1647515    1647515  1647515  1647515  1647515         1647515  1647515   \n",
       "\n",
       "          urls  quote_punctfree  quote_punctfree_token  \\\n",
       "phase                                                    \n",
       "E      1647515          1647515                1647515   \n",
       "\n",
       "       quote_punctfree_token_NoStopWord  \\\n",
       "phase                                     \n",
       "E                               1647515   \n",
       "\n",
       "       quote_punctfree_token_NoStopWord_lemm  final_quote  \n",
       "phase                                                      \n",
       "E                                    1647515      1647515  "
      ]
     },
     "execution_count": 19,
     "metadata": {},
     "output_type": "execute_result"
    }
   ],
   "source": [
    "df.groupby(df.phase).agg('count')"
   ]
  },
  {
   "cell_type": "markdown",
   "id": "2a31dc2f",
   "metadata": {
    "cell_id": "00038-da81e2bc-adb5-47e3-97a5-582438d163f6",
    "deepnote_cell_type": "markdown"
   },
   "source": [
    "## 2) Pre-analyzing Data  <a class=\"anchor\" id=\"I.2\"></a>"
   ]
  },
  {
   "cell_type": "markdown",
   "id": "2e8ec122",
   "metadata": {
    "cell_id": "00039-1f09d53b-58fa-4cd7-a544-a680c694cf77",
    "deepnote_cell_type": "markdown"
   },
   "source": [
    "### 2.1) Comparison before and after pre-processing  <a class=\"anchor\" id=\"I.2.1\"></a>"
   ]
  },
  {
   "cell_type": "markdown",
   "id": "3c15ddc4",
   "metadata": {
    "cell_id": "00040-ba3d5805-6d9b-4ba9-8a80-9b7d1cb51737",
    "deepnote_cell_type": "markdown",
    "tags": []
   },
   "source": [
    "#### 2.1.1) Analysis about characters  <a class=\"anchor\" id=\"I.2.1.1\"></a>"
   ]
  },
  {
   "cell_type": "code",
   "execution_count": 20,
   "id": "a388bfd5",
   "metadata": {
    "cell_id": "00041-eaa5cf01-3414-419f-a42e-124fb266c508",
    "deepnote_cell_type": "code"
   },
   "outputs": [],
   "source": [
    "# Creation of a new table for the analysis\n",
    "analyze = df.loc[:, ['quoteID', 'quotation', 'final_quote']].copy(deep=True)"
   ]
  },
  {
   "cell_type": "code",
   "execution_count": 21,
   "id": "814e184b",
   "metadata": {
    "cell_id": "00042-5f900c09-f56e-4c94-b290-0ff61f16907b",
    "deepnote_cell_type": "code",
    "deepnote_output_heights": [
     177
    ]
   },
   "outputs": [
    {
     "data": {
      "text/html": [
       "<div>\n",
       "<style scoped>\n",
       "    .dataframe tbody tr th:only-of-type {\n",
       "        vertical-align: middle;\n",
       "    }\n",
       "\n",
       "    .dataframe tbody tr th {\n",
       "        vertical-align: top;\n",
       "    }\n",
       "\n",
       "    .dataframe thead th {\n",
       "        text-align: right;\n",
       "    }\n",
       "</style>\n",
       "<table border=\"1\" class=\"dataframe\">\n",
       "  <thead>\n",
       "    <tr style=\"text-align: right;\">\n",
       "      <th></th>\n",
       "      <th>quoteID</th>\n",
       "      <th>quotation</th>\n",
       "      <th>final_quote</th>\n",
       "      <th>ch_quote</th>\n",
       "    </tr>\n",
       "  </thead>\n",
       "  <tbody>\n",
       "    <tr>\n",
       "      <th>0</th>\n",
       "      <td>2015-06-18-018819</td>\n",
       "      <td>How long do you think it'll take for Donald Tr...</td>\n",
       "      <td>[How, long, think, itll, take, Donald, Trump, ...</td>\n",
       "      <td>113</td>\n",
       "    </tr>\n",
       "    <tr>\n",
       "      <th>1</th>\n",
       "      <td>2015-09-16-006359</td>\n",
       "      <td>And I'm just pointing out the absurd on both s...</td>\n",
       "      <td>[And, Im, pointing, absurd, side, Im, sidetaki...</td>\n",
       "      <td>407</td>\n",
       "    </tr>\n",
       "    <tr>\n",
       "      <th>2</th>\n",
       "      <td>2015-05-11-003168</td>\n",
       "      <td>And you had Michael Jackson roller skating, an...</td>\n",
       "      <td>[And, Michael, Jackson, roller, skating, Donal...</td>\n",
       "      <td>61</td>\n",
       "    </tr>\n",
       "    <tr>\n",
       "      <th>3</th>\n",
       "      <td>2015-10-20-044420</td>\n",
       "      <td>I like that he's not spinning things. He seems...</td>\n",
       "      <td>[I, like, he, spinning, thing, He, seems, genu...</td>\n",
       "      <td>148</td>\n",
       "    </tr>\n",
       "    <tr>\n",
       "      <th>4</th>\n",
       "      <td>2015-12-22-031341</td>\n",
       "      <td>I promise, I won't talk about Trump again,</td>\n",
       "      <td>[I, promise, I, talk, Trump]</td>\n",
       "      <td>42</td>\n",
       "    </tr>\n",
       "  </tbody>\n",
       "</table>\n",
       "</div>"
      ],
      "text/plain": [
       "             quoteID                                          quotation  \\\n",
       "0  2015-06-18-018819  How long do you think it'll take for Donald Tr...   \n",
       "1  2015-09-16-006359  And I'm just pointing out the absurd on both s...   \n",
       "2  2015-05-11-003168  And you had Michael Jackson roller skating, an...   \n",
       "3  2015-10-20-044420  I like that he's not spinning things. He seems...   \n",
       "4  2015-12-22-031341         I promise, I won't talk about Trump again,   \n",
       "\n",
       "                                         final_quote  ch_quote  \n",
       "0  [How, long, think, itll, take, Donald, Trump, ...       113  \n",
       "1  [And, Im, pointing, absurd, side, Im, sidetaki...       407  \n",
       "2  [And, Michael, Jackson, roller, skating, Donal...        61  \n",
       "3  [I, like, he, spinning, thing, He, seems, genu...       148  \n",
       "4                       [I, promise, I, talk, Trump]        42  "
      ]
     },
     "execution_count": 21,
     "metadata": {},
     "output_type": "execute_result"
    }
   ],
   "source": [
    "# Creation of a new column with the number of characters per citation (spaces included)\n",
    "analyze[\"ch_quote\"] = analyze[\"quotation\"].apply(lambda x: len(x))\n",
    "\n",
    "analyze.head()"
   ]
  },
  {
   "cell_type": "code",
   "execution_count": 22,
   "id": "fdcff9c0",
   "metadata": {
    "cell_id": "00043-958c59f1-c607-43d3-b09c-a888b25a184d",
    "deepnote_cell_type": "code",
    "deepnote_output_heights": [
     177
    ]
   },
   "outputs": [
    {
     "data": {
      "text/html": [
       "<div>\n",
       "<style scoped>\n",
       "    .dataframe tbody tr th:only-of-type {\n",
       "        vertical-align: middle;\n",
       "    }\n",
       "\n",
       "    .dataframe tbody tr th {\n",
       "        vertical-align: top;\n",
       "    }\n",
       "\n",
       "    .dataframe thead th {\n",
       "        text-align: right;\n",
       "    }\n",
       "</style>\n",
       "<table border=\"1\" class=\"dataframe\">\n",
       "  <thead>\n",
       "    <tr style=\"text-align: right;\">\n",
       "      <th></th>\n",
       "      <th>quoteID</th>\n",
       "      <th>quotation</th>\n",
       "      <th>final_quote</th>\n",
       "      <th>ch_quote</th>\n",
       "      <th>ch_final_quote</th>\n",
       "    </tr>\n",
       "  </thead>\n",
       "  <tbody>\n",
       "    <tr>\n",
       "      <th>0</th>\n",
       "      <td>2015-06-18-018819</td>\n",
       "      <td>How long do you think it'll take for Donald Tr...</td>\n",
       "      <td>[How, long, think, itll, take, Donald, Trump, ...</td>\n",
       "      <td>113</td>\n",
       "      <td>77</td>\n",
       "    </tr>\n",
       "    <tr>\n",
       "      <th>1</th>\n",
       "      <td>2015-09-16-006359</td>\n",
       "      <td>And I'm just pointing out the absurd on both s...</td>\n",
       "      <td>[And, Im, pointing, absurd, side, Im, sidetaki...</td>\n",
       "      <td>407</td>\n",
       "      <td>291</td>\n",
       "    </tr>\n",
       "    <tr>\n",
       "      <th>2</th>\n",
       "      <td>2015-05-11-003168</td>\n",
       "      <td>And you had Michael Jackson roller skating, an...</td>\n",
       "      <td>[And, Michael, Jackson, roller, skating, Donal...</td>\n",
       "      <td>61</td>\n",
       "      <td>47</td>\n",
       "    </tr>\n",
       "    <tr>\n",
       "      <th>3</th>\n",
       "      <td>2015-10-20-044420</td>\n",
       "      <td>I like that he's not spinning things. He seems...</td>\n",
       "      <td>[I, like, he, spinning, thing, He, seems, genu...</td>\n",
       "      <td>148</td>\n",
       "      <td>89</td>\n",
       "    </tr>\n",
       "    <tr>\n",
       "      <th>4</th>\n",
       "      <td>2015-12-22-031341</td>\n",
       "      <td>I promise, I won't talk about Trump again,</td>\n",
       "      <td>[I, promise, I, talk, Trump]</td>\n",
       "      <td>42</td>\n",
       "      <td>22</td>\n",
       "    </tr>\n",
       "  </tbody>\n",
       "</table>\n",
       "</div>"
      ],
      "text/plain": [
       "             quoteID                                          quotation  \\\n",
       "0  2015-06-18-018819  How long do you think it'll take for Donald Tr...   \n",
       "1  2015-09-16-006359  And I'm just pointing out the absurd on both s...   \n",
       "2  2015-05-11-003168  And you had Michael Jackson roller skating, an...   \n",
       "3  2015-10-20-044420  I like that he's not spinning things. He seems...   \n",
       "4  2015-12-22-031341         I promise, I won't talk about Trump again,   \n",
       "\n",
       "                                         final_quote  ch_quote  ch_final_quote  \n",
       "0  [How, long, think, itll, take, Donald, Trump, ...       113              77  \n",
       "1  [And, Im, pointing, absurd, side, Im, sidetaki...       407             291  \n",
       "2  [And, Michael, Jackson, roller, skating, Donal...        61              47  \n",
       "3  [I, like, he, spinning, thing, He, seems, genu...       148              89  \n",
       "4                       [I, promise, I, talk, Trump]        42              22  "
      ]
     },
     "execution_count": 22,
     "metadata": {},
     "output_type": "execute_result"
    }
   ],
   "source": [
    "# Creation of a new column with the number of characters of the final quote without tokenization\n",
    "analyze[\"ch_final_quote\"] = (df[\"final_quote\"].apply(lambda x: ' '.join(x))).apply(lambda x: len(x))\n",
    "\n",
    "analyze.head()"
   ]
  },
  {
   "cell_type": "code",
   "execution_count": 23,
   "id": "29cbae3b",
   "metadata": {
    "cell_id": "00044-fafaeeb2-056b-4d16-921a-4eb9e9c20881",
    "deepnote_cell_type": "code",
    "deepnote_output_heights": [
     177
    ]
   },
   "outputs": [
    {
     "data": {
      "text/html": [
       "<div>\n",
       "<style scoped>\n",
       "    .dataframe tbody tr th:only-of-type {\n",
       "        vertical-align: middle;\n",
       "    }\n",
       "\n",
       "    .dataframe tbody tr th {\n",
       "        vertical-align: top;\n",
       "    }\n",
       "\n",
       "    .dataframe thead th {\n",
       "        text-align: right;\n",
       "    }\n",
       "</style>\n",
       "<table border=\"1\" class=\"dataframe\">\n",
       "  <thead>\n",
       "    <tr style=\"text-align: right;\">\n",
       "      <th></th>\n",
       "      <th>quoteID</th>\n",
       "      <th>quotation</th>\n",
       "      <th>final_quote</th>\n",
       "      <th>ch_quote</th>\n",
       "      <th>ch_final_quote</th>\n",
       "      <th>ch_removed</th>\n",
       "    </tr>\n",
       "  </thead>\n",
       "  <tbody>\n",
       "    <tr>\n",
       "      <th>0</th>\n",
       "      <td>2015-06-18-018819</td>\n",
       "      <td>How long do you think it'll take for Donald Tr...</td>\n",
       "      <td>[How, long, think, itll, take, Donald, Trump, ...</td>\n",
       "      <td>113</td>\n",
       "      <td>77</td>\n",
       "      <td>31.858407</td>\n",
       "    </tr>\n",
       "    <tr>\n",
       "      <th>1</th>\n",
       "      <td>2015-09-16-006359</td>\n",
       "      <td>And I'm just pointing out the absurd on both s...</td>\n",
       "      <td>[And, Im, pointing, absurd, side, Im, sidetaki...</td>\n",
       "      <td>407</td>\n",
       "      <td>291</td>\n",
       "      <td>28.501229</td>\n",
       "    </tr>\n",
       "    <tr>\n",
       "      <th>2</th>\n",
       "      <td>2015-05-11-003168</td>\n",
       "      <td>And you had Michael Jackson roller skating, an...</td>\n",
       "      <td>[And, Michael, Jackson, roller, skating, Donal...</td>\n",
       "      <td>61</td>\n",
       "      <td>47</td>\n",
       "      <td>22.950820</td>\n",
       "    </tr>\n",
       "    <tr>\n",
       "      <th>3</th>\n",
       "      <td>2015-10-20-044420</td>\n",
       "      <td>I like that he's not spinning things. He seems...</td>\n",
       "      <td>[I, like, he, spinning, thing, He, seems, genu...</td>\n",
       "      <td>148</td>\n",
       "      <td>89</td>\n",
       "      <td>39.864865</td>\n",
       "    </tr>\n",
       "    <tr>\n",
       "      <th>4</th>\n",
       "      <td>2015-12-22-031341</td>\n",
       "      <td>I promise, I won't talk about Trump again,</td>\n",
       "      <td>[I, promise, I, talk, Trump]</td>\n",
       "      <td>42</td>\n",
       "      <td>22</td>\n",
       "      <td>47.619048</td>\n",
       "    </tr>\n",
       "  </tbody>\n",
       "</table>\n",
       "</div>"
      ],
      "text/plain": [
       "             quoteID                                          quotation  \\\n",
       "0  2015-06-18-018819  How long do you think it'll take for Donald Tr...   \n",
       "1  2015-09-16-006359  And I'm just pointing out the absurd on both s...   \n",
       "2  2015-05-11-003168  And you had Michael Jackson roller skating, an...   \n",
       "3  2015-10-20-044420  I like that he's not spinning things. He seems...   \n",
       "4  2015-12-22-031341         I promise, I won't talk about Trump again,   \n",
       "\n",
       "                                         final_quote  ch_quote  \\\n",
       "0  [How, long, think, itll, take, Donald, Trump, ...       113   \n",
       "1  [And, Im, pointing, absurd, side, Im, sidetaki...       407   \n",
       "2  [And, Michael, Jackson, roller, skating, Donal...        61   \n",
       "3  [I, like, he, spinning, thing, He, seems, genu...       148   \n",
       "4                       [I, promise, I, talk, Trump]        42   \n",
       "\n",
       "   ch_final_quote  ch_removed  \n",
       "0              77   31.858407  \n",
       "1             291   28.501229  \n",
       "2              47   22.950820  \n",
       "3              89   39.864865  \n",
       "4              22   47.619048  "
      ]
     },
     "execution_count": 23,
     "metadata": {},
     "output_type": "execute_result"
    }
   ],
   "source": [
    "# Creation of a new column with the percentage of characters removed after pre-processing\n",
    "analyze[\"ch_removed\"] = (analyze[\"ch_quote\"]-analyze[\"ch_final_quote\"])*100/analyze[\"ch_quote\"]\n",
    "\n",
    "analyze.head()"
   ]
  },
  {
   "cell_type": "code",
   "execution_count": 24,
   "id": "d9497500",
   "metadata": {
    "cell_id": "00042-4637aebc-9a49-4971-8cfb-013f3f86f696",
    "deepnote_cell_type": "code",
    "tags": []
   },
   "outputs": [
    {
     "data": {
      "image/png": "[encoded data removed]",
      "text/plain": [
       "<Figure size 1008x288 with 2 Axes>"
      ]
     },
     "metadata": {
      "needs_background": "light"
     },
     "output_type": "display_data"
    }
   ],
   "source": [
    "# Plot the distribution of the number of characters by quotation before pre-processing data and after pre-processing data\n",
    "# And plot of the distribution of the percentage of characters removed after pre-processing\n",
    "\n",
    "fig, ax = plt.subplots(1,2,figsize=(14,4))\n",
    "\n",
    "ax[0].hist(analyze.ch_removed, bins=100, histtype='step')\n",
    "ax[0].set_title('Percentage of characters removed after pre-processing')\n",
    "ax[0].set_xlabel('Percentage of characters removed')\n",
    "ax[0].set_ylabel('Number of quotations')\n",
    "\n",
    "ax[1].hist([analyze.ch_quote, analyze.ch_final_quote], bins=100, histtype='step', label=['before pre-processing', 'after pre-processing'])\n",
    "ax[1].set_title('Number of characters')\n",
    "ax[1].set_xlabel('Number of characters by quotation')\n",
    "ax[1].set_ylabel('Number of quotations')\n",
    "\n",
    "plt.legend()\n",
    "plt.show()"
   ]
  },
  {
   "cell_type": "code",
   "execution_count": 25,
   "id": "13b6b775",
   "metadata": {
    "cell_id": "00043-35eaf44f-9a77-454c-af30-870a9bfdd8f4",
    "deepnote_cell_type": "code",
    "tags": []
   },
   "outputs": [
    {
     "data": {
      "text/plain": [
       "count    1.647515e+06\n",
       "mean     3.265374e+01\n",
       "std      1.090174e+01\n",
       "min     -3.448276e+00\n",
       "25%      2.571429e+01\n",
       "50%      3.239437e+01\n",
       "75%      3.935018e+01\n",
       "max      1.000000e+02\n",
       "Name: ch_removed, dtype: float64"
      ]
     },
     "execution_count": 25,
     "metadata": {},
     "output_type": "execute_result"
    }
   ],
   "source": [
    "# Describe the column about the percentage of characters removed\n",
    "analyze.ch_removed.describe()"
   ]
  },
  {
   "cell_type": "markdown",
   "id": "0cd45ce6",
   "metadata": {
    "cell_id": "00047-9dadd5a3-8f4a-45f1-85a9-b208ee48d837",
    "deepnote_cell_type": "markdown",
    "tags": []
   },
   "source": [
    "The percentage of characters removed after pre-processing seems to follow a Gaussian law centered on 33 percents. This is confirmed by the description of the column, as the median is 32%. It means that we removed around one third of the quotation characters. The standard deviation is quite low (11%), meaning that the percentage of characters removed is quite similar accross all the column.\n",
    "\n",
    "The distribution of the character number per citation seems to follow an heavy-tailed distribution. This could be useful to confirm that for the rest of the analysis, so let's use a logarithmic scale."
   ]
  },
  {
   "cell_type": "code",
   "execution_count": 26,
   "id": "ecb97d6d",
   "metadata": {
    "cell_id": "00045-4524c392-d759-469e-a6d5-a7d508f65fc5",
    "deepnote_cell_type": "code",
    "tags": []
   },
   "outputs": [
    {
     "data": {
      "image/png": "[encoded data removed]",
      "text/plain": [
       "<Figure size 360x288 with 1 Axes>"
      ]
     },
     "metadata": {
      "needs_background": "light"
     },
     "output_type": "display_data"
    }
   ],
   "source": [
    "# Same but with log scale for the x-axis\n",
    "plt.figure(figsize=(5,4))\n",
    "array0 = plt.hist(analyze.ch_quote, bins=100, log=True, histtype='step')\n",
    "array1 = plt.hist(analyze.ch_final_quote, bins=100, log=True, histtype='step')\n",
    "plt.xlabel('Number of characters by quotation')\n",
    "plt.ylabel('Number of quotations (in log scale)')\n",
    "plt.title('Number of characters')\n",
    "plt.legend(['before pre-processing', 'after pre-processing'])\n",
    "plt.show()"
   ]
  },
  {
   "cell_type": "code",
   "execution_count": 27,
   "id": "505c0e41",
   "metadata": {
    "cell_id": "00046-770e5a84-b612-48ac-94b1-531798232723",
    "deepnote_cell_type": "code",
    "tags": []
   },
   "outputs": [
    {
     "data": {
      "image/png": "[encoded data removed]",
      "text/plain": [
       "<Figure size 360x288 with 1 Axes>"
      ]
     },
     "metadata": {
      "needs_background": "light"
     },
     "output_type": "display_data"
    }
   ],
   "source": [
    "# Same but with log scale for the x-axis and the y-axis\n",
    "plt.figure(figsize=(5,4))\n",
    "plt.loglog(array0[1][1:],array0[0])\n",
    "plt.loglog(array1[1][1:],array1[0])\n",
    "plt.xlabel('Number of characters by quotation (in log scale)')\n",
    "plt.ylabel('Number of quotations (in log scale)')\n",
    "plt.title('Number of characters')\n",
    "plt.legend(['before pre-processing', 'after pre-processing'])\n",
    "plt.show()"
   ]
  },
  {
   "cell_type": "markdown",
   "id": "dd9009c3",
   "metadata": {
    "cell_id": "00050-c1bd6e52-2e3f-4833-8746-e85a45dbbb27",
    "deepnote_cell_type": "markdown"
   },
   "source": [
    "The log-log axis confirms that distributions follow power laws."
   ]
  },
  {
   "cell_type": "code",
   "execution_count": 28,
   "id": "e0dfaf24",
   "metadata": {
    "cell_id": "00048-a4ad4e0a-a2ec-4094-973b-1819be513cd8",
    "deepnote_cell_type": "code",
    "tags": []
   },
   "outputs": [
    {
     "data": {
      "image/png": "[encoded data removed]",
      "text/plain": [
       "<Figure size 360x288 with 1 Axes>"
      ]
     },
     "metadata": {
      "needs_background": "light"
     },
     "output_type": "display_data"
    }
   ],
   "source": [
    "# Same but with log scale for the y-axis and cumulative\n",
    "plt.figure(figsize=(5,4))\n",
    "array_cumulative0 = plt.hist(analyze.ch_quote, bins=100, log=True, histtype='step', cumulative=-1)\n",
    "array_cumulative1 = plt.hist(analyze.ch_final_quote, bins=100, log=True, histtype='step', cumulative=-1)\n",
    "plt.xlabel('Number of characters by quotation')\n",
    "plt.ylabel('Number of quotations (in log scale)')\n",
    "plt.title('Number of characters')\n",
    "plt.legend(['before pre-processing', 'after pre-processing'])\n",
    "plt.show()"
   ]
  },
  {
   "cell_type": "code",
   "execution_count": 29,
   "id": "4d2d673b",
   "metadata": {
    "cell_id": "00049-8384e823-32f8-4cfc-883f-ebf2955e7e09",
    "deepnote_cell_type": "code",
    "tags": []
   },
   "outputs": [
    {
     "data": {
      "image/png": "[encoded data removed]",
      "text/plain": [
       "<Figure size 360x288 with 1 Axes>"
      ]
     },
     "metadata": {
      "needs_background": "light"
     },
     "output_type": "display_data"
    }
   ],
   "source": [
    "# Same but with log scale for the x-axis and the y-axis and cumulative\n",
    "plt.figure(figsize=(5,4))\n",
    "plt.loglog(array_cumulative0[1][1:],array_cumulative0[0])\n",
    "plt.loglog(array_cumulative1[1][1:],array_cumulative1[0])\n",
    "plt.xlabel('Number of characters by quotation (in log scale)')\n",
    "plt.ylabel('Number of quotations (in log scale)')\n",
    "plt.title('Number of characters')\n",
    "plt.legend(['before pre-processing', 'after pre-processing'])\n",
    "plt.show()"
   ]
  },
  {
   "cell_type": "markdown",
   "id": "5950e5f1",
   "metadata": {
    "cell_id": "00053-bc803162-5e7e-4c2a-952a-1a3e9b82ca80",
    "deepnote_cell_type": "markdown"
   },
   "source": [
    "The shift between the two curves confirms that we successfully removed characters between data before processing and data after processing. Some quotations have a very large number of characters (more than 2,000). These outliers will be keept has they can bring robustness to our analysis. However, the quotations with 0 characters will be removed later as they do not provide anything to our analysis."
   ]
  },
  {
   "cell_type": "markdown",
   "id": "04bc0e80",
   "metadata": {
    "cell_id": "00054-d5d594e7-df45-4d60-a0f8-395ad70f1f39",
    "deepnote_cell_type": "markdown"
   },
   "source": [
    "#### 2.1.2) Analysis about words  <a class=\"anchor\" id=\"I.2.1.2\"></a>"
   ]
  },
  {
   "cell_type": "code",
   "execution_count": 30,
   "id": "e5864d47",
   "metadata": {
    "cell_id": "00055-2f9f53bf-8f5f-446b-a72e-4d0c2b5151ac",
    "deepnote_cell_type": "code",
    "deepnote_output_heights": [
     177
    ]
   },
   "outputs": [
    {
     "data": {
      "text/html": [
       "<div>\n",
       "<style scoped>\n",
       "    .dataframe tbody tr th:only-of-type {\n",
       "        vertical-align: middle;\n",
       "    }\n",
       "\n",
       "    .dataframe tbody tr th {\n",
       "        vertical-align: top;\n",
       "    }\n",
       "\n",
       "    .dataframe thead th {\n",
       "        text-align: right;\n",
       "    }\n",
       "</style>\n",
       "<table border=\"1\" class=\"dataframe\">\n",
       "  <thead>\n",
       "    <tr style=\"text-align: right;\">\n",
       "      <th></th>\n",
       "      <th>quoteID</th>\n",
       "      <th>quotation</th>\n",
       "      <th>final_quote</th>\n",
       "      <th>ch_quote</th>\n",
       "      <th>ch_final_quote</th>\n",
       "      <th>ch_removed</th>\n",
       "      <th>wd_quote</th>\n",
       "      <th>wd_final_quote</th>\n",
       "    </tr>\n",
       "  </thead>\n",
       "  <tbody>\n",
       "    <tr>\n",
       "      <th>0</th>\n",
       "      <td>2015-06-18-018819</td>\n",
       "      <td>How long do you think it'll take for Donald Tr...</td>\n",
       "      <td>[How, long, think, itll, take, Donald, Trump, ...</td>\n",
       "      <td>113</td>\n",
       "      <td>77</td>\n",
       "      <td>31.858407</td>\n",
       "      <td>22</td>\n",
       "      <td>13</td>\n",
       "    </tr>\n",
       "    <tr>\n",
       "      <th>1</th>\n",
       "      <td>2015-09-16-006359</td>\n",
       "      <td>And I'm just pointing out the absurd on both s...</td>\n",
       "      <td>[And, Im, pointing, absurd, side, Im, sidetaki...</td>\n",
       "      <td>407</td>\n",
       "      <td>291</td>\n",
       "      <td>28.501229</td>\n",
       "      <td>73</td>\n",
       "      <td>52</td>\n",
       "    </tr>\n",
       "    <tr>\n",
       "      <th>2</th>\n",
       "      <td>2015-05-11-003168</td>\n",
       "      <td>And you had Michael Jackson roller skating, an...</td>\n",
       "      <td>[And, Michael, Jackson, roller, skating, Donal...</td>\n",
       "      <td>61</td>\n",
       "      <td>47</td>\n",
       "      <td>22.950820</td>\n",
       "      <td>10</td>\n",
       "      <td>7</td>\n",
       "    </tr>\n",
       "    <tr>\n",
       "      <th>3</th>\n",
       "      <td>2015-10-20-044420</td>\n",
       "      <td>I like that he's not spinning things. He seems...</td>\n",
       "      <td>[I, like, he, spinning, thing, He, seems, genu...</td>\n",
       "      <td>148</td>\n",
       "      <td>89</td>\n",
       "      <td>39.864865</td>\n",
       "      <td>29</td>\n",
       "      <td>17</td>\n",
       "    </tr>\n",
       "    <tr>\n",
       "      <th>4</th>\n",
       "      <td>2015-12-22-031341</td>\n",
       "      <td>I promise, I won't talk about Trump again,</td>\n",
       "      <td>[I, promise, I, talk, Trump]</td>\n",
       "      <td>42</td>\n",
       "      <td>22</td>\n",
       "      <td>47.619048</td>\n",
       "      <td>8</td>\n",
       "      <td>5</td>\n",
       "    </tr>\n",
       "  </tbody>\n",
       "</table>\n",
       "</div>"
      ],
      "text/plain": [
       "             quoteID                                          quotation  \\\n",
       "0  2015-06-18-018819  How long do you think it'll take for Donald Tr...   \n",
       "1  2015-09-16-006359  And I'm just pointing out the absurd on both s...   \n",
       "2  2015-05-11-003168  And you had Michael Jackson roller skating, an...   \n",
       "3  2015-10-20-044420  I like that he's not spinning things. He seems...   \n",
       "4  2015-12-22-031341         I promise, I won't talk about Trump again,   \n",
       "\n",
       "                                         final_quote  ch_quote  \\\n",
       "0  [How, long, think, itll, take, Donald, Trump, ...       113   \n",
       "1  [And, Im, pointing, absurd, side, Im, sidetaki...       407   \n",
       "2  [And, Michael, Jackson, roller, skating, Donal...        61   \n",
       "3  [I, like, he, spinning, thing, He, seems, genu...       148   \n",
       "4                       [I, promise, I, talk, Trump]        42   \n",
       "\n",
       "   ch_final_quote  ch_removed  wd_quote  wd_final_quote  \n",
       "0              77   31.858407        22              13  \n",
       "1             291   28.501229        73              52  \n",
       "2              47   22.950820        10               7  \n",
       "3              89   39.864865        29              17  \n",
       "4              22   47.619048         8               5  "
      ]
     },
     "execution_count": 30,
     "metadata": {},
     "output_type": "execute_result"
    }
   ],
   "source": [
    "# Creation of a two columns with the number of words per citation before and after NoStopWord (cf. pre-processing)\n",
    "analyze[\"wd_quote\"] = df[\"quote_punctfree_token\"].apply(lambda x: len(x))\n",
    "analyze[\"wd_final_quote\"] = df[\"final_quote\"].apply(lambda x: len(x))\n",
    "\n",
    "analyze.head()"
   ]
  },
  {
   "cell_type": "code",
   "execution_count": 31,
   "id": "e6e30bcc",
   "metadata": {
    "cell_id": "00056-e92e9412-d346-4a27-8127-9bb39aaf2711",
    "deepnote_cell_type": "code",
    "deepnote_output_heights": [
     177
    ]
   },
   "outputs": [
    {
     "data": {
      "text/html": [
       "<div>\n",
       "<style scoped>\n",
       "    .dataframe tbody tr th:only-of-type {\n",
       "        vertical-align: middle;\n",
       "    }\n",
       "\n",
       "    .dataframe tbody tr th {\n",
       "        vertical-align: top;\n",
       "    }\n",
       "\n",
       "    .dataframe thead th {\n",
       "        text-align: right;\n",
       "    }\n",
       "</style>\n",
       "<table border=\"1\" class=\"dataframe\">\n",
       "  <thead>\n",
       "    <tr style=\"text-align: right;\">\n",
       "      <th></th>\n",
       "      <th>quoteID</th>\n",
       "      <th>quotation</th>\n",
       "      <th>final_quote</th>\n",
       "      <th>ch_quote</th>\n",
       "      <th>ch_final_quote</th>\n",
       "      <th>ch_removed</th>\n",
       "      <th>wd_quote</th>\n",
       "      <th>wd_final_quote</th>\n",
       "      <th>wd_removed</th>\n",
       "    </tr>\n",
       "  </thead>\n",
       "  <tbody>\n",
       "    <tr>\n",
       "      <th>0</th>\n",
       "      <td>2015-06-18-018819</td>\n",
       "      <td>How long do you think it'll take for Donald Tr...</td>\n",
       "      <td>[How, long, think, itll, take, Donald, Trump, ...</td>\n",
       "      <td>113</td>\n",
       "      <td>77</td>\n",
       "      <td>31.858407</td>\n",
       "      <td>22</td>\n",
       "      <td>13</td>\n",
       "      <td>40.909091</td>\n",
       "    </tr>\n",
       "    <tr>\n",
       "      <th>1</th>\n",
       "      <td>2015-09-16-006359</td>\n",
       "      <td>And I'm just pointing out the absurd on both s...</td>\n",
       "      <td>[And, Im, pointing, absurd, side, Im, sidetaki...</td>\n",
       "      <td>407</td>\n",
       "      <td>291</td>\n",
       "      <td>28.501229</td>\n",
       "      <td>73</td>\n",
       "      <td>52</td>\n",
       "      <td>28.767123</td>\n",
       "    </tr>\n",
       "    <tr>\n",
       "      <th>2</th>\n",
       "      <td>2015-05-11-003168</td>\n",
       "      <td>And you had Michael Jackson roller skating, an...</td>\n",
       "      <td>[And, Michael, Jackson, roller, skating, Donal...</td>\n",
       "      <td>61</td>\n",
       "      <td>47</td>\n",
       "      <td>22.950820</td>\n",
       "      <td>10</td>\n",
       "      <td>7</td>\n",
       "      <td>30.000000</td>\n",
       "    </tr>\n",
       "    <tr>\n",
       "      <th>3</th>\n",
       "      <td>2015-10-20-044420</td>\n",
       "      <td>I like that he's not spinning things. He seems...</td>\n",
       "      <td>[I, like, he, spinning, thing, He, seems, genu...</td>\n",
       "      <td>148</td>\n",
       "      <td>89</td>\n",
       "      <td>39.864865</td>\n",
       "      <td>29</td>\n",
       "      <td>17</td>\n",
       "      <td>41.379310</td>\n",
       "    </tr>\n",
       "    <tr>\n",
       "      <th>4</th>\n",
       "      <td>2015-12-22-031341</td>\n",
       "      <td>I promise, I won't talk about Trump again,</td>\n",
       "      <td>[I, promise, I, talk, Trump]</td>\n",
       "      <td>42</td>\n",
       "      <td>22</td>\n",
       "      <td>47.619048</td>\n",
       "      <td>8</td>\n",
       "      <td>5</td>\n",
       "      <td>37.500000</td>\n",
       "    </tr>\n",
       "  </tbody>\n",
       "</table>\n",
       "</div>"
      ],
      "text/plain": [
       "             quoteID                                          quotation  \\\n",
       "0  2015-06-18-018819  How long do you think it'll take for Donald Tr...   \n",
       "1  2015-09-16-006359  And I'm just pointing out the absurd on both s...   \n",
       "2  2015-05-11-003168  And you had Michael Jackson roller skating, an...   \n",
       "3  2015-10-20-044420  I like that he's not spinning things. He seems...   \n",
       "4  2015-12-22-031341         I promise, I won't talk about Trump again,   \n",
       "\n",
       "                                         final_quote  ch_quote  \\\n",
       "0  [How, long, think, itll, take, Donald, Trump, ...       113   \n",
       "1  [And, Im, pointing, absurd, side, Im, sidetaki...       407   \n",
       "2  [And, Michael, Jackson, roller, skating, Donal...        61   \n",
       "3  [I, like, he, spinning, thing, He, seems, genu...       148   \n",
       "4                       [I, promise, I, talk, Trump]        42   \n",
       "\n",
       "   ch_final_quote  ch_removed  wd_quote  wd_final_quote  wd_removed  \n",
       "0              77   31.858407        22              13   40.909091  \n",
       "1             291   28.501229        73              52   28.767123  \n",
       "2              47   22.950820        10               7   30.000000  \n",
       "3              89   39.864865        29              17   41.379310  \n",
       "4              22   47.619048         8               5   37.500000  "
      ]
     },
     "execution_count": 31,
     "metadata": {},
     "output_type": "execute_result"
    }
   ],
   "source": [
    "# Creation of a new column with the percentage of words removed after pre-processing\n",
    "analyze[\"wd_removed\"] = (analyze[\"wd_quote\"]-analyze[\"wd_final_quote\"])*100/analyze[\"wd_quote\"]\n",
    "\n",
    "analyze.head()"
   ]
  },
  {
   "cell_type": "code",
   "execution_count": 32,
   "id": "fa7e43a8",
   "metadata": {
    "cell_id": "00057-82535a09-6275-4527-91c5-67abfa70a161",
    "deepnote_cell_type": "code",
    "deepnote_output_heights": [
     335
    ]
   },
   "outputs": [
    {
     "data": {
      "image/png": "[encoded data removed]",
      "text/plain": [
       "<Figure size 1080x360 with 3 Axes>"
      ]
     },
     "metadata": {
      "needs_background": "light"
     },
     "output_type": "display_data"
    }
   ],
   "source": [
    "# Plot the distribution of the number of words by quotation before pre-processing data and after pre-processing data\n",
    "# And plot of the distribution of the percentage of words removed after pre-processing\n",
    "\n",
    "fig, ax = plt.subplots(1,3,figsize=(15,5))\n",
    "\n",
    "ax[0].hist(analyze.wd_removed, bins=100, histtype='step')\n",
    "ax[0].set_title('Percentage of words removed after pre-processing')\n",
    "ax[0].set_xlabel('Percentage of words removed')\n",
    "ax[0].set_ylabel('Number of quotations')\n",
    "\n",
    "ax[1].hist(analyze.wd_removed, bins=100, log=True, histtype='step')\n",
    "ax[1].set_title('Idem')\n",
    "ax[1].set_xlabel('Percentage of words removed')\n",
    "ax[1].set_ylabel('Number of quotations (in log scale)')\n",
    "\n",
    "ax[2].hist([analyze.wd_quote, analyze.wd_final_quote], bins=100, histtype='step', label=['before pre-processing', 'after pre-processing'])\n",
    "ax[2].set_title('Number of words')\n",
    "ax[2].set_xlabel('Number of words by quotation')\n",
    "ax[2].set_ylabel('Number of quotations')\n",
    "\n",
    "plt.legend()\n",
    "plt.show()"
   ]
  },
  {
   "cell_type": "code",
   "execution_count": 33,
   "id": "91271a2e",
   "metadata": {
    "cell_id": "00058-1ece8e9f-a95d-47d0-821e-80b92bc15c87",
    "deepnote_cell_type": "code",
    "deepnote_output_heights": [
     174.796875
    ]
   },
   "outputs": [
    {
     "data": {
      "text/plain": [
       "count    1.647515e+06\n",
       "mean     4.032738e+01\n",
       "std      1.212191e+01\n",
       "min      0.000000e+00\n",
       "25%      3.333333e+01\n",
       "50%      4.146341e+01\n",
       "75%      4.821429e+01\n",
       "max      1.000000e+02\n",
       "Name: wd_removed, dtype: float64"
      ]
     },
     "execution_count": 33,
     "metadata": {},
     "output_type": "execute_result"
    }
   ],
   "source": [
    "#Describe the column about the percentage of characters removed\n",
    "analyze.wd_removed.describe()"
   ]
  },
  {
   "cell_type": "markdown",
   "id": "e74465e7",
   "metadata": {
    "cell_id": "00059-ba8aa825-c2c7-4d02-b7ad-9db2efc3fd9e",
    "deepnote_cell_type": "markdown"
   },
   "source": [
    "Again, it seems that the number of words per quotations follow a heavy-tailed distribution, so we will check it later.\n",
    "The words removed follow a Gaussion distribution centered on around 40%, which is confirmed by the median (41 % of the quotation words removed). The std (12%) shows that the dispersion is quite low."
   ]
  },
  {
   "cell_type": "code",
   "execution_count": 34,
   "id": "a6c9f241",
   "metadata": {
    "cell_id": "00060-5e5e45f4-b82e-487e-b3a1-88050f7cd4e4",
    "deepnote_cell_type": "code",
    "deepnote_output_heights": [
     280
    ]
   },
   "outputs": [
    {
     "data": {
      "image/png": "[encoded data removed]",
      "text/plain": [
       "<Figure size 360x288 with 1 Axes>"
      ]
     },
     "metadata": {
      "needs_background": "light"
     },
     "output_type": "display_data"
    }
   ],
   "source": [
    "# Same but with log scale for the y-axis and cumulative\n",
    "plt.figure(figsize=(5,4))\n",
    "array_cumulative0 = plt.hist(analyze.wd_quote, bins=100, log=True, histtype='step', cumulative=-1)\n",
    "array_cumulative1 = plt.hist(analyze.wd_final_quote, bins=100, log=True, histtype='step', cumulative=-1)\n",
    "plt.xlabel('Number of words by quotation')\n",
    "plt.ylabel('Number of quotations (in log scale)')\n",
    "plt.title('Number of words')\n",
    "plt.legend(['before pre-processing', 'after pre-processing'])\n",
    "plt.show()"
   ]
  },
  {
   "cell_type": "code",
   "execution_count": 35,
   "id": "f2c5c8da",
   "metadata": {
    "cell_id": "00061-da77bb97-6f25-40cb-92ab-e0a545cbe56a",
    "deepnote_cell_type": "code",
    "deepnote_output_heights": [
     284
    ]
   },
   "outputs": [
    {
     "data": {
      "image/png": "[encoded data removed]",
      "text/plain": [
       "<Figure size 360x288 with 1 Axes>"
      ]
     },
     "metadata": {
      "needs_background": "light"
     },
     "output_type": "display_data"
    }
   ],
   "source": [
    "# Same but with log scale for the x-axis and the y-axis and cumulative\n",
    "plt.figure(figsize=(5,4))\n",
    "plt.loglog(array_cumulative0[1][1:],array_cumulative0[0])\n",
    "plt.loglog(array_cumulative1[1][1:],array_cumulative1[0])\n",
    "plt.xlabel('Number of words by quotation (in log scale)')\n",
    "plt.ylabel('Number of quotations (in log scale)')\n",
    "plt.title('Number of words')\n",
    "plt.legend(['before pre-processing', 'after pre-processing'])\n",
    "plt.show()"
   ]
  },
  {
   "cell_type": "markdown",
   "id": "212a38a5",
   "metadata": {
    "cell_id": "00062-cfb5ab27-49a4-4489-a488-2e1308de2c6d",
    "deepnote_cell_type": "markdown"
   },
   "source": [
    "Once again, the shift between the two curves confirm that words were removed during the pre-processing."
   ]
  },
  {
   "cell_type": "markdown",
   "id": "6f9a1d0f",
   "metadata": {
    "cell_id": "00070-fae97ad9-95f9-460e-991e-3524e35a162e",
    "deepnote_cell_type": "markdown"
   },
   "source": [
    "### 2.2) Selection of quotations AND comparison before and after selection  <a class=\"anchor\" id=\"I.2.2\"></a>"
   ]
  },
  {
   "cell_type": "code",
   "execution_count": 36,
   "id": "ff1e10fd",
   "metadata": {
    "cell_id": "00071-afbcf82d-ed16-43c7-9dd9-a886c0998afb",
    "deepnote_cell_type": "code",
    "deepnote_output_heights": [
     null,
     177
    ]
   },
   "outputs": [
    {
     "name": "stderr",
     "output_type": "stream",
     "text": [
      "C:\\Users\\felic\\AppData\\Local\\Temp/ipykernel_23684/3449708622.py:3: FutureWarning: In a future version of pandas all arguments of DataFrame.drop except for the argument 'labels' will be keyword-only\n",
      "  df_select = df.drop(['quote_punctfree', 'quote_punctfree_token', 'quote_punctfree_token_NoStopWord', 'quote_punctfree_token_NoStopWord_lemm'], 1)\n"
     ]
    },
    {
     "data": {
      "text/html": [
       "<div>\n",
       "<style scoped>\n",
       "    .dataframe tbody tr th:only-of-type {\n",
       "        vertical-align: middle;\n",
       "    }\n",
       "\n",
       "    .dataframe tbody tr th {\n",
       "        vertical-align: top;\n",
       "    }\n",
       "\n",
       "    .dataframe thead th {\n",
       "        text-align: right;\n",
       "    }\n",
       "</style>\n",
       "<table border=\"1\" class=\"dataframe\">\n",
       "  <thead>\n",
       "    <tr style=\"text-align: right;\">\n",
       "      <th></th>\n",
       "      <th>index</th>\n",
       "      <th>quoteID</th>\n",
       "      <th>quotation</th>\n",
       "      <th>speaker</th>\n",
       "      <th>qids</th>\n",
       "      <th>date</th>\n",
       "      <th>numOccurrences</th>\n",
       "      <th>probas</th>\n",
       "      <th>urls</th>\n",
       "      <th>phase</th>\n",
       "      <th>final_quote</th>\n",
       "    </tr>\n",
       "  </thead>\n",
       "  <tbody>\n",
       "    <tr>\n",
       "      <th>0</th>\n",
       "      <td>0</td>\n",
       "      <td>2015-06-18-018819</td>\n",
       "      <td>How long do you think it'll take for Donald Tr...</td>\n",
       "      <td>Chris Matthews</td>\n",
       "      <td>[Q15735939, Q25189328, Q5107375, Q5110828, Q51...</td>\n",
       "      <td>2015-06-18 10:00:00</td>\n",
       "      <td>1</td>\n",
       "      <td>[[Chris Matthews, 0.3869], [None, 0.3198], [Do...</td>\n",
       "      <td>[http://talkingpointsmemo.com/dc/donald-trump-...</td>\n",
       "      <td>E</td>\n",
       "      <td>[How, long, think, itll, take, Donald, Trump, ...</td>\n",
       "    </tr>\n",
       "    <tr>\n",
       "      <th>1</th>\n",
       "      <td>1</td>\n",
       "      <td>2015-09-16-006359</td>\n",
       "      <td>And I'm just pointing out the absurd on both s...</td>\n",
       "      <td>Kathleen Madigan</td>\n",
       "      <td>[Q6376814]</td>\n",
       "      <td>2015-09-16 05:44:37</td>\n",
       "      <td>1</td>\n",
       "      <td>[[Kathleen Madigan, 0.8025], [None, 0.1975]]</td>\n",
       "      <td>[http://northjersey.com/arts-and-entertainment...</td>\n",
       "      <td>E</td>\n",
       "      <td>[And, Im, pointing, absurd, side, Im, sidetaki...</td>\n",
       "    </tr>\n",
       "    <tr>\n",
       "      <th>2</th>\n",
       "      <td>2</td>\n",
       "      <td>2015-05-11-003168</td>\n",
       "      <td>And you had Michael Jackson roller skating, an...</td>\n",
       "      <td>Jim McMahon</td>\n",
       "      <td>[Q1689159, Q17306267, Q6196886]</td>\n",
       "      <td>2015-05-11 02:03:27</td>\n",
       "      <td>1</td>\n",
       "      <td>[[Jim McMahon, 0.8731], [None, 0.1232], [Linda...</td>\n",
       "      <td>[http://www.seattletimes.com/seattle-news/bell...</td>\n",
       "      <td>E</td>\n",
       "      <td>[And, Michael, Jackson, roller, skating, Donal...</td>\n",
       "    </tr>\n",
       "    <tr>\n",
       "      <th>3</th>\n",
       "      <td>3</td>\n",
       "      <td>2015-10-20-044420</td>\n",
       "      <td>I like that he's not spinning things. He seems...</td>\n",
       "      <td>None</td>\n",
       "      <td>[]</td>\n",
       "      <td>2015-10-20 23:46:58</td>\n",
       "      <td>1</td>\n",
       "      <td>[[None, 0.7832], [Ben Carson, 0.0755], [Bobby ...</td>\n",
       "      <td>[http://detroitnews.com/story/news/politics/20...</td>\n",
       "      <td>E</td>\n",
       "      <td>[I, like, he, spinning, thing, He, seems, genu...</td>\n",
       "    </tr>\n",
       "    <tr>\n",
       "      <th>4</th>\n",
       "      <td>4</td>\n",
       "      <td>2015-12-22-031341</td>\n",
       "      <td>I promise, I won't talk about Trump again,</td>\n",
       "      <td>Jeb Bush</td>\n",
       "      <td>[Q221997]</td>\n",
       "      <td>2015-12-22 20:43:59</td>\n",
       "      <td>10</td>\n",
       "      <td>[[Jeb Bush, 0.7816], [None, 0.1677], [Donald T...</td>\n",
       "      <td>[http://www.politico.com/story/2015/12/jeb-bus...</td>\n",
       "      <td>E</td>\n",
       "      <td>[I, promise, I, talk, Trump]</td>\n",
       "    </tr>\n",
       "  </tbody>\n",
       "</table>\n",
       "</div>"
      ],
      "text/plain": [
       "   index            quoteID  \\\n",
       "0      0  2015-06-18-018819   \n",
       "1      1  2015-09-16-006359   \n",
       "2      2  2015-05-11-003168   \n",
       "3      3  2015-10-20-044420   \n",
       "4      4  2015-12-22-031341   \n",
       "\n",
       "                                           quotation           speaker  \\\n",
       "0  How long do you think it'll take for Donald Tr...    Chris Matthews   \n",
       "1  And I'm just pointing out the absurd on both s...  Kathleen Madigan   \n",
       "2  And you had Michael Jackson roller skating, an...       Jim McMahon   \n",
       "3  I like that he's not spinning things. He seems...              None   \n",
       "4         I promise, I won't talk about Trump again,          Jeb Bush   \n",
       "\n",
       "                                                qids                 date  \\\n",
       "0  [Q15735939, Q25189328, Q5107375, Q5110828, Q51...  2015-06-18 10:00:00   \n",
       "1                                         [Q6376814]  2015-09-16 05:44:37   \n",
       "2                    [Q1689159, Q17306267, Q6196886]  2015-05-11 02:03:27   \n",
       "3                                                 []  2015-10-20 23:46:58   \n",
       "4                                          [Q221997]  2015-12-22 20:43:59   \n",
       "\n",
       "   numOccurrences                                             probas  \\\n",
       "0               1  [[Chris Matthews, 0.3869], [None, 0.3198], [Do...   \n",
       "1               1       [[Kathleen Madigan, 0.8025], [None, 0.1975]]   \n",
       "2               1  [[Jim McMahon, 0.8731], [None, 0.1232], [Linda...   \n",
       "3               1  [[None, 0.7832], [Ben Carson, 0.0755], [Bobby ...   \n",
       "4              10  [[Jeb Bush, 0.7816], [None, 0.1677], [Donald T...   \n",
       "\n",
       "                                                urls phase  \\\n",
       "0  [http://talkingpointsmemo.com/dc/donald-trump-...     E   \n",
       "1  [http://northjersey.com/arts-and-entertainment...     E   \n",
       "2  [http://www.seattletimes.com/seattle-news/bell...     E   \n",
       "3  [http://detroitnews.com/story/news/politics/20...     E   \n",
       "4  [http://www.politico.com/story/2015/12/jeb-bus...     E   \n",
       "\n",
       "                                         final_quote  \n",
       "0  [How, long, think, itll, take, Donald, Trump, ...  \n",
       "1  [And, Im, pointing, absurd, side, Im, sidetaki...  \n",
       "2  [And, Michael, Jackson, roller, skating, Donal...  \n",
       "3  [I, like, he, spinning, thing, He, seems, genu...  \n",
       "4                       [I, promise, I, talk, Trump]  "
      ]
     },
     "execution_count": 36,
     "metadata": {},
     "output_type": "execute_result"
    }
   ],
   "source": [
    "# Creation of a new dataframe where we will select only interesting quotations\n",
    "df_select = df.copy(deep=True)\n",
    "df_select = df.drop(['quote_punctfree', 'quote_punctfree_token', 'quote_punctfree_token_NoStopWord', 'quote_punctfree_token_NoStopWord_lemm'], 1)\n",
    "df_select.reset_index(inplace=True)\n",
    "df_select.head()"
   ]
  },
  {
   "cell_type": "code",
   "execution_count": 37,
   "id": "cf1d6a3b-46a5-493e-82ae-a2b1f4536c47",
   "metadata": {},
   "outputs": [
    {
     "data": {
      "text/plain": [
       "1647515"
      ]
     },
     "execution_count": 37,
     "metadata": {},
     "output_type": "execute_result"
    }
   ],
   "source": [
    "# Number of quotations before doing the selection\n",
    "NbIni_quotes = len(df_select)\n",
    "NbIni_quotes"
   ]
  },
  {
   "cell_type": "code",
   "execution_count": 38,
   "id": "58de7197",
   "metadata": {
    "cell_id": "00073-4b9c32bb-07ce-44fe-b6fc-d646a426138b",
    "deepnote_cell_type": "code"
   },
   "outputs": [
    {
     "name": "stdout",
     "output_type": "stream",
     "text": [
      "0 of NA quotations\n",
      "0 of NA speakers\n"
     ]
    }
   ],
   "source": [
    "# Checking that there is no NA for quotations and speakers\n",
    "print(\"{} of NA quotations\".format(df_select[df_select.quotation.isnull()].shape[0]))\n",
    "print(\"{} of NA speakers\".format(df_select[df_select.speaker.isnull()].shape[0]))"
   ]
  },
  {
   "cell_type": "markdown",
   "id": "86f7cc15",
   "metadata": {
    "cell_id": "00074-af54c179-30f1-4e53-9831-667c3849a0b7",
    "deepnote_cell_type": "markdown"
   },
   "source": [
    "#### 2.2.1) Dropping quotations where the main speaker is \"None\"  <a class=\"anchor\" id=\"I.2.2.1\"></a>"
   ]
  },
  {
   "cell_type": "code",
   "execution_count": 39,
   "id": "f6eb4858",
   "metadata": {
    "cell_id": "00075-12b77ca3-8d46-4d3c-abf9-f58cf7577c31",
    "deepnote_cell_type": "code",
    "deepnote_output_heights": [
     177
    ]
   },
   "outputs": [
    {
     "data": {
      "text/html": [
       "<div>\n",
       "<style scoped>\n",
       "    .dataframe tbody tr th:only-of-type {\n",
       "        vertical-align: middle;\n",
       "    }\n",
       "\n",
       "    .dataframe tbody tr th {\n",
       "        vertical-align: top;\n",
       "    }\n",
       "\n",
       "    .dataframe thead th {\n",
       "        text-align: right;\n",
       "    }\n",
       "</style>\n",
       "<table border=\"1\" class=\"dataframe\">\n",
       "  <thead>\n",
       "    <tr style=\"text-align: right;\">\n",
       "      <th></th>\n",
       "      <th>index</th>\n",
       "      <th>quoteID</th>\n",
       "      <th>quotation</th>\n",
       "      <th>speaker</th>\n",
       "      <th>qids</th>\n",
       "      <th>date</th>\n",
       "      <th>numOccurrences</th>\n",
       "      <th>probas</th>\n",
       "      <th>urls</th>\n",
       "      <th>phase</th>\n",
       "      <th>final_quote</th>\n",
       "    </tr>\n",
       "  </thead>\n",
       "  <tbody>\n",
       "    <tr>\n",
       "      <th>0</th>\n",
       "      <td>0</td>\n",
       "      <td>2015-06-18-018819</td>\n",
       "      <td>How long do you think it'll take for Donald Tr...</td>\n",
       "      <td>Chris Matthews</td>\n",
       "      <td>[Q15735939, Q25189328, Q5107375, Q5110828, Q51...</td>\n",
       "      <td>2015-06-18 10:00:00</td>\n",
       "      <td>1</td>\n",
       "      <td>[[Chris Matthews, 0.3869], [None, 0.3198], [Do...</td>\n",
       "      <td>[http://talkingpointsmemo.com/dc/donald-trump-...</td>\n",
       "      <td>E</td>\n",
       "      <td>[How, long, think, itll, take, Donald, Trump, ...</td>\n",
       "    </tr>\n",
       "    <tr>\n",
       "      <th>1</th>\n",
       "      <td>1</td>\n",
       "      <td>2015-09-16-006359</td>\n",
       "      <td>And I'm just pointing out the absurd on both s...</td>\n",
       "      <td>Kathleen Madigan</td>\n",
       "      <td>[Q6376814]</td>\n",
       "      <td>2015-09-16 05:44:37</td>\n",
       "      <td>1</td>\n",
       "      <td>[[Kathleen Madigan, 0.8025], [None, 0.1975]]</td>\n",
       "      <td>[http://northjersey.com/arts-and-entertainment...</td>\n",
       "      <td>E</td>\n",
       "      <td>[And, Im, pointing, absurd, side, Im, sidetaki...</td>\n",
       "    </tr>\n",
       "    <tr>\n",
       "      <th>2</th>\n",
       "      <td>2</td>\n",
       "      <td>2015-05-11-003168</td>\n",
       "      <td>And you had Michael Jackson roller skating, an...</td>\n",
       "      <td>Jim McMahon</td>\n",
       "      <td>[Q1689159, Q17306267, Q6196886]</td>\n",
       "      <td>2015-05-11 02:03:27</td>\n",
       "      <td>1</td>\n",
       "      <td>[[Jim McMahon, 0.8731], [None, 0.1232], [Linda...</td>\n",
       "      <td>[http://www.seattletimes.com/seattle-news/bell...</td>\n",
       "      <td>E</td>\n",
       "      <td>[And, Michael, Jackson, roller, skating, Donal...</td>\n",
       "    </tr>\n",
       "    <tr>\n",
       "      <th>4</th>\n",
       "      <td>4</td>\n",
       "      <td>2015-12-22-031341</td>\n",
       "      <td>I promise, I won't talk about Trump again,</td>\n",
       "      <td>Jeb Bush</td>\n",
       "      <td>[Q221997]</td>\n",
       "      <td>2015-12-22 20:43:59</td>\n",
       "      <td>10</td>\n",
       "      <td>[[Jeb Bush, 0.7816], [None, 0.1677], [Donald T...</td>\n",
       "      <td>[http://www.politico.com/story/2015/12/jeb-bus...</td>\n",
       "      <td>E</td>\n",
       "      <td>[I, promise, I, talk, Trump]</td>\n",
       "    </tr>\n",
       "    <tr>\n",
       "      <th>6</th>\n",
       "      <td>6</td>\n",
       "      <td>2015-07-21-047379</td>\n",
       "      <td>I'm sure the Republicans are enjoying Mr. Trum...</td>\n",
       "      <td>President Barack Obama</td>\n",
       "      <td>[Q76]</td>\n",
       "      <td>2015-07-21 15:18:20</td>\n",
       "      <td>205</td>\n",
       "      <td>[[President Barack Obama, 0.6523], [None, 0.19...</td>\n",
       "      <td>[http://azdailysun.com/entertainment/televisio...</td>\n",
       "      <td>E</td>\n",
       "      <td>[Im, sure, Republicans, enjoying, Mr, Trumps, ...</td>\n",
       "    </tr>\n",
       "  </tbody>\n",
       "</table>\n",
       "</div>"
      ],
      "text/plain": [
       "   index            quoteID  \\\n",
       "0      0  2015-06-18-018819   \n",
       "1      1  2015-09-16-006359   \n",
       "2      2  2015-05-11-003168   \n",
       "4      4  2015-12-22-031341   \n",
       "6      6  2015-07-21-047379   \n",
       "\n",
       "                                           quotation                 speaker  \\\n",
       "0  How long do you think it'll take for Donald Tr...          Chris Matthews   \n",
       "1  And I'm just pointing out the absurd on both s...        Kathleen Madigan   \n",
       "2  And you had Michael Jackson roller skating, an...             Jim McMahon   \n",
       "4         I promise, I won't talk about Trump again,                Jeb Bush   \n",
       "6  I'm sure the Republicans are enjoying Mr. Trum...  President Barack Obama   \n",
       "\n",
       "                                                qids                 date  \\\n",
       "0  [Q15735939, Q25189328, Q5107375, Q5110828, Q51...  2015-06-18 10:00:00   \n",
       "1                                         [Q6376814]  2015-09-16 05:44:37   \n",
       "2                    [Q1689159, Q17306267, Q6196886]  2015-05-11 02:03:27   \n",
       "4                                          [Q221997]  2015-12-22 20:43:59   \n",
       "6                                              [Q76]  2015-07-21 15:18:20   \n",
       "\n",
       "   numOccurrences                                             probas  \\\n",
       "0               1  [[Chris Matthews, 0.3869], [None, 0.3198], [Do...   \n",
       "1               1       [[Kathleen Madigan, 0.8025], [None, 0.1975]]   \n",
       "2               1  [[Jim McMahon, 0.8731], [None, 0.1232], [Linda...   \n",
       "4              10  [[Jeb Bush, 0.7816], [None, 0.1677], [Donald T...   \n",
       "6             205  [[President Barack Obama, 0.6523], [None, 0.19...   \n",
       "\n",
       "                                                urls phase  \\\n",
       "0  [http://talkingpointsmemo.com/dc/donald-trump-...     E   \n",
       "1  [http://northjersey.com/arts-and-entertainment...     E   \n",
       "2  [http://www.seattletimes.com/seattle-news/bell...     E   \n",
       "4  [http://www.politico.com/story/2015/12/jeb-bus...     E   \n",
       "6  [http://azdailysun.com/entertainment/televisio...     E   \n",
       "\n",
       "                                         final_quote  \n",
       "0  [How, long, think, itll, take, Donald, Trump, ...  \n",
       "1  [And, Im, pointing, absurd, side, Im, sidetaki...  \n",
       "2  [And, Michael, Jackson, roller, skating, Donal...  \n",
       "4                       [I, promise, I, talk, Trump]  \n",
       "6  [Im, sure, Republicans, enjoying, Mr, Trumps, ...  "
      ]
     },
     "execution_count": 39,
     "metadata": {},
     "output_type": "execute_result"
    }
   ],
   "source": [
    "# Dropping rows where the main speaker is \"None\"\n",
    "indexNames = df_select[df_select['speaker']=='None'].index\n",
    "df_select.drop(indexNames, inplace=True)\n",
    "df_select.head()"
   ]
  },
  {
   "cell_type": "code",
   "execution_count": 40,
   "id": "17c94977",
   "metadata": {
    "cell_id": "00076-c1345545-0933-4fc2-a121-a1d2bafc59fa",
    "deepnote_cell_type": "code"
   },
   "outputs": [
    {
     "name": "stdout",
     "output_type": "stream",
     "text": [
      "391435 quotations has been removed.\n",
      "24% of quotations has been removed.\n"
     ]
    }
   ],
   "source": [
    "# Number/Percentage of quotations removed because their main author was \"None\"\n",
    "print(f\"{NbIni_quotes - len(df_select)} quotations has been removed.\")\n",
    "print(f\"{(NbIni_quotes - len(df_select))*100/NbIni_quotes:.0f}% of quotations has been removed.\")"
   ]
  },
  {
   "cell_type": "markdown",
   "id": "e975b892",
   "metadata": {
    "cell_id": "00077-ed03394d-c9c0-4233-9cf5-d9f33d57c7ff",
    "deepnote_cell_type": "markdown"
   },
   "source": [
    "#### 2.2.2) Dropping quotations with too weak speaker probability  <a class=\"anchor\" id=\"I.2.2.2\"></a>"
   ]
  },
  {
   "cell_type": "code",
   "execution_count": 41,
   "id": "23d254dc-7c60-490e-9916-635f43fcdc38",
   "metadata": {},
   "outputs": [
    {
     "data": {
      "text/plain": [
       "Text(0, 0.5, 'Number of quotations')"
      ]
     },
     "execution_count": 41,
     "metadata": {},
     "output_type": "execute_result"
    },
    {
     "data": {
      "image/png": "[encoded data removed]",
      "text/plain": [
       "<Figure size 432x288 with 1 Axes>"
      ]
     },
     "metadata": {
      "needs_background": "light"
     },
     "output_type": "display_data"
    }
   ],
   "source": [
    "# Distribution of the probability attributed to the main speaker\n",
    "proba_speaker1 = df_select['probas'].apply(lambda x: x[0][1]).astype(float)\n",
    "plt.hist(proba_speaker1, bins=50, histtype='step')\n",
    "plt.axvline(x=0.5, linewidth=2, color='r')\n",
    "plt.axvline(x=0.7, linewidth=2, color='g')\n",
    "plt.axvline(x=0.8, linewidth=2, color='y')\n",
    "plt.xlabel('Probability of the main speaker')\n",
    "plt.ylabel('Number of quotations')"
   ]
  },
  {
   "cell_type": "markdown",
   "id": "a17f646a",
   "metadata": {
    "cell_id": "00079-bbbe38e6-b830-41cd-b828-96aad6953705",
    "deepnote_cell_type": "markdown"
   },
   "source": [
    "Each vertical line represents a threshold (0.5, 0.7, 0.8). The aim will be to determined the best threshold to deel with the tradeoff between a good probability for the speaker identity and keeping enough quotations to carry out LDA in the last part."
   ]
  },
  {
   "cell_type": "code",
   "execution_count": 42,
   "id": "7078085a-d648-4891-8c5c-e450d34da3d1",
   "metadata": {},
   "outputs": [
    {
     "data": {
      "image/png": "[encoded data removed]",
      "text/plain": [
       "<Figure size 360x288 with 1 Axes>"
      ]
     },
     "metadata": {
      "needs_background": "light"
     },
     "output_type": "display_data"
    }
   ],
   "source": [
    "# Same but with log scale for the y-axis and cumulative\n",
    "plt.figure(figsize=(5,4))\n",
    "array_cumulative = plt.hist(proba_speaker1, bins=50, log=True, histtype='step', cumulative=-1)\n",
    "plt.axvline(x=0.5, linewidth=2, color='r')\n",
    "plt.axvline(x=0.7, linewidth=2, color='g')\n",
    "plt.axvline(x=0.8, linewidth=2, color='y')\n",
    "plt.xlabel('Probability of the main speaker')\n",
    "plt.ylabel('Number of quotations (in log scale)')\n",
    "plt.show()"
   ]
  },
  {
   "cell_type": "code",
   "execution_count": 43,
   "id": "226814f8-050d-40a7-94bd-77aba13c8b0d",
   "metadata": {},
   "outputs": [
    {
     "name": "stdout",
     "output_type": "stream",
     "text": [
      "13% of quotations would be removed if p>=0.5.\n",
      "47% of quotations would be removed if p>=0.7.\n",
      "68% of quotations would be removed if p>=0.8.\n",
      "p_median = 0.7459 if p>=0.5.\n",
      "p_median = 0.8244 if p>=0.7.\n",
      "p_median = 0.8696 if p>=0.8.\n"
     ]
    }
   ],
   "source": [
    "# Percentage of quotations removed with the probability p attributed to the main speaker >=0.5 or >=0.7 or >=0.8\n",
    "print(f\"{(len(proba_speaker1[proba_speaker1<0.5]))*100/len(proba_speaker1):.0f}% of quotations would be removed if p>=0.5.\")\n",
    "print(f\"{(len(proba_speaker1[proba_speaker1<0.7]))*100/len(proba_speaker1):.0f}% of quotations would be removed if p>=0.7.\")\n",
    "print(f\"{(len(proba_speaker1[proba_speaker1<0.8]))*100/len(proba_speaker1):.0f}% of quotations would be removed if p>=0.8.\")\n",
    "\n",
    "# Median probability for the main speaker if if p>=0.5 or p>=0.7 or >=0.8\n",
    "print(f\"p_median = {proba_speaker1[proba_speaker1>0.5].median()} if p>=0.5.\")\n",
    "print(f\"p_median = {proba_speaker1[proba_speaker1>0.7].median()} if p>=0.7.\")\n",
    "print(f\"p_median = {proba_speaker1[proba_speaker1>0.8].median()} if p>=0.8.\")"
   ]
  },
  {
   "cell_type": "markdown",
   "id": "07308791",
   "metadata": {
    "cell_id": "00082-c9a7c168-97b3-4e71-b235-ba8467cdeeb1",
    "deepnote_cell_type": "markdown"
   },
   "source": [
    "It seems that removing all the quotations for which the speaker probability is under 0.5 is a good way to deel with the tradeoff: we will know the identity of the speaker with 50% of certitude (in this case, the median probability for the main speaker will be 0.75, which is very good), and theorically we would have enough data to carry the LDA."
   ]
  },
  {
   "cell_type": "code",
   "execution_count": 44,
   "id": "706788d5",
   "metadata": {
    "cell_id": "00083-2d087d71-8c70-4cc1-819f-1fb94ab7548b",
    "deepnote_cell_type": "code",
    "deepnote_output_heights": [
     177
    ]
   },
   "outputs": [
    {
     "data": {
      "text/html": [
       "<div>\n",
       "<style scoped>\n",
       "    .dataframe tbody tr th:only-of-type {\n",
       "        vertical-align: middle;\n",
       "    }\n",
       "\n",
       "    .dataframe tbody tr th {\n",
       "        vertical-align: top;\n",
       "    }\n",
       "\n",
       "    .dataframe thead th {\n",
       "        text-align: right;\n",
       "    }\n",
       "</style>\n",
       "<table border=\"1\" class=\"dataframe\">\n",
       "  <thead>\n",
       "    <tr style=\"text-align: right;\">\n",
       "      <th></th>\n",
       "      <th>index</th>\n",
       "      <th>quoteID</th>\n",
       "      <th>quotation</th>\n",
       "      <th>speaker</th>\n",
       "      <th>qids</th>\n",
       "      <th>date</th>\n",
       "      <th>numOccurrences</th>\n",
       "      <th>probas</th>\n",
       "      <th>urls</th>\n",
       "      <th>phase</th>\n",
       "      <th>final_quote</th>\n",
       "    </tr>\n",
       "  </thead>\n",
       "  <tbody>\n",
       "    <tr>\n",
       "      <th>1</th>\n",
       "      <td>1</td>\n",
       "      <td>2015-09-16-006359</td>\n",
       "      <td>And I'm just pointing out the absurd on both s...</td>\n",
       "      <td>Kathleen Madigan</td>\n",
       "      <td>[Q6376814]</td>\n",
       "      <td>2015-09-16 05:44:37</td>\n",
       "      <td>1</td>\n",
       "      <td>[[Kathleen Madigan, 0.8025], [None, 0.1975]]</td>\n",
       "      <td>[http://northjersey.com/arts-and-entertainment...</td>\n",
       "      <td>E</td>\n",
       "      <td>[And, Im, pointing, absurd, side, Im, sidetaki...</td>\n",
       "    </tr>\n",
       "    <tr>\n",
       "      <th>2</th>\n",
       "      <td>2</td>\n",
       "      <td>2015-05-11-003168</td>\n",
       "      <td>And you had Michael Jackson roller skating, an...</td>\n",
       "      <td>Jim McMahon</td>\n",
       "      <td>[Q1689159, Q17306267, Q6196886]</td>\n",
       "      <td>2015-05-11 02:03:27</td>\n",
       "      <td>1</td>\n",
       "      <td>[[Jim McMahon, 0.8731], [None, 0.1232], [Linda...</td>\n",
       "      <td>[http://www.seattletimes.com/seattle-news/bell...</td>\n",
       "      <td>E</td>\n",
       "      <td>[And, Michael, Jackson, roller, skating, Donal...</td>\n",
       "    </tr>\n",
       "    <tr>\n",
       "      <th>4</th>\n",
       "      <td>4</td>\n",
       "      <td>2015-12-22-031341</td>\n",
       "      <td>I promise, I won't talk about Trump again,</td>\n",
       "      <td>Jeb Bush</td>\n",
       "      <td>[Q221997]</td>\n",
       "      <td>2015-12-22 20:43:59</td>\n",
       "      <td>10</td>\n",
       "      <td>[[Jeb Bush, 0.7816], [None, 0.1677], [Donald T...</td>\n",
       "      <td>[http://www.politico.com/story/2015/12/jeb-bus...</td>\n",
       "      <td>E</td>\n",
       "      <td>[I, promise, I, talk, Trump]</td>\n",
       "    </tr>\n",
       "    <tr>\n",
       "      <th>6</th>\n",
       "      <td>6</td>\n",
       "      <td>2015-07-21-047379</td>\n",
       "      <td>I'm sure the Republicans are enjoying Mr. Trum...</td>\n",
       "      <td>President Barack Obama</td>\n",
       "      <td>[Q76]</td>\n",
       "      <td>2015-07-21 15:18:20</td>\n",
       "      <td>205</td>\n",
       "      <td>[[President Barack Obama, 0.6523], [None, 0.19...</td>\n",
       "      <td>[http://azdailysun.com/entertainment/televisio...</td>\n",
       "      <td>E</td>\n",
       "      <td>[Im, sure, Republicans, enjoying, Mr, Trumps, ...</td>\n",
       "    </tr>\n",
       "    <tr>\n",
       "      <th>7</th>\n",
       "      <td>7</td>\n",
       "      <td>2015-07-22-051864</td>\n",
       "      <td>it in particular thrives on theater, which Tru...</td>\n",
       "      <td>Frank Bruni</td>\n",
       "      <td>[Q1443006]</td>\n",
       "      <td>2015-07-22 13:33:11</td>\n",
       "      <td>1</td>\n",
       "      <td>[[Frank Bruni, 0.8479], [None, 0.1246], [Donal...</td>\n",
       "      <td>[http://www.adweek.com/tvnewser/bob-kerrey-on-...</td>\n",
       "      <td>E</td>\n",
       "      <td>[particular, thrives, theater, Trump, provides...</td>\n",
       "    </tr>\n",
       "  </tbody>\n",
       "</table>\n",
       "</div>"
      ],
      "text/plain": [
       "   index            quoteID  \\\n",
       "1      1  2015-09-16-006359   \n",
       "2      2  2015-05-11-003168   \n",
       "4      4  2015-12-22-031341   \n",
       "6      6  2015-07-21-047379   \n",
       "7      7  2015-07-22-051864   \n",
       "\n",
       "                                           quotation                 speaker  \\\n",
       "1  And I'm just pointing out the absurd on both s...        Kathleen Madigan   \n",
       "2  And you had Michael Jackson roller skating, an...             Jim McMahon   \n",
       "4         I promise, I won't talk about Trump again,                Jeb Bush   \n",
       "6  I'm sure the Republicans are enjoying Mr. Trum...  President Barack Obama   \n",
       "7  it in particular thrives on theater, which Tru...             Frank Bruni   \n",
       "\n",
       "                              qids                 date  numOccurrences  \\\n",
       "1                       [Q6376814]  2015-09-16 05:44:37               1   \n",
       "2  [Q1689159, Q17306267, Q6196886]  2015-05-11 02:03:27               1   \n",
       "4                        [Q221997]  2015-12-22 20:43:59              10   \n",
       "6                            [Q76]  2015-07-21 15:18:20             205   \n",
       "7                       [Q1443006]  2015-07-22 13:33:11               1   \n",
       "\n",
       "                                              probas  \\\n",
       "1       [[Kathleen Madigan, 0.8025], [None, 0.1975]]   \n",
       "2  [[Jim McMahon, 0.8731], [None, 0.1232], [Linda...   \n",
       "4  [[Jeb Bush, 0.7816], [None, 0.1677], [Donald T...   \n",
       "6  [[President Barack Obama, 0.6523], [None, 0.19...   \n",
       "7  [[Frank Bruni, 0.8479], [None, 0.1246], [Donal...   \n",
       "\n",
       "                                                urls phase  \\\n",
       "1  [http://northjersey.com/arts-and-entertainment...     E   \n",
       "2  [http://www.seattletimes.com/seattle-news/bell...     E   \n",
       "4  [http://www.politico.com/story/2015/12/jeb-bus...     E   \n",
       "6  [http://azdailysun.com/entertainment/televisio...     E   \n",
       "7  [http://www.adweek.com/tvnewser/bob-kerrey-on-...     E   \n",
       "\n",
       "                                         final_quote  \n",
       "1  [And, Im, pointing, absurd, side, Im, sidetaki...  \n",
       "2  [And, Michael, Jackson, roller, skating, Donal...  \n",
       "4                       [I, promise, I, talk, Trump]  \n",
       "6  [Im, sure, Republicans, enjoying, Mr, Trumps, ...  \n",
       "7  [particular, thrives, theater, Trump, provides...  "
      ]
     },
     "execution_count": 44,
     "metadata": {},
     "output_type": "execute_result"
    }
   ],
   "source": [
    "# Dropping rows where the probability of the main speaker is < 0.5\n",
    "indexNames = df_select[df_select['probas'].apply(lambda x: x[0][1]).astype(float)<0.5].index\n",
    "df_select.drop(indexNames, inplace=True)\n",
    "df_select.head()"
   ]
  },
  {
   "cell_type": "markdown",
   "id": "2b2d4d5e",
   "metadata": {
    "cell_id": "00084-378cf5be-6c31-451f-8692-4669bd67a474",
    "deepnote_cell_type": "markdown"
   },
   "source": [
    "#### 2.2.3) Dropping quotations which do not have a sufficient number of words   <a class=\"anchor\" id=\"I.2.2.3\"></a>"
   ]
  },
  {
   "cell_type": "code",
   "execution_count": 122,
   "id": "368c9480",
   "metadata": {
    "cell_id": "00085-a196e67c-17b9-458a-98c8-0d211bafa415",
    "deepnote_cell_type": "code",
    "deepnote_output_heights": [
     177
    ]
   },
   "outputs": [
    {
     "data": {
      "text/html": [
       "<div>\n",
       "<style scoped>\n",
       "    .dataframe tbody tr th:only-of-type {\n",
       "        vertical-align: middle;\n",
       "    }\n",
       "\n",
       "    .dataframe tbody tr th {\n",
       "        vertical-align: top;\n",
       "    }\n",
       "\n",
       "    .dataframe thead th {\n",
       "        text-align: right;\n",
       "    }\n",
       "</style>\n",
       "<table border=\"1\" class=\"dataframe\">\n",
       "  <thead>\n",
       "    <tr style=\"text-align: right;\">\n",
       "      <th></th>\n",
       "      <th>quoteID</th>\n",
       "      <th>quotation</th>\n",
       "      <th>final_quote</th>\n",
       "      <th>len_quote</th>\n",
       "    </tr>\n",
       "  </thead>\n",
       "  <tbody>\n",
       "    <tr>\n",
       "      <th>1</th>\n",
       "      <td>2015-09-16-006359</td>\n",
       "      <td>And I'm just pointing out the absurd on both s...</td>\n",
       "      <td>[And, Im, pointing, absurd, side, Im, sidetaki...</td>\n",
       "      <td>52</td>\n",
       "    </tr>\n",
       "    <tr>\n",
       "      <th>2</th>\n",
       "      <td>2015-05-11-003168</td>\n",
       "      <td>And you had Michael Jackson roller skating, an...</td>\n",
       "      <td>[And, Michael, Jackson, roller, skating, Donal...</td>\n",
       "      <td>7</td>\n",
       "    </tr>\n",
       "    <tr>\n",
       "      <th>4</th>\n",
       "      <td>2015-12-22-031341</td>\n",
       "      <td>I promise, I won't talk about Trump again,</td>\n",
       "      <td>[I, promise, I, talk, Trump]</td>\n",
       "      <td>5</td>\n",
       "    </tr>\n",
       "    <tr>\n",
       "      <th>6</th>\n",
       "      <td>2015-07-21-047379</td>\n",
       "      <td>I'm sure the Republicans are enjoying Mr. Trum...</td>\n",
       "      <td>[Im, sure, Republicans, enjoying, Mr, Trumps, ...</td>\n",
       "      <td>9</td>\n",
       "    </tr>\n",
       "    <tr>\n",
       "      <th>7</th>\n",
       "      <td>2015-07-22-051864</td>\n",
       "      <td>it in particular thrives on theater, which Tru...</td>\n",
       "      <td>[particular, thrives, theater, Trump, provides...</td>\n",
       "      <td>6</td>\n",
       "    </tr>\n",
       "  </tbody>\n",
       "</table>\n",
       "</div>"
      ],
      "text/plain": [
       "             quoteID                                          quotation  \\\n",
       "1  2015-09-16-006359  And I'm just pointing out the absurd on both s...   \n",
       "2  2015-05-11-003168  And you had Michael Jackson roller skating, an...   \n",
       "4  2015-12-22-031341         I promise, I won't talk about Trump again,   \n",
       "6  2015-07-21-047379  I'm sure the Republicans are enjoying Mr. Trum...   \n",
       "7  2015-07-22-051864  it in particular thrives on theater, which Tru...   \n",
       "\n",
       "                                         final_quote  len_quote  \n",
       "1  [And, Im, pointing, absurd, side, Im, sidetaki...         52  \n",
       "2  [And, Michael, Jackson, roller, skating, Donal...          7  \n",
       "4                       [I, promise, I, talk, Trump]          5  \n",
       "6  [Im, sure, Republicans, enjoying, Mr, Trumps, ...          9  \n",
       "7  [particular, thrives, theater, Trump, provides...          6  "
      ]
     },
     "execution_count": 122,
     "metadata": {},
     "output_type": "execute_result"
    }
   ],
   "source": [
    "# Creation of a new dataframe analyze_select to analyze the dataframe df_select\n",
    "analyze_select = df_select.loc[:, ['quoteID', 'quotation', 'final_quote']].copy(deep=True)\n",
    "\n",
    "# Adding a column with the number of words per quotation\n",
    "analyze_select[\"len_quote\"] = df_select[\"final_quote\"].apply(lambda x: len(x))\n",
    "\n",
    "analyze_select.head()"
   ]
  },
  {
   "cell_type": "code",
   "execution_count": 123,
   "id": "fb4e5cd5",
   "metadata": {
    "cell_id": "00086-4ab763cc-deac-4523-8505-5af2efd172ca",
    "deepnote_cell_type": "code",
    "deepnote_output_heights": [
     21.1875,
     264
    ]
   },
   "outputs": [
    {
     "data": {
      "text/plain": [
       "Text(0, 0.5, 'Number of quotations')"
      ]
     },
     "execution_count": 123,
     "metadata": {},
     "output_type": "execute_result"
    },
    {
     "data": {
      "image/png": "[encoded data removed]",
      "text/plain": [
       "<Figure size 432x288 with 1 Axes>"
      ]
     },
     "metadata": {
      "needs_background": "light"
     },
     "output_type": "display_data"
    }
   ],
   "source": [
    "# Distribution of the number of words per quotation\n",
    "plt.hist(analyze_select[\"len_quote\"], bins=50, histtype='step', log=True)\n",
    "#plt.axvline(x=0.5, linewidth=2, color='r')\n",
    "plt.xlabel('Number of words per quotation')\n",
    "plt.ylabel('Number of quotations')"
   ]
  },
  {
   "cell_type": "code",
   "execution_count": 124,
   "id": "8c949d47",
   "metadata": {
    "cell_id": "00087-b27ffb5b-58c5-432e-a26d-407ad9e249a2",
    "deepnote_cell_type": "code",
    "deepnote_output_heights": [
     174.796875
    ]
   },
   "outputs": [
    {
     "data": {
      "text/plain": [
       "count    1.097785e+06\n",
       "mean     1.480351e+01\n",
       "std      1.337286e+01\n",
       "min      0.000000e+00\n",
       "25%      7.000000e+00\n",
       "50%      1.100000e+01\n",
       "75%      1.900000e+01\n",
       "max      3.670000e+02\n",
       "Name: len_quote, dtype: float64"
      ]
     },
     "execution_count": 124,
     "metadata": {},
     "output_type": "execute_result"
    }
   ],
   "source": [
    "# Description of the number of words per quotations\n",
    "analyze_select.len_quote.describe()"
   ]
  },
  {
   "cell_type": "markdown",
   "id": "888d38c0",
   "metadata": {
    "cell_id": "00088-aa1ff98f-1a52-4f2f-87a1-2ca304a82e49",
    "deepnote_cell_type": "markdown"
   },
   "source": [
    "Even if most of the quotations have a small number of words (median = 11 words, please note that the median has increased since we remove quotations with no speaker and quotations without words), there are outliers (the maximum is at 367 words). Furthermore, the standard deviation is quite high (~equal to the median value). This phenomenon can be explain by the  heavy-tailed distribution of the data. \n",
    "We decided to keep the huge values, as they probably contains important information and bring more precision to our LDA analysis. Nevertheless, if their study reveals that they induce a bias in our conclusions, we will remove them. "
   ]
  },
  {
   "cell_type": "code",
   "execution_count": 125,
   "id": "ea613292",
   "metadata": {
    "cell_id": "00089-dbf9e27f-0078-46ab-8db9-6b463bdc2b71",
    "deepnote_cell_type": "code"
   },
   "outputs": [
    {
     "name": "stdout",
     "output_type": "stream",
     "text": [
      "56 quotations with 0 words.\n",
      "0 quotations with 0 words.\n"
     ]
    }
   ],
   "source": [
    "# Number of quotations with 0 words\n",
    "print(str(analyze_select[analyze_select[\"len_quote\"]==0].shape[0]) + \" quotations with 0 words.\")\n",
    "\n",
    "# Dropping quotations with 0 words from analyze\n",
    "indexNames = analyze_select[analyze_select[\"len_quote\"]==0].index\n",
    "analyze_select.drop(indexNames, inplace=True)\n",
    "\n",
    "# Number of quotations with 0 words\n",
    "print(str(analyze_select[analyze_select[\"len_quote\"]==0].shape[0]) + \" quotations with 0 words.\")"
   ]
  },
  {
   "cell_type": "code",
   "execution_count": 126,
   "id": "6591ffbf",
   "metadata": {
    "cell_id": "00090-c51debba-7f1f-4451-9cf0-006e88e8cb0c",
    "deepnote_cell_type": "code"
   },
   "outputs": [],
   "source": [
    "# Dropping quotations with 0 words from df_select\n",
    "df_select.drop(indexNames, inplace=True)"
   ]
  },
  {
   "cell_type": "code",
   "execution_count": 127,
   "id": "5a7bb7e7",
   "metadata": {
    "cell_id": "00091-0e659a34-b8bf-4481-89a1-372a6052b5da",
    "deepnote_cell_type": "code",
    "deepnote_output_heights": [
     21.1875
    ]
   },
   "outputs": [
    {
     "data": {
      "text/plain": [
       "11.0"
      ]
     },
     "execution_count": 127,
     "metadata": {},
     "output_type": "execute_result"
    }
   ],
   "source": [
    "# Median of the number of words per quotation\n",
    "analyze_select[\"len_quote\"].median()"
   ]
  },
  {
   "cell_type": "code",
   "execution_count": 128,
   "id": "e947260c",
   "metadata": {
    "cell_id": "00092-06edefc6-3092-4e6f-91bb-8fa8ac5d2681",
    "deepnote_cell_type": "code"
   },
   "outputs": [
    {
     "name": "stdout",
     "output_type": "stream",
     "text": [
      "33.2% of quotations removed.\n",
      "There is still 1097729 quotations in the dataframe.\n",
      "There is still 16251069 words in the dataframe.\n"
     ]
    }
   ],
   "source": [
    "# % of total lines dropped\n",
    "print(str(round((df.shape[0] - df_select.shape[0])*100/df.shape[0])) + \".2% of quotations removed.\")\n",
    "\n",
    "# total number of quotations in df_select\n",
    "print(\"There is still \" + str(df_select.shape[0]) + \" quotations in the dataframe.\")\n",
    "\n",
    "# total number of words in df-select\n",
    "print(\"There is still \" + str(analyze_select.len_quote.sum()) + \" words in the dataframe.\")"
   ]
  },
  {
   "cell_type": "markdown",
   "id": "bacab11e",
   "metadata": {
    "cell_id": "00093-000e147a-5915-4613-a769-290c9ae365cb",
    "deepnote_cell_type": "markdown"
   },
   "source": [
    "Approximately 30% of the quotations have been removed by the entire selection processus. \n",
    "\n",
    "A ENLEVER ??  \n",
    "Even if around 50,000 quotations are still available for the LDA, this could not be enough. We believe that we would need about 1000 words a week to run the LDA for the duration of D. Trump's campaign and term, which is 5 years (= 260 weeks so 260,000 words and we still have more than twice the required estimated number). Nevertheless, if the LDA can not run, we will have several possibilities to solve the problem: (1) we can increase the threshold about the probability of the speaker identity, (2), we can increase the duration of the time interval to run the LDA (i.e 2 weeks instead of one), or (3), we can do both of the previous solutions."
   ]
  },
  {
   "cell_type": "markdown",
   "id": "be9fef60",
   "metadata": {
    "cell_id": "00078-7af4bde7-b8d3-4982-900f-0d65ad08e158",
    "deepnote_cell_type": "markdown",
    "tags": []
   },
   "source": [
    "### 2.3) Filter english text  <a class=\"anchor\" id=\"I.2.3\"></a>\n",
    "\n",
    "We know that the QuoteBank dataset contains quotations that are not in english. Even though some of these may be related to Donald Trump, we decided to focus on english quotations only. This choice is motivated by the fact that we will apply a topic extraction algorithm based on word frequencies. As most of the quotes will be in english, quotes in other languages will not be properly classified by this approach. We will use the `langdetect` library to detect the language and remove the non-english quotes."
   ]
  },
  {
   "cell_type": "code",
   "execution_count": 129,
   "id": "b6f28cc3",
   "metadata": {
    "cell_id": "00078-ae03428a-539d-49f0-9e13-a41b8e51916c",
    "deepnote_cell_type": "code",
    "tags": []
   },
   "outputs": [
    {
     "name": "stdout",
     "output_type": "stream",
     "text": [
      "error: 35, 45, 55% / index: 527829\n",
      "error: ÐÐ 3/4 Ñ ÑÑÐ ¸ ÑÐµÐ ± ÑÐ 3/4 Ð ± Ð ¸ Ð ¶ Ð ° Ð / index: 653431\n",
      "error: 5... 7... 5... / index: 755160\n",
      "error: 75%... 50% / index: 772725\n",
      "error: 10, 20, 40% / index: 864509\n"
     ]
    }
   ],
   "source": [
    "df_select.reset_index(inplace=True)\n",
    "\n",
    "for index, row in df_select.iterrows():\n",
    "    try:\n",
    "        if not langdetect.detect(row[\"quotation\"])=='en' :\n",
    "            df_select.drop(index, inplace=True)\n",
    "    except:\n",
    "        print(\"error: {} / index: {}\".format(row[\"quotation\"], index))"
   ]
  },
  {
   "cell_type": "markdown",
   "id": "77d694d8-5af2-4f14-9009-f30d429aa87f",
   "metadata": {},
   "source": [
    "We choose to let all these error rows except the one in index 653431 which can be removed."
   ]
  },
  {
   "cell_type": "code",
   "execution_count": null,
   "id": "999d23b7-a201-4abc-9dac-37f5e8fbd4eb",
   "metadata": {},
   "outputs": [],
   "source": [
    "df_select.drop(653431, inplace=True)"
   ]
  },
  {
   "cell_type": "code",
   "execution_count": 137,
   "id": "8c39c13b-9a66-40fd-8e2c-45bbf6062e9e",
   "metadata": {},
   "outputs": [],
   "source": [
    "df_select.reset_index(drop=True, inplace=True)"
   ]
  },
  {
   "cell_type": "markdown",
   "id": "1ca22916",
   "metadata": {
    "cell_id": "00094-bd26c6bc-1f74-458c-b4ca-6a8116f5bcf0",
    "deepnote_cell_type": "markdown"
   },
   "source": [
    "### 2.4) Final adjustments  <a class=\"anchor\" id=\"I.2.4\"></a>"
   ]
  },
  {
   "cell_type": "code",
   "execution_count": 138,
   "id": "99af17d4",
   "metadata": {
    "cell_id": "00095-206a035b-f894-4f47-af9a-a5f2ac0dc21d",
    "deepnote_cell_type": "code"
   },
   "outputs": [],
   "source": [
    "# Converting the date column into date format\n",
    "df_select.date = pd.to_datetime(df_select.date)"
   ]
  },
  {
   "cell_type": "code",
   "execution_count": 139,
   "id": "3fd1799e-8b32-410f-b9e6-99bbd3906295",
   "metadata": {},
   "outputs": [
    {
     "data": {
      "text/plain": [
       "Text(0, 0.5, 'Number of quotations')"
      ]
     },
     "execution_count": 139,
     "metadata": {},
     "output_type": "execute_result"
    },
    {
     "data": {
      "image/png": "[encoded data removed]",
      "text/plain": [
       "<Figure size 432x288 with 1 Axes>"
      ]
     },
     "metadata": {
      "needs_background": "light"
     },
     "output_type": "display_data"
    }
   ],
   "source": [
    "# Plotting the distribution of the dates of quotations\n",
    "plt.hist(df_select.date, bins=100, histtype='step')\n",
    "plt.title('Distribution of dates of quotations')\n",
    "plt.xlabel('Dates')\n",
    "plt.ylabel('Number of quotations')"
   ]
  },
  {
   "cell_type": "code",
   "execution_count": 143,
   "id": "5aa9e59d-1382-4d22-b918-37e40e398500",
   "metadata": {},
   "outputs": [
    {
     "name": "stdout",
     "output_type": "stream",
     "text": [
      "There is still 1083091 quotations in the dataframe.\n"
     ]
    }
   ],
   "source": [
    "# total number of quotations in df_select\n",
    "print(\"There is still \" + str(df_select.shape[0]) + \" quotations in the dataframe.\")"
   ]
  },
  {
   "cell_type": "code",
   "execution_count": 140,
   "id": "83522798",
   "metadata": {
    "cell_id": "00080-e88b2ba4-4171-41aa-b4f0-2a7427a87d3c",
    "deepnote_cell_type": "code",
    "tags": []
   },
   "outputs": [],
   "source": [
    "# To convert the pandas DataFrame into pickle\n",
    "df_select.to_pickle(\"data/PreProcessData.pkl\")"
   ]
  },
  {
   "cell_type": "code",
   "execution_count": 141,
   "id": "b1b883e8",
   "metadata": {
    "cell_id": "00081-3005ef37-3e05-4b6f-b342-e50e7cb8e9f7",
    "deepnote_cell_type": "code",
    "tags": []
   },
   "outputs": [],
   "source": [
    "# To load the pickle file into pandas DataFrame\n",
    "# PreProcess_df = pd.read_pickle(\"data/PreProcessData.pkl\")"
   ]
  },
  {
   "cell_type": "code",
   "execution_count": 142,
   "id": "af83cc2a",
   "metadata": {
    "cell_id": "00080-3cf4e4e0-68b1-4c87-bc81-fdf645ebf71b",
    "deepnote_cell_type": "code",
    "tags": []
   },
   "outputs": [],
   "source": [
    "# Useless but juste au cas ou\n",
    "# PreProcessData = df_select.to_csv(\"data/PreProcessData.csv\")"
   ]
  },
  {
   "cell_type": "markdown",
   "id": "df770095",
   "metadata": {
    "cell_id": "00096-1d14528b-28fc-41de-9329-407846e9aa43",
    "deepnote_cell_type": "markdown"
   },
   "source": [
    "df_select is the final dataframe that we will use to answers our questions. It contains two types of information: the quotations made by D. Trump during its campaign and its term, and the quotations made by other people about D. Trump."
   ]
  },
  {
   "cell_type": "markdown",
   "id": "242aa0bd",
   "metadata": {
    "cell_id": "00097-788faeb3-6864-4463-9be5-c043168ba8bc",
    "deepnote_cell_type": "markdown",
    "tags": []
   },
   "source": [
    "# Part II. Tools for our project about Trump  <a class=\"anchor\" id=\"PartII\"></a>"
   ]
  },
  {
   "cell_type": "markdown",
   "id": "e29e24a1",
   "metadata": {
    "cell_id": "00098-924440cb-3d04-4ec2-8ec6-9a6b8788e0c8",
    "deepnote_cell_type": "markdown"
   },
   "source": [
    "**_=> QUESTIONS:_**\n",
    "\n",
    "- **Trump's speech:**\n",
    "    - 1: What were Donald Trump’s favorite topics to talk about during the campaign (starting in 2015)? and his time in office (20/01/2017 - 20/01/2021)? Is there a change in Trump’s speech/favorite topics between before and after he was elected?\n",
    "    - (2: How well aligned are Trump’s quotes with its political agenda/program? How close was Donald Trump's presidency from his initial program?)\n",
    "    - 3: Can we note different periods? Can we correlate changes in the ideas expressed by Trump with external events?  \n",
    "\n",
    "\n",
    "- **External View about Trump:**\n",
    "    - 4: Can we quantify Trump popularity over time and correlate it with external events? Can we see the impact of his speech on the population (different groups?)?\n",
    "    - 5: In which newspapers the quotations of Trump are published? Is there a link between the newspapers that published the most quotations of Trump and the political appartenance of these newspapers?\n",
    "    - 6: What insight can we get from the difference between quotations from a speaker and quotations about a speaker?"
   ]
  },
  {
   "cell_type": "markdown",
   "id": "3e6c60d7",
   "metadata": {
    "cell_id": "00099-e205ecb6-f705-40e8-87df-57b98e44efdd",
    "deepnote_cell_type": "markdown"
   },
   "source": [
    "## 1) Data  <a class=\"anchor\" id=\"II.1\"></a>"
   ]
  },
  {
   "cell_type": "code",
   "execution_count": 2,
   "id": "55a0d092",
   "metadata": {
    "cell_id": "00091-b08abd56-e2b8-4262-896d-8311c1fb4536",
    "deepnote_cell_type": "code",
    "tags": []
   },
   "outputs": [],
   "source": [
    "# To load the pickle file into pandas DataFrame\n",
    "PreProcess_df = pd.read_pickle(\"data/PreProcessData.pkl\")"
   ]
  },
  {
   "cell_type": "code",
   "execution_count": 3,
   "id": "7cb75e16",
   "metadata": {
    "cell_id": "00100-2981ab06-207f-491c-8888-4556dfce793e",
    "deepnote_cell_type": "code",
    "deepnote_output_heights": [
     21.1875,
     177
    ]
   },
   "outputs": [
    {
     "data": {
      "text/plain": [
       "(607094, 12)"
      ]
     },
     "metadata": {},
     "output_type": "display_data"
    },
    {
     "data": {
      "text/html": [
       "<div>\n",
       "<style scoped>\n",
       "    .dataframe tbody tr th:only-of-type {\n",
       "        vertical-align: middle;\n",
       "    }\n",
       "\n",
       "    .dataframe tbody tr th {\n",
       "        vertical-align: top;\n",
       "    }\n",
       "\n",
       "    .dataframe thead th {\n",
       "        text-align: right;\n",
       "    }\n",
       "</style>\n",
       "<table border=\"1\" class=\"dataframe\">\n",
       "  <thead>\n",
       "    <tr style=\"text-align: right;\">\n",
       "      <th></th>\n",
       "      <th>level_0</th>\n",
       "      <th>index</th>\n",
       "      <th>quoteID</th>\n",
       "      <th>quotation</th>\n",
       "      <th>speaker</th>\n",
       "      <th>qids</th>\n",
       "      <th>date</th>\n",
       "      <th>numOccurrences</th>\n",
       "      <th>probas</th>\n",
       "      <th>urls</th>\n",
       "      <th>phase</th>\n",
       "      <th>final_quote</th>\n",
       "    </tr>\n",
       "  </thead>\n",
       "  <tbody>\n",
       "    <tr>\n",
       "      <th>475997</th>\n",
       "      <td>919325</td>\n",
       "      <td>0</td>\n",
       "      <td>2015-07-17-029255</td>\n",
       "      <td>I am incredibly pleased that my message is res...</td>\n",
       "      <td>Donald Trump</td>\n",
       "      <td>[Q22686, Q27947481]</td>\n",
       "      <td>2015-07-17 10:28:58</td>\n",
       "      <td>2</td>\n",
       "      <td>[[Donald Trump, 0.8415], [None, 0.1356], [Rand...</td>\n",
       "      <td>[http://washingtontimes.com/news/2015/jul/17/d...</td>\n",
       "      <td>E</td>\n",
       "      <td>[I, incredibly, pleased, message, resonating, ...</td>\n",
       "    </tr>\n",
       "    <tr>\n",
       "      <th>475998</th>\n",
       "      <td>919326</td>\n",
       "      <td>1</td>\n",
       "      <td>2015-12-10-038891</td>\n",
       "      <td>I don't want this person representing either t...</td>\n",
       "      <td>Donald Trump</td>\n",
       "      <td>[Q22686, Q27947481]</td>\n",
       "      <td>2015-12-10 16:20:00</td>\n",
       "      <td>1</td>\n",
       "      <td>[[Donald Trump, 0.509], [None, 0.491]]</td>\n",
       "      <td>[http://www.westernmorningnews.co.uk/Petition-...</td>\n",
       "      <td>E</td>\n",
       "      <td>[I, want, person, representing, either, UK, US...</td>\n",
       "    </tr>\n",
       "    <tr>\n",
       "      <th>475999</th>\n",
       "      <td>919327</td>\n",
       "      <td>2</td>\n",
       "      <td>2015-11-14-003251</td>\n",
       "      <td>And I will tell you what -- you can say what y...</td>\n",
       "      <td>Donald Trump</td>\n",
       "      <td>[Q22686, Q27947481]</td>\n",
       "      <td>2015-11-14 22:45:14</td>\n",
       "      <td>6</td>\n",
       "      <td>[[Donald Trump, 0.798], [None, 0.202]]</td>\n",
       "      <td>[http://news.yahoo.com/paris-wouldve-different...</td>\n",
       "      <td>E</td>\n",
       "      <td>[And, I, tell, say, want, gun, people, gun, al...</td>\n",
       "    </tr>\n",
       "    <tr>\n",
       "      <th>476000</th>\n",
       "      <td>919328</td>\n",
       "      <td>3</td>\n",
       "      <td>2015-10-07-007656</td>\n",
       "      <td>angry at our leaders for not knowing what's ha...</td>\n",
       "      <td>Donald Trump</td>\n",
       "      <td>[Q22686, Q27947481]</td>\n",
       "      <td>2015-10-07 19:18:48</td>\n",
       "      <td>1</td>\n",
       "      <td>[[Donald Trump, 0.9064], [None, 0.0936]]</td>\n",
       "      <td>[http://www.radioiowa.com/2015/10/07/trump-rap...</td>\n",
       "      <td>E</td>\n",
       "      <td>[angry, leader, knowing, whats, happening]</td>\n",
       "    </tr>\n",
       "    <tr>\n",
       "      <th>476001</th>\n",
       "      <td>919329</td>\n",
       "      <td>4</td>\n",
       "      <td>2015-09-20-019882</td>\n",
       "      <td>I never called Jeb Bush and I never asked him ...</td>\n",
       "      <td>Donald Trump</td>\n",
       "      <td>[Q22686, Q27947481]</td>\n",
       "      <td>2015-09-20 14:01:28</td>\n",
       "      <td>2</td>\n",
       "      <td>[[Donald Trump, 0.5131], [None, 0.459], [Jeb B...</td>\n",
       "      <td>[http://tpmdc.talkingpointsmemo.com/livewire/d...</td>\n",
       "      <td>E</td>\n",
       "      <td>[I, never, called, Jeb, Bush, I, never, asked,...</td>\n",
       "    </tr>\n",
       "  </tbody>\n",
       "</table>\n",
       "</div>"
      ],
      "text/plain": [
       "        level_0  index            quoteID  \\\n",
       "475997   919325      0  2015-07-17-029255   \n",
       "475998   919326      1  2015-12-10-038891   \n",
       "475999   919327      2  2015-11-14-003251   \n",
       "476000   919328      3  2015-10-07-007656   \n",
       "476001   919329      4  2015-09-20-019882   \n",
       "\n",
       "                                                quotation       speaker  \\\n",
       "475997  I am incredibly pleased that my message is res...  Donald Trump   \n",
       "475998  I don't want this person representing either t...  Donald Trump   \n",
       "475999  And I will tell you what -- you can say what y...  Donald Trump   \n",
       "476000  angry at our leaders for not knowing what's ha...  Donald Trump   \n",
       "476001  I never called Jeb Bush and I never asked him ...  Donald Trump   \n",
       "\n",
       "                       qids                date  numOccurrences  \\\n",
       "475997  [Q22686, Q27947481] 2015-07-17 10:28:58               2   \n",
       "475998  [Q22686, Q27947481] 2015-12-10 16:20:00               1   \n",
       "475999  [Q22686, Q27947481] 2015-11-14 22:45:14               6   \n",
       "476000  [Q22686, Q27947481] 2015-10-07 19:18:48               1   \n",
       "476001  [Q22686, Q27947481] 2015-09-20 14:01:28               2   \n",
       "\n",
       "                                                   probas  \\\n",
       "475997  [[Donald Trump, 0.8415], [None, 0.1356], [Rand...   \n",
       "475998             [[Donald Trump, 0.509], [None, 0.491]]   \n",
       "475999             [[Donald Trump, 0.798], [None, 0.202]]   \n",
       "476000           [[Donald Trump, 0.9064], [None, 0.0936]]   \n",
       "476001  [[Donald Trump, 0.5131], [None, 0.459], [Jeb B...   \n",
       "\n",
       "                                                     urls phase  \\\n",
       "475997  [http://washingtontimes.com/news/2015/jul/17/d...     E   \n",
       "475998  [http://www.westernmorningnews.co.uk/Petition-...     E   \n",
       "475999  [http://news.yahoo.com/paris-wouldve-different...     E   \n",
       "476000  [http://www.radioiowa.com/2015/10/07/trump-rap...     E   \n",
       "476001  [http://tpmdc.talkingpointsmemo.com/livewire/d...     E   \n",
       "\n",
       "                                              final_quote  \n",
       "475997  [I, incredibly, pleased, message, resonating, ...  \n",
       "475998  [I, want, person, representing, either, UK, US...  \n",
       "475999  [And, I, tell, say, want, gun, people, gun, al...  \n",
       "476000         [angry, leader, knowing, whats, happening]  \n",
       "476001  [I, never, called, Jeb, Bush, I, never, asked,...  "
      ]
     },
     "metadata": {},
     "output_type": "display_data"
    }
   ],
   "source": [
    "# Construction of a dataframe with Trump's quotations\n",
    "Trump_from = PreProcess_df[PreProcess_df.speaker.str.lower().str.contains(\"trump\")].copy(deep=True)\n",
    "display(Trump_from.shape)\n",
    "display(Trump_from.head())"
   ]
  },
  {
   "cell_type": "code",
   "execution_count": 4,
   "id": "0c85250e-8a20-4a55-9168-c655e15f0141",
   "metadata": {},
   "outputs": [
    {
     "data": {
      "text/plain": [
       "(10994, 12)"
      ]
     },
     "metadata": {},
     "output_type": "display_data"
    },
    {
     "data": {
      "text/html": [
       "<div>\n",
       "<style scoped>\n",
       "    .dataframe tbody tr th:only-of-type {\n",
       "        vertical-align: middle;\n",
       "    }\n",
       "\n",
       "    .dataframe tbody tr th {\n",
       "        vertical-align: top;\n",
       "    }\n",
       "\n",
       "    .dataframe thead th {\n",
       "        text-align: right;\n",
       "    }\n",
       "</style>\n",
       "<table border=\"1\" class=\"dataframe\">\n",
       "  <thead>\n",
       "    <tr style=\"text-align: right;\">\n",
       "      <th></th>\n",
       "      <th>level_0</th>\n",
       "      <th>index</th>\n",
       "      <th>quoteID</th>\n",
       "      <th>quotation</th>\n",
       "      <th>speaker</th>\n",
       "      <th>qids</th>\n",
       "      <th>date</th>\n",
       "      <th>numOccurrences</th>\n",
       "      <th>probas</th>\n",
       "      <th>urls</th>\n",
       "      <th>phase</th>\n",
       "      <th>final_quote</th>\n",
       "    </tr>\n",
       "  </thead>\n",
       "  <tbody>\n",
       "    <tr>\n",
       "      <th>10</th>\n",
       "      <td>20</td>\n",
       "      <td>20</td>\n",
       "      <td>2015-10-31-049808</td>\n",
       "      <td>really was sort of a trump card for us, for th...</td>\n",
       "      <td>Frances Nunziata</td>\n",
       "      <td>[Q5478874]</td>\n",
       "      <td>2015-10-31 00:00:00</td>\n",
       "      <td>1</td>\n",
       "      <td>[[Frances Nunziata, 0.5726], [None, 0.4274]]</td>\n",
       "      <td>[http://www.thestar.com/news/city_hall/2015/10...</td>\n",
       "      <td>E</td>\n",
       "      <td>[really, sort, trump, card, u, city, community...</td>\n",
       "    </tr>\n",
       "    <tr>\n",
       "      <th>19</th>\n",
       "      <td>44</td>\n",
       "      <td>44</td>\n",
       "      <td>2015-01-10-028803</td>\n",
       "      <td>No-one's religious convictions can be thought ...</td>\n",
       "      <td>Ronald Dworkin</td>\n",
       "      <td>[Q319803]</td>\n",
       "      <td>2015-01-10 11:22:43</td>\n",
       "      <td>1</td>\n",
       "      <td>[[Ronald Dworkin, 0.8526], [None, 0.1474]]</td>\n",
       "      <td>[http://www.politicsweb.co.za/politicsweb/view...</td>\n",
       "      <td>E</td>\n",
       "      <td>[Noones, religious, conviction, thought, trump...</td>\n",
       "    </tr>\n",
       "    <tr>\n",
       "      <th>22</th>\n",
       "      <td>50</td>\n",
       "      <td>50</td>\n",
       "      <td>2015-10-02-101163</td>\n",
       "      <td>This experience trumps any kind of internship ...</td>\n",
       "      <td>Don Robinson</td>\n",
       "      <td>[Q5293421, Q5293423, Q5293424, Q5293425]</td>\n",
       "      <td>2015-10-02 15:05:51</td>\n",
       "      <td>2</td>\n",
       "      <td>[[Don Robinson, 0.8731], [None, 0.1269]]</td>\n",
       "      <td>[http://web.tampabay.com/news/publicsafety/cle...</td>\n",
       "      <td>E</td>\n",
       "      <td>[This, experience, trump, kind, internship, an...</td>\n",
       "    </tr>\n",
       "    <tr>\n",
       "      <th>33</th>\n",
       "      <td>76</td>\n",
       "      <td>76</td>\n",
       "      <td>2015-05-21-037157</td>\n",
       "      <td>It's clear the governor is weighing the pros a...</td>\n",
       "      <td>Steve Morse ,</td>\n",
       "      <td>[Q213952]</td>\n",
       "      <td>2015-05-21 19:41:17</td>\n",
       "      <td>1</td>\n",
       "      <td>[[Steve Morse ,, 0.9493], [None, 0.0394], [Mar...</td>\n",
       "      <td>[http://blogs.mprnews.org/capitol-view/2015/05...</td>\n",
       "      <td>E</td>\n",
       "      <td>[Its, clear, governor, weighing, pro, con, ris...</td>\n",
       "    </tr>\n",
       "    <tr>\n",
       "      <th>35</th>\n",
       "      <td>79</td>\n",
       "      <td>79</td>\n",
       "      <td>2015-09-19-021975</td>\n",
       "      <td>I think we have all, all of us recognize that ...</td>\n",
       "      <td>Francis Fonseca</td>\n",
       "      <td>[Q5480967]</td>\n",
       "      <td>2015-09-19 04:29:17</td>\n",
       "      <td>1</td>\n",
       "      <td>[[Francis Fonseca, 0.7981], [None, 0.2019]]</td>\n",
       "      <td>[http://edition.channel5belize.com/archives/11...</td>\n",
       "      <td>E</td>\n",
       "      <td>[I, think, u, recognize, party, u, come, toget...</td>\n",
       "    </tr>\n",
       "  </tbody>\n",
       "</table>\n",
       "</div>"
      ],
      "text/plain": [
       "    level_0  index            quoteID  \\\n",
       "10       20     20  2015-10-31-049808   \n",
       "19       44     44  2015-01-10-028803   \n",
       "22       50     50  2015-10-02-101163   \n",
       "33       76     76  2015-05-21-037157   \n",
       "35       79     79  2015-09-19-021975   \n",
       "\n",
       "                                            quotation           speaker  \\\n",
       "10  really was sort of a trump card for us, for th...  Frances Nunziata   \n",
       "19  No-one's religious convictions can be thought ...    Ronald Dworkin   \n",
       "22  This experience trumps any kind of internship ...      Don Robinson   \n",
       "33  It's clear the governor is weighing the pros a...     Steve Morse ,   \n",
       "35  I think we have all, all of us recognize that ...   Francis Fonseca   \n",
       "\n",
       "                                        qids                date  \\\n",
       "10                                [Q5478874] 2015-10-31 00:00:00   \n",
       "19                                 [Q319803] 2015-01-10 11:22:43   \n",
       "22  [Q5293421, Q5293423, Q5293424, Q5293425] 2015-10-02 15:05:51   \n",
       "33                                 [Q213952] 2015-05-21 19:41:17   \n",
       "35                                [Q5480967] 2015-09-19 04:29:17   \n",
       "\n",
       "    numOccurrences                                             probas  \\\n",
       "10               1       [[Frances Nunziata, 0.5726], [None, 0.4274]]   \n",
       "19               1         [[Ronald Dworkin, 0.8526], [None, 0.1474]]   \n",
       "22               2           [[Don Robinson, 0.8731], [None, 0.1269]]   \n",
       "33               1  [[Steve Morse ,, 0.9493], [None, 0.0394], [Mar...   \n",
       "35               1        [[Francis Fonseca, 0.7981], [None, 0.2019]]   \n",
       "\n",
       "                                                 urls phase  \\\n",
       "10  [http://www.thestar.com/news/city_hall/2015/10...     E   \n",
       "19  [http://www.politicsweb.co.za/politicsweb/view...     E   \n",
       "22  [http://web.tampabay.com/news/publicsafety/cle...     E   \n",
       "33  [http://blogs.mprnews.org/capitol-view/2015/05...     E   \n",
       "35  [http://edition.channel5belize.com/archives/11...     E   \n",
       "\n",
       "                                          final_quote  \n",
       "10  [really, sort, trump, card, u, city, community...  \n",
       "19  [Noones, religious, conviction, thought, trump...  \n",
       "22  [This, experience, trump, kind, internship, an...  \n",
       "33  [Its, clear, governor, weighing, pro, con, ris...  \n",
       "35  [I, think, u, recognize, party, u, come, toget...  "
      ]
     },
     "metadata": {},
     "output_type": "display_data"
    }
   ],
   "source": [
    "# Construction of a daraframe with quotations about Trump\n",
    "# (and speaker is not Trump or someone with Trump in his/her name)\n",
    "Trump_about= PreProcess_df[PreProcess_df.final_quote.apply(lambda x : ' '.join(x)).str.contains(\"trump\")].copy(deep=True)\n",
    "Trump_about.drop(Trump_about[Trump_about.speaker.str.lower().str.contains(\"trump\")].index, inplace=True)\n",
    "display(Trump_about.shape)\n",
    "display(Trump_about.head())"
   ]
  },
  {
   "cell_type": "markdown",
   "id": "e514116d",
   "metadata": {
    "cell_id": "00102-505bac68-bcb7-4abe-ab6a-f4976e33b4cb",
    "deepnote_cell_type": "markdown"
   },
   "source": [
    "## 2) LDA function  <a class=\"anchor\" id=\"II.2\"></a>"
   ]
  },
  {
   "cell_type": "markdown",
   "id": "db2e0403",
   "metadata": {
    "cell_id": "00103-792b01c0-d69e-4ac8-b983-30958dcb11a8",
    "deepnote_cell_type": "markdown"
   },
   "source": [
    "To extract topics from Trump's speech, which is needed to answer several of our questions, we will use a topic model. We chose to start with Latent Dirichlet Allocation (LDA), as it is quite straighforward and we have had successful results with it in the past. If our results with LDA are not satisfactory, we will try with [Octis](https://github.com/MIND-Lab/OCTIS), which is used to compare several topic models.\n",
    "\n",
    "LDA is a generative statistical model which models each document (in our case temporal chunks of quotes by Trump) as a mixture of a number of topics. A topic (in our case, we expect to find subjects such as 'economics', 'ecology', etc.) is itself modeled as a mixture of words. This will thus allow us to extract a certain number of topics from Trump's speech and to see how these topics are represented in each document. Of particular interest to us for configuring our topic extraction are three hyperparameters: alpha (which controls how many topics make up each document), beta (which controls how many words make up each topic) and the number of topics. For more mathematical details, the [wikipedia page for LDA](https://en.wikipedia.org/wiki/Latent_Dirichlet_allocation) is quite informative.\n",
    "\n",
    "To check the feasability of LDA in terms of running time and effectiveness, we have implemented a prototype named `timechunk_lda` below. This function aggregates quotations into range of dates of a given size and applies LDA on these aggregated documents. As this was just to test things out, we have not optimized the hyperparameters yet, but we can already see that topics are being extracted quite well."
   ]
  },
  {
   "cell_type": "code",
   "execution_count": null,
   "id": "b4bc4bfc",
   "metadata": {
    "cell_id": "00104-710c94c9-eaf1-40ab-a4df-5a1330306048",
    "deepnote_cell_type": "code"
   },
   "outputs": [],
   "source": [
    "from sklearn.feature_extraction.text import CountVectorizer\n",
    "from sklearn.decomposition import LatentDirichletAllocation\n",
    "import math\n",
    "import numpy as np\n",
    "\n",
    "def make_timechunks(chunksize, min_dt, max_dt):\n",
    "    '''make timechunks of size chunksize starting at min_dt and ending at max_dt'''\n",
    "    delta = pd.Timedelta(chunksize)\n",
    "    num_iters = math.ceil((max_dt-min_dt)/delta)\n",
    "    a = min_dt\n",
    "    b = min_dt\n",
    "    timechunks = []\n",
    "    for _ in range(num_iters):\n",
    "        b = a+delta\n",
    "        timechunks.append([a, b])\n",
    "        a = b \n",
    "    return timechunks\n",
    "\n",
    "def get_words_and_weights(lda, feature_names, n_top):\n",
    "    '''get_words_and_weights: retrieve topic words and their weights for each topic'''\n",
    "    topic_ids = []\n",
    "    topic_words = []\n",
    "    words_weights = []\n",
    "    for topic_id, topic in enumerate(lda.components_):\n",
    "        top_features_ind = topic.argsort()[: -n_top - 1 : -1]\n",
    "        top_words = [feature_names[i] for i in top_features_ind]\n",
    "        weights = topic[top_features_ind]\n",
    "        topic_ids.append(topic_id)\n",
    "        topic_words.append(top_words)\n",
    "        words_weights.append(weights)\n",
    "    return topic_ids, topic_words, words_weights\n",
    "\n",
    "def timechunk_lda(df, text_col, dt_col, chunksize, n_components, n_top=10, \n",
    "                  max_iter=15, random_state=2, max_df=0.95, min_df=1, \n",
    "                  max_features=1000):\n",
    "    '''timechunk_lda: Aggregate quotes into date ranges of size chunksize and perform\n",
    "                      latent dirichlet allocation to extract topic\n",
    "    Inputs:\n",
    "    -------\n",
    "    - df: input dataframe\n",
    "    - text_col: column containing text (either as strings or list of strings) in df\n",
    "    - dt_col: column containing Timestamps in df\n",
    "    - chunksize: size of chunks in days, e.g. '10D' == 10 days\n",
    "    - n_components: number of different topics to model\n",
    "    - n_top: number of top words to consider when summarizing a topic\n",
    "    - max_iter: maximum number of iteration for online lda\n",
    "    - random_state: lda random state\n",
    "    - max_df: When building the vocabulary ignore terms that have a document frequency \n",
    "              strictly higher than the given threshold (corpus-specific stop words). \n",
    "              If float, the parameter represents a proportion of documents, integer \n",
    "              absolute counts. This parameter is ignored if vocabulary is not None.\n",
    "    - min_df: When building the vocabulary ignore terms that have a document frequency \n",
    "              strictly lower than the given threshold. This value is also called cut-off \n",
    "              in the literature. If float, the parameter represents a proportion of \n",
    "              documents, integer absolute counts. This parameter is ignored if vocabulary \n",
    "              is not None.\n",
    "    - max_features: vocabulary size\n",
    "    \n",
    "    Outputs:\n",
    "    --------\n",
    "    - df: input df with two additional columns, `topic_id_{chunksize}` the assigned topic\n",
    "          and `topics_dist_{chunksize}` the topic assignment distribution.\n",
    "    - topics_df: topics dataframe, contains topic_id, words and normalized word weight\n",
    "                 for each topic.\n",
    "    - timechunks_df: timechunks dataframe, contains start date (included) and end date \n",
    "                     (excluded) of each chunk.'''\n",
    "    # Transform text column to string if passed as list of strings\n",
    "    created_text_col = False\n",
    "    if type(df[text_col].to_list()[0]) == list:\n",
    "        df['str_text_col'] = df[text_col].apply(lambda x: ' '.join(x))\n",
    "        text_col = 'str_text_col'\n",
    "        created_text_col = True\n",
    "    # Create vectorizer and lda objects\n",
    "    vectorizer = CountVectorizer(max_df=max_df, min_df=min_df, \n",
    "                                 max_features=max_features, \n",
    "                                 stop_words=\"english\")\n",
    "    lda = LatentDirichletAllocation(n_components=n_components,\n",
    "                                    max_iter=max_iter,\n",
    "                                    learning_method=\"online\",\n",
    "                                    random_state=random_state)\n",
    "    # Aggregate documents according to passed chunksize\n",
    "    documents = []\n",
    "    documents_lengths = []\n",
    "    timechunks = make_timechunks(chunksize, df[dt_col].min(), df[dt_col].max())\n",
    "    for chunk in timechunks:\n",
    "        document_list = df[\n",
    "            df[dt_col].between(chunk[0], chunk[1], inclusive='left')\n",
    "        ][text_col].to_list()\n",
    "        documents.append(' '.join(document_list))\n",
    "        documents_lengths.append(len(document_list))\n",
    "    # Vectorize data\n",
    "    tokens = vectorizer.fit_transform(documents)\n",
    "    # Compute topic distribution for each document and assigned topic (argmax)\n",
    "    assigned_topics = lda.fit_transform(tokens)\n",
    "    topics_dist_column = []\n",
    "    topics_column = []\n",
    "    total_length = 0\n",
    "    for document_length, assigned_topic in zip(documents_lengths, assigned_topics):\n",
    "        total_length += document_length\n",
    "        topics_dist_column.extend(document_length*[list(assigned_topic)])\n",
    "        topics_column.extend(document_length*[assigned_topic.argmax()])\n",
    "    # Add to dataframe\n",
    "    df[f'topic_id_{chunksize}'] = topics_column\n",
    "    df[f'topics_dist_{chunksize}'] = topics_dist_column\n",
    "    # Retrieve topic words and associated words\n",
    "    topic_ids, topic_words, words_weights = get_words_and_weights(\n",
    "        lda, vectorizer.get_feature_names(), n_top\n",
    "    )\n",
    "    # Create topic dataframe with topic_id, chunksize, [word, normalized_weight]\n",
    "    # normalized weight computed with normalized exponential (softmax) of word weight\n",
    "    # for each topic\n",
    "    colnames = ['topic_id', 'chunksize']\n",
    "    for i in range(1, n_top+1):\n",
    "        colnames.append(f'topic_word_{i}')\n",
    "        colnames.append(f'normalized_weight_{i}')\n",
    "    topics_df = pd.DataFrame(columns=colnames)\n",
    "    for topic_id, words, weights in zip(topic_ids, topic_words, words_weights):\n",
    "        tmp = [topic_id, chunksize]\n",
    "        denom = np.exp(np.array(weights)).sum()\n",
    "        for word, weight in zip(words, weights):\n",
    "            normalized_weight = np.exp(weight)/denom\n",
    "            tmp.extend([word, normalized_weight])\n",
    "        topics_df.loc[len(topics_df.index)] = tmp\n",
    "    # Make timechunks_df\n",
    "    timechunks_df = pd.DataFrame(columns=['start_date', 'end_date'])\n",
    "    timechunks_df['start_date'] = [chunk[0] for chunk in timechunks]\n",
    "    timechunks_df['end_date'] = [chunk[1] for chunk in timechunks]\n",
    "    # Delete additional text column if added\n",
    "    if created_text_col:\n",
    "        df.drop(columns=['str_text_col'], inplace=True)\n",
    "    return df, topics_df, timechunks_df"
   ]
  },
  {
   "cell_type": "code",
   "execution_count": null,
   "id": "d14ae05e",
   "metadata": {
    "cell_id": "00105-d63d3879-7f73-45dc-b21c-87f5f53b9c89",
    "deepnote_cell_type": "code",
    "deepnote_output_heights": [
     null,
     21.1875
    ]
   },
   "outputs": [
    {
     "name": "stderr",
     "output_type": "stream",
     "text": [
      "/tmp/ipykernel_22627/1556851603.py:119: RuntimeWarning: overflow encountered in exp\n",
      "  denom = np.exp(np.array(weights)).sum()\n",
      "/tmp/ipykernel_22627/1556851603.py:121: RuntimeWarning: overflow encountered in exp\n",
      "  normalized_weight = np.exp(weight)/denom\n",
      "/tmp/ipykernel_22627/1556851603.py:121: RuntimeWarning: invalid value encountered in double_scalars\n",
      "  normalized_weight = np.exp(weight)/denom\n"
     ]
    },
    {
     "data": {
      "text/plain": [
       "array([0, 1, 2])"
      ]
     },
     "execution_count": 58,
     "metadata": {},
     "output_type": "execute_result"
    }
   ],
   "source": [
    "chunksize = '14D'\n",
    "df_select_with_topics, topics_df, timechunks_df = timechunk_lda(\n",
    "    df_select, 'final_quote_SelectWd', 'date', chunksize, 3, 5\n",
    ")\n",
    "np.unique(df_select_with_topics[f'topic_id_{chunksize}'].values)"
   ]
  },
  {
   "cell_type": "markdown",
   "id": "4e7eb3db",
   "metadata": {
    "cell_id": "00106-0310da6f-1947-4ec6-b85d-be62473e0edd",
    "deepnote_cell_type": "markdown"
   },
   "source": [
    "We notice that we have some overflows on the weights. This is a minor bug which will be fixed in milestone 3."
   ]
  },
  {
   "cell_type": "code",
   "execution_count": null,
   "id": "e5d4fce6",
   "metadata": {
    "cell_id": "00107-4302e394-fb00-429c-b45b-d268096d6dd6",
    "deepnote_cell_type": "code",
    "deepnote_output_heights": [
     119
    ]
   },
   "outputs": [
    {
     "data": {
      "text/html": [
       "<div>\n",
       "<style scoped>\n",
       "    .dataframe tbody tr th:only-of-type {\n",
       "        vertical-align: middle;\n",
       "    }\n",
       "\n",
       "    .dataframe tbody tr th {\n",
       "        vertical-align: top;\n",
       "    }\n",
       "\n",
       "    .dataframe thead th {\n",
       "        text-align: right;\n",
       "    }\n",
       "</style>\n",
       "<table border=\"1\" class=\"dataframe\">\n",
       "  <thead>\n",
       "    <tr style=\"text-align: right;\">\n",
       "      <th></th>\n",
       "      <th>topic_id</th>\n",
       "      <th>chunksize</th>\n",
       "      <th>topic_word_1</th>\n",
       "      <th>normalized_weight_1</th>\n",
       "      <th>topic_word_2</th>\n",
       "      <th>normalized_weight_2</th>\n",
       "      <th>topic_word_3</th>\n",
       "      <th>normalized_weight_3</th>\n",
       "      <th>topic_word_4</th>\n",
       "      <th>normalized_weight_4</th>\n",
       "      <th>topic_word_5</th>\n",
       "      <th>normalized_weight_5</th>\n",
       "    </tr>\n",
       "  </thead>\n",
       "  <tbody>\n",
       "    <tr>\n",
       "      <th>0</th>\n",
       "      <td>0</td>\n",
       "      <td>14D</td>\n",
       "      <td>bloomberg</td>\n",
       "      <td>0.92242</td>\n",
       "      <td>coronavirus</td>\n",
       "      <td>7.758027e-02</td>\n",
       "      <td>modi</td>\n",
       "      <td>8.356168e-27</td>\n",
       "      <td>stone</td>\n",
       "      <td>1.626502e-68</td>\n",
       "      <td>billionaire</td>\n",
       "      <td>1.462992e-72</td>\n",
       "    </tr>\n",
       "    <tr>\n",
       "      <th>1</th>\n",
       "      <td>1</td>\n",
       "      <td>14D</td>\n",
       "      <td>soleimani</td>\n",
       "      <td>1.00000</td>\n",
       "      <td>witness</td>\n",
       "      <td>1.276672e-23</td>\n",
       "      <td>peace</td>\n",
       "      <td>3.945621e-26</td>\n",
       "      <td>iraq</td>\n",
       "      <td>1.104616e-30</td>\n",
       "      <td>terrorist</td>\n",
       "      <td>7.395535e-42</td>\n",
       "    </tr>\n",
       "    <tr>\n",
       "      <th>2</th>\n",
       "      <td>2</td>\n",
       "      <td>14D</td>\n",
       "      <td>coronavirus</td>\n",
       "      <td>NaN</td>\n",
       "      <td>virus</td>\n",
       "      <td>0.000000e+00</td>\n",
       "      <td>pandemic</td>\n",
       "      <td>0.000000e+00</td>\n",
       "      <td>ventilator</td>\n",
       "      <td>0.000000e+00</td>\n",
       "      <td>covid19</td>\n",
       "      <td>0.000000e+00</td>\n",
       "    </tr>\n",
       "  </tbody>\n",
       "</table>\n",
       "</div>"
      ],
      "text/plain": [
       "  topic_id chunksize topic_word_1  normalized_weight_1 topic_word_2  \\\n",
       "0        0       14D    bloomberg              0.92242  coronavirus   \n",
       "1        1       14D    soleimani              1.00000      witness   \n",
       "2        2       14D  coronavirus                  NaN        virus   \n",
       "\n",
       "   normalized_weight_2 topic_word_3  normalized_weight_3 topic_word_4  \\\n",
       "0         7.758027e-02         modi         8.356168e-27        stone   \n",
       "1         1.276672e-23        peace         3.945621e-26         iraq   \n",
       "2         0.000000e+00     pandemic         0.000000e+00   ventilator   \n",
       "\n",
       "   normalized_weight_4 topic_word_5  normalized_weight_5  \n",
       "0         1.626502e-68  billionaire         1.462992e-72  \n",
       "1         1.104616e-30    terrorist         7.395535e-42  \n",
       "2         0.000000e+00      covid19         0.000000e+00  "
      ]
     },
     "execution_count": 59,
     "metadata": {},
     "output_type": "execute_result"
    }
   ],
   "source": [
    "topics_df"
   ]
  },
  {
   "cell_type": "code",
   "execution_count": null,
   "id": "3a7fafb2",
   "metadata": {
    "cell_id": "00108-2486ec78-8836-45a3-9e3a-f827b60fb7d5",
    "deepnote_cell_type": "code",
    "deepnote_output_heights": [
     264
    ]
   },
   "outputs": [
    {
     "data": {
      "text/html": [
       "<div>\n",
       "<style scoped>\n",
       "    .dataframe tbody tr th:only-of-type {\n",
       "        vertical-align: middle;\n",
       "    }\n",
       "\n",
       "    .dataframe tbody tr th {\n",
       "        vertical-align: top;\n",
       "    }\n",
       "\n",
       "    .dataframe thead th {\n",
       "        text-align: right;\n",
       "    }\n",
       "</style>\n",
       "<table border=\"1\" class=\"dataframe\">\n",
       "  <thead>\n",
       "    <tr style=\"text-align: right;\">\n",
       "      <th></th>\n",
       "      <th>start_date</th>\n",
       "      <th>end_date</th>\n",
       "    </tr>\n",
       "  </thead>\n",
       "  <tbody>\n",
       "    <tr>\n",
       "      <th>0</th>\n",
       "      <td>2020-01-01</td>\n",
       "      <td>2020-01-15</td>\n",
       "    </tr>\n",
       "    <tr>\n",
       "      <th>1</th>\n",
       "      <td>2020-01-15</td>\n",
       "      <td>2020-01-29</td>\n",
       "    </tr>\n",
       "    <tr>\n",
       "      <th>2</th>\n",
       "      <td>2020-01-29</td>\n",
       "      <td>2020-02-12</td>\n",
       "    </tr>\n",
       "    <tr>\n",
       "      <th>3</th>\n",
       "      <td>2020-02-12</td>\n",
       "      <td>2020-02-26</td>\n",
       "    </tr>\n",
       "    <tr>\n",
       "      <th>4</th>\n",
       "      <td>2020-02-26</td>\n",
       "      <td>2020-03-11</td>\n",
       "    </tr>\n",
       "    <tr>\n",
       "      <th>5</th>\n",
       "      <td>2020-03-11</td>\n",
       "      <td>2020-03-25</td>\n",
       "    </tr>\n",
       "    <tr>\n",
       "      <th>6</th>\n",
       "      <td>2020-03-25</td>\n",
       "      <td>2020-04-08</td>\n",
       "    </tr>\n",
       "    <tr>\n",
       "      <th>7</th>\n",
       "      <td>2020-04-08</td>\n",
       "      <td>2020-04-22</td>\n",
       "    </tr>\n",
       "  </tbody>\n",
       "</table>\n",
       "</div>"
      ],
      "text/plain": [
       "  start_date   end_date\n",
       "0 2020-01-01 2020-01-15\n",
       "1 2020-01-15 2020-01-29\n",
       "2 2020-01-29 2020-02-12\n",
       "3 2020-02-12 2020-02-26\n",
       "4 2020-02-26 2020-03-11\n",
       "5 2020-03-11 2020-03-25\n",
       "6 2020-03-25 2020-04-08\n",
       "7 2020-04-08 2020-04-22"
      ]
     },
     "execution_count": 60,
     "metadata": {},
     "output_type": "execute_result"
    }
   ],
   "source": [
    "timechunks_df"
   ]
  },
  {
   "cell_type": "markdown",
   "id": "c9ee27df",
   "metadata": {
    "cell_id": "00109-aca7af29-0597-4158-8bc1-8443e52a0406",
    "deepnote_cell_type": "markdown"
   },
   "source": [
    "## 3) Sentiment analysis  <a class=\"anchor\" id=\"II.3\"></a>"
   ]
  },
  {
   "cell_type": "markdown",
   "id": "8407a76f",
   "metadata": {
    "cell_id": "00110-a1141b27-f84a-47e8-a296-e5b43e3d45cd",
    "deepnote_cell_type": "markdown"
   },
   "source": [
    "To analyze quotations about Trump, we will use a pre-trained sentiment analysis model, such as [Flair](https://github.com/flairNLP/flair). Such a model would allow us to classify quotations between positive and negative. We chose to start with Flair because it is pre-trained so we believe it will be easier to get started with. It can also take negations and intensifiers into account, and can work for never seen before and misspelt words. When doing sentiment analysis, we will use the original quotations because word order and stopwords can be important here."
   ]
  },
  {
   "cell_type": "code",
   "execution_count": 5,
   "id": "498196a4",
   "metadata": {
    "cell_id": "00103-d603d8f0-2817-4a19-8cef-6ff9d27616d0",
    "deepnote_cell_type": "code",
    "tags": []
   },
   "outputs": [],
   "source": [
    "# Flair function for sentiment analysis\n",
    "def flair_analysis(quotation):\n",
    "    classifier = flair.models.TextClassifier.load('en-sentiment')\n",
    "    sentence = flair.data.Sentence(quotation)\n",
    "    classifier.predict(sentence)\n",
    "    value = sentence.labels[0].to_dict()['value']\n",
    "    confidence = sentence.labels[0].to_dict()['confidence']\n",
    "    return value, confidence"
   ]
  },
  {
   "cell_type": "code",
   "execution_count": null,
   "id": "ec156b5a-7c4c-4dac-849f-5141e552459c",
   "metadata": {},
   "outputs": [],
   "source": [
    "# Adding columns with sentiment analysis\n",
    "\n",
    "sentiment, SentimentConfidence = [], []\n",
    "\n",
    "for quotation in Trump_about.quotation:\n",
    "    analyse = flair_analysis(quotation)\n",
    "    sentiment.append(analyse[0])\n",
    "    SentimentConfidence.append(analyse[1])\n",
    "\n",
    "Trump_about['Sentiment'], Trump_about['SentimentConfidence'] = sentiment, SentimentConfidence\n",
    "\n",
    "Trump_about"
   ]
  },
  {
   "cell_type": "code",
   "execution_count": null,
   "id": "ea95cbd3",
   "metadata": {
    "cell_id": "00105-d0c33072-c103-4840-bedf-d6f30dc081ab",
    "deepnote_cell_type": "code",
    "tags": []
   },
   "outputs": [],
   "source": [
    "# Checking SentimentConfidence\n",
    "plt.hist(Trump_about.SentimentConfidence, bins=100, histtype='step')\n",
    "plt.xlabel('SentimentConfidence')\n",
    "plt.ylabel('Number of quotations')"
   ]
  },
  {
   "cell_type": "code",
   "execution_count": null,
   "id": "f4319acc-a7f0-4b87-a6e9-940bf747469d",
   "metadata": {},
   "outputs": [],
   "source": [
    "#Tester"
   ]
  },
  {
   "cell_type": "code",
   "execution_count": null,
   "id": "f84d383e",
   "metadata": {
    "cell_id": "00106-30cf9306-6f7b-48dd-ad6a-c1c993aa064e",
    "deepnote_cell_type": "code",
    "tags": []
   },
   "outputs": [],
   "source": [
    "# TODO : enlever les SentimentConfidence trop faible ? => autre tableau\n",
    "indexNames = Trump_about[Trump_about['SentimentConfidence'].apply(lambda x: x<0.5)].index\n",
    "Trump_about.drop(indexNames, inplace=True)"
   ]
  },
  {
   "cell_type": "code",
   "execution_count": null,
   "id": "2114fab4",
   "metadata": {
    "cell_id": "00105-957e9f29-f156-4a9b-9bdc-133200e26285",
    "deepnote_cell_type": "code",
    "tags": []
   },
   "outputs": [],
   "source": [
    "# To convert the pandas DataFrame into pickle\n",
    "Trump_about.to_pickle(\"data/Trump_about.pkl\")"
   ]
  },
  {
   "cell_type": "code",
   "execution_count": null,
   "id": "8f8805dd",
   "metadata": {
    "cell_id": "00106-fb13d122-2276-4940-a0a3-f31cd850b044",
    "deepnote_cell_type": "code",
    "tags": []
   },
   "outputs": [],
   "source": [
    "# To load the pickle file into pandas DataFrame\n",
    "# Trump_about = pd.read_pickle(\"data/Trump_about.pkl\")"
   ]
  },
  {
   "cell_type": "markdown",
   "id": "0be6c55e",
   "metadata": {
    "cell_id": "00111-4585ebc1-05b0-4409-9882-c4d5d556092d",
    "deepnote_cell_type": "markdown"
   },
   "source": [
    "## 4) Additional data  <a class=\"anchor\" id=\"II.4\"></a>"
   ]
  },
  {
   "cell_type": "markdown",
   "id": "21501391",
   "metadata": {
    "cell_id": "00112-822eb757-a063-4a85-bf37-71317a755847",
    "deepnote_cell_type": "markdown"
   },
   "source": [
    "### Approval ratings"
   ]
  },
  {
   "cell_type": "markdown",
   "id": "a95daed9",
   "metadata": {
    "cell_id": "00113-73fb28b6-32d6-4a25-8aa8-e87bdec26612",
    "deepnote_cell_type": "markdown"
   },
   "source": [
    "To be able to better interpret the fluctuations of the sentiments in the quotes about Trump, we chose to use some additional approval rating data. The data comes from https://projects.fivethirtyeight.com/trump-approval-ratings/. We chose this data source for the following reasons: \n",
    "- it aggregates the results of several polls, so it should be more representative\n",
    "- it includes error bars, so we will be able to see if our interpretations are statistically significant\n",
    "\n",
    "Below we load the data into a dataframe and plot it as a line."
   ]
  },
  {
   "cell_type": "code",
   "execution_count": null,
   "id": "070c5368",
   "metadata": {
    "cell_id": "00114-26076dd3-6c58-4e7a-837f-32ef099bd7b7",
    "deepnote_cell_type": "code",
    "deepnote_output_heights": [
     21.1875,
     305
    ]
   },
   "outputs": [
    {
     "data": {
      "text/plain": [
       "[<matplotlib.lines.Line2D at 0x7effced1c3d0>]"
      ]
     },
     "execution_count": 61,
     "metadata": {},
     "output_type": "execute_result"
    },
    {
     "data": {
      "image/png": "[encoded data removed]",
      "text/plain": [
       "<Figure size 1080x360 with 1 Axes>"
      ]
     },
     "metadata": {
      "image/png": {
       "height": 303,
       "width": 871
      },
      "needs_background": "light"
     },
     "output_type": "display_data"
    }
   ],
   "source": [
    "df_approval = pd.read_csv(\"data/approval_topline.csv\")\n",
    "df_approval = df_approval[df_approval.subgroup == \"All polls\"][[\"modeldate\", \"approve_estimate\"]].iloc[::-1].reset_index(drop=True)\n",
    "df_approval[\"modeldate\"] = pd.to_datetime(df_approval[\"modeldate\"])\n",
    "from matplotlib.pyplot import figure\n",
    "figure(figsize=(15, 5))\n",
    "plt.plot(df_approval[\"modeldate\"], df_approval[\"approve_estimate\"])"
   ]
  },
  {
   "cell_type": "markdown",
   "id": "eeacc2c2",
   "metadata": {
    "cell_id": "00115-2d505c7b-8743-44ac-9117-4ace5ab756ab",
    "deepnote_cell_type": "markdown"
   },
   "source": [
    "### Speakers metadata"
   ]
  },
  {
   "cell_type": "code",
   "execution_count": null,
   "id": "2b2dea50",
   "metadata": {
    "cell_id": "00116-a7be5f58-1bdb-4015-b746-31e0c429b33e",
    "deepnote_cell_type": "code"
   },
   "outputs": [
    {
     "name": "stdout",
     "output_type": "stream",
     "text": [
      "Number of unique QIDs in our filtered dataset: 5268\n",
      "Initial number of speakers in metadata: 9055981\n",
      "Number of speakers in our dataset and in the metadata: 5221\n"
     ]
    }
   ],
   "source": [
    "import numpy as np\n",
    "\n",
    "# Get metadata of speaker that appear in our final selection\n",
    "unique_qids = list(np.unique(\n",
    "    np.array(df_select.qids.apply(lambda x: x[0] if len(x) > 0 else None))\n",
    "))\n",
    "print(f'Number of unique QIDs in our filtered dataset: {len(unique_qids)}')\n",
    "metadata_df = pd.read_parquet('data/speaker_attributes.parquet')\n",
    "print(f'Initial number of speakers in metadata: {metadata_df.shape[0]}')\n",
    "metadata_df = metadata_df.loc[metadata_df.id.isin(unique_qids)]\n",
    "print(f'Number of speakers in our dataset and in the metadata: {metadata_df.shape[0]}')"
   ]
  },
  {
   "cell_type": "code",
   "execution_count": null,
   "id": "c0e8578d",
   "metadata": {
    "cell_id": "00117-c0d712b5-c9a8-43d0-8c39-7454b49b0ab4",
    "deepnote_cell_type": "code"
   },
   "outputs": [],
   "source": []
  },
  {
   "cell_type": "markdown",
   "id": "8456c6cb",
   "metadata": {
    "created_in_deepnote_cell": true,
    "deepnote_cell_type": "markdown",
    "tags": []
   },
   "source": [
    "<a style='text-decoration:none;line-height:16px;display:flex;color:#5B5B62;padding:10px;justify-content:end;' href='https://deepnote.com?utm_source=created-in-deepnote-cell&projectId=a2ececd6-aed3-466c-ae72-656f5eb6797f' target=\"_blank\">\n",
    "<img alt='Created in deepnote.com' style='display:inline;max-height:16px;margin:0px;margin-right:7.5px;' src='data:image/svg+xml;base64,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' > </img>\n",
    "Created in <span style='font-weight:600;margin-left:4px;'>Deepnote</span></a>"
   ]
  }
 ],
 "metadata": {
  "deepnote": {},
  "deepnote_execution_queue": [],
  "deepnote_notebook_id": "2a654ca2-5f99-4018-a4b8-d409086c9479",
  "kernelspec": {
   "display_name": "Python [conda env:ada] *",
   "language": "python",
   "name": "conda-env-ada-py"
  },
  "language_info": {
   "codemirror_mode": {
    "name": "ipython",
    "version": 3
   },
   "file_extension": ".py",
   "mimetype": "text/x-python",
   "name": "python",
   "nbconvert_exporter": "python",
   "pygments_lexer": "ipython3",
   "version": "3.8.11"
  }
 },
 "nbformat": 4,
 "nbformat_minor": 5
}
